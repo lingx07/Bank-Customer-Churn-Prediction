{
  "cells": [
    {
      "cell_type": "markdown",
      "metadata": {
        "id": "LnG3fyEMqsMF"
      },
      "source": [
        "# Part 1: Deep Learning-Based Recommendation\n",
        "Read the paper Wide and Deep Learning for Recommender Systems. Download the https://www.kaggle.com/code/jirakst/book-recommendation/input. Based on the architecture described in the paper, build your own Wide and Deep Recommender system for the Book Review dataset. Your model should learn the features of each user and item, not just the associated ID numbers. Utilize an 80/20 train-test split and record your model’s prediction accuracy."
      ]
    },
    {
      "cell_type": "code",
      "execution_count": null,
      "metadata": {
        "id": "oeCVkc0A_qBO"
      },
      "outputs": [],
      "source": [
        "# from google.colab import drive\n",
        "# drive.mount('/content/drive')"
      ]
    },
    {
      "cell_type": "code",
      "execution_count": null,
      "metadata": {
        "id": "7P5QU-v3qr_j"
      },
      "outputs": [],
      "source": [
        "import numpy as np\n",
        "import pandas as pd\n",
        "import seaborn as sns\n",
        "import matplotlib.pyplot as plt\n",
        "import torch\n",
        "from torch.utils.data import Dataset, DataLoader\n",
        "from sklearn.model_selection import train_test_split\n",
        "from sklearn.preprocessing import LabelEncoder\n",
        "import torch.nn as nn\n",
        "import torch.optim as optim\n",
        "from torch_snippets import *\n",
        "from sklearn.preprocessing import LabelEncoder, StandardScaler\n",
        "from tqdm.notebook import tqdm"
      ]
    },
    {
      "cell_type": "code",
      "execution_count": null,
      "metadata": {
        "id": "AXWOH42MVUAi",
        "outputId": "f1ab1a68-afc9-490d-f16c-62b9ddfb29f4"
      },
      "outputs": [
        {
          "data": {
            "text/html": [
              "<pre style=\"white-space:pre;overflow-x:auto;line-height:normal;font-family:Menlo,'DejaVu Sans Mono',consolas,'Courier New',monospace\">Using device: cuda\n",
              "</pre>\n"
            ],
            "text/plain": [
              "Using device: cuda\n"
            ]
          },
          "metadata": {},
          "output_type": "display_data"
        }
      ],
      "source": [
        "# Check if CUDA is available\n",
        "device = torch.device(\"cuda\")\n",
        "print(f\"Using device: {device}\")"
      ]
    },
    {
      "cell_type": "code",
      "execution_count": null,
      "metadata": {
        "id": "zwxS__t6punz"
      },
      "outputs": [],
      "source": [
        "users = pd.read_csv('/home/zeke/Desktop/datacentral/BookCrossing/BX-Users.csv', delimiter=';', encoding = 'ISO-8859-1')"
      ]
    },
    {
      "cell_type": "code",
      "execution_count": null,
      "metadata": {
        "colab": {
          "base_uri": "https://localhost:8080/"
        },
        "id": "d7ti_PybAEHt",
        "outputId": "a9a2e802-ea53-44c0-c064-ccdb8a7fc007"
      },
      "outputs": [
        {
          "name": "stderr",
          "output_type": "stream",
          "text": [
            "/tmp/ipykernel_12539/2193742505.py:1: DtypeWarning: Columns (3) have mixed types. Specify dtype option on import or set low_memory=False.\n",
            "  books = pd.read_csv('/home/zeke/Desktop/datacentral/BookCrossing/BX-Books.csv', delimiter=';', encoding='ISO-8859-1', on_bad_lines='skip')\n"
          ]
        }
      ],
      "source": [
        "books = pd.read_csv('/home/zeke/Desktop/datacentral/BookCrossing/BX-Books.csv', delimiter=';', encoding='ISO-8859-1', on_bad_lines='skip')"
      ]
    },
    {
      "cell_type": "code",
      "execution_count": null,
      "metadata": {
        "id": "RCYa-6BmAIy0"
      },
      "outputs": [],
      "source": [
        "ratings = pd.read_csv('/home/zeke/Desktop/datacentral/BookCrossing/BX-Book-Ratings.csv',  delimiter=';', encoding = 'ISO-8859-1')"
      ]
    },
    {
      "cell_type": "code",
      "execution_count": null,
      "metadata": {
        "colab": {
          "base_uri": "https://localhost:8080/"
        },
        "id": "RIcd7wNZANYS",
        "outputId": "1fce5f7c-0f0a-41bb-c6a7-8b84fd0e128f"
      },
      "outputs": [
        {
          "data": {
            "text/plain": [
              "(278858, 3)"
            ]
          },
          "execution_count": 7,
          "metadata": {},
          "output_type": "execute_result"
        }
      ],
      "source": [
        "users.shape"
      ]
    },
    {
      "cell_type": "code",
      "execution_count": null,
      "metadata": {
        "colab": {
          "base_uri": "https://localhost:8080/"
        },
        "id": "0IvnVa3AASOH",
        "outputId": "ee7f90f6-4c37-490a-f9bd-c632407dc947"
      },
      "outputs": [
        {
          "data": {
            "text/plain": [
              "Index(['User-ID', 'Location', 'Age'], dtype='object')"
            ]
          },
          "execution_count": 8,
          "metadata": {},
          "output_type": "execute_result"
        }
      ],
      "source": [
        "users.columns"
      ]
    },
    {
      "cell_type": "code",
      "execution_count": null,
      "metadata": {
        "colab": {
          "base_uri": "https://localhost:8080/"
        },
        "id": "IjMTUkJsAPmI",
        "outputId": "a000c7b4-0b11-4418-9346-2679645691a0"
      },
      "outputs": [
        {
          "data": {
            "text/plain": [
              "(271360, 8)"
            ]
          },
          "execution_count": 9,
          "metadata": {},
          "output_type": "execute_result"
        }
      ],
      "source": [
        "books.shape"
      ]
    },
    {
      "cell_type": "code",
      "execution_count": null,
      "metadata": {
        "colab": {
          "base_uri": "https://localhost:8080/"
        },
        "id": "IQ9PV_SlAVTs",
        "outputId": "e01837e9-94e7-406e-c98e-ea1de4477d1c"
      },
      "outputs": [
        {
          "data": {
            "text/plain": [
              "Index(['ISBN', 'Book-Title', 'Book-Author', 'Year-Of-Publication', 'Publisher',\n",
              "       'Image-URL-S', 'Image-URL-M', 'Image-URL-L'],\n",
              "      dtype='object')"
            ]
          },
          "execution_count": 10,
          "metadata": {},
          "output_type": "execute_result"
        }
      ],
      "source": [
        "books.columns"
      ]
    },
    {
      "cell_type": "code",
      "execution_count": null,
      "metadata": {
        "colab": {
          "base_uri": "https://localhost:8080/"
        },
        "id": "a6RnzDVZAQuL",
        "outputId": "987d62ed-44cd-4deb-fe43-d2a36ccd33ab"
      },
      "outputs": [
        {
          "data": {
            "text/plain": [
              "(1149780, 3)"
            ]
          },
          "execution_count": 11,
          "metadata": {},
          "output_type": "execute_result"
        }
      ],
      "source": [
        "ratings.shape"
      ]
    },
    {
      "cell_type": "code",
      "execution_count": null,
      "metadata": {
        "colab": {
          "base_uri": "https://localhost:8080/"
        },
        "id": "P4jsRtHBAV1c",
        "outputId": "e0291b4f-2598-45ec-e0e6-df98ef757b4a"
      },
      "outputs": [
        {
          "data": {
            "text/plain": [
              "Index(['User-ID', 'ISBN', 'Book-Rating'], dtype='object')"
            ]
          },
          "execution_count": 12,
          "metadata": {},
          "output_type": "execute_result"
        }
      ],
      "source": [
        "ratings.columns"
      ]
    },
    {
      "cell_type": "code",
      "execution_count": null,
      "metadata": {
        "id": "HfE9r8n2ARsT"
      },
      "outputs": [],
      "source": [
        "data = pd.merge(ratings, users, on='User-ID', how='inner')"
      ]
    },
    {
      "cell_type": "code",
      "execution_count": null,
      "metadata": {
        "id": "uqxuePqvAvZj"
      },
      "outputs": [],
      "source": [
        "data = pd.merge(data, books, on='ISBN', how='inner')"
      ]
    },
    {
      "cell_type": "code",
      "execution_count": null,
      "metadata": {
        "colab": {
          "base_uri": "https://localhost:8080/"
        },
        "id": "9cgKUTJuAxQI",
        "outputId": "5ce1d66e-5d9a-4805-d802-90e20ad77989"
      },
      "outputs": [
        {
          "data": {
            "text/plain": [
              "Index(['User-ID', 'ISBN', 'Book-Rating', 'Location', 'Age', 'Book-Title',\n",
              "       'Book-Author', 'Year-Of-Publication', 'Publisher', 'Image-URL-S',\n",
              "       'Image-URL-M', 'Image-URL-L'],\n",
              "      dtype='object')"
            ]
          },
          "execution_count": 15,
          "metadata": {},
          "output_type": "execute_result"
        }
      ],
      "source": [
        "data.columns"
      ]
    },
    {
      "cell_type": "code",
      "execution_count": null,
      "metadata": {
        "colab": {
          "base_uri": "https://localhost:8080/"
        },
        "id": "6sipFd4JAygN",
        "outputId": "77bad696-dc3c-4e3c-b12e-c85ca4772366"
      },
      "outputs": [
        {
          "name": "stdout",
          "output_type": "stream",
          "text": [
            "<class 'pandas.core.frame.DataFrame'>\n",
            "RangeIndex: 1031136 entries, 0 to 1031135\n",
            "Data columns (total 9 columns):\n",
            " #   Column               Non-Null Count    Dtype  \n",
            "---  ------               --------------    -----  \n",
            " 0   User-ID              1031136 non-null  int64  \n",
            " 1   ISBN                 1031136 non-null  object \n",
            " 2   Book-Rating          1031136 non-null  int64  \n",
            " 3   Location             1031136 non-null  object \n",
            " 4   Age                  753301 non-null   float64\n",
            " 5   Book-Title           1031136 non-null  object \n",
            " 6   Book-Author          1031134 non-null  object \n",
            " 7   Year-Of-Publication  1031136 non-null  object \n",
            " 8   Publisher            1031134 non-null  object \n",
            "dtypes: float64(1), int64(2), object(6)\n",
            "memory usage: 70.8+ MB\n"
          ]
        }
      ],
      "source": [
        "to_drop = ['Image-URL-S', 'Image-URL-M', 'Image-URL-L']\n",
        "\n",
        "data = data.drop(to_drop, axis=1, inplace=False)\n",
        "data.info()"
      ]
    },
    {
      "cell_type": "code",
      "execution_count": null,
      "metadata": {
        "colab": {
          "base_uri": "https://localhost:8080/"
        },
        "id": "ZLYRn4JbA1Rz",
        "outputId": "e65784c7-8aea-4bb1-b67f-8829341b14cd"
      },
      "outputs": [
        {
          "data": {
            "text/plain": [
              "(1031136, 9)"
            ]
          },
          "execution_count": 17,
          "metadata": {},
          "output_type": "execute_result"
        }
      ],
      "source": [
        "data.shape"
      ]
    },
    {
      "cell_type": "code",
      "execution_count": null,
      "metadata": {
        "colab": {
          "base_uri": "https://localhost:8080/",
          "height": 362
        },
        "id": "51yWfSHtA_1c",
        "outputId": "a3964a63-bc87-4591-af65-8244ff2eadb0"
      },
      "outputs": [
        {
          "data": {
            "text/html": [
              "<div>\n",
              "<style scoped>\n",
              "    .dataframe tbody tr th:only-of-type {\n",
              "        vertical-align: middle;\n",
              "    }\n",
              "\n",
              "    .dataframe tbody tr th {\n",
              "        vertical-align: top;\n",
              "    }\n",
              "\n",
              "    .dataframe thead th {\n",
              "        text-align: right;\n",
              "    }\n",
              "</style>\n",
              "<table border=\"1\" class=\"dataframe\">\n",
              "  <thead>\n",
              "    <tr style=\"text-align: right;\">\n",
              "      <th></th>\n",
              "      <th>User-ID</th>\n",
              "      <th>ISBN</th>\n",
              "      <th>Book-Rating</th>\n",
              "      <th>Location</th>\n",
              "      <th>Age</th>\n",
              "      <th>Book-Title</th>\n",
              "      <th>Book-Author</th>\n",
              "      <th>Year-Of-Publication</th>\n",
              "      <th>Publisher</th>\n",
              "    </tr>\n",
              "  </thead>\n",
              "  <tbody>\n",
              "    <tr>\n",
              "      <th>0</th>\n",
              "      <td>276725</td>\n",
              "      <td>034545104X</td>\n",
              "      <td>0</td>\n",
              "      <td>tyler, texas, usa</td>\n",
              "      <td>NaN</td>\n",
              "      <td>Flesh Tones: A Novel</td>\n",
              "      <td>M. J. Rose</td>\n",
              "      <td>2002</td>\n",
              "      <td>Ballantine Books</td>\n",
              "    </tr>\n",
              "    <tr>\n",
              "      <th>1</th>\n",
              "      <td>276726</td>\n",
              "      <td>0155061224</td>\n",
              "      <td>5</td>\n",
              "      <td>seattle, washington, usa</td>\n",
              "      <td>NaN</td>\n",
              "      <td>Rites of Passage</td>\n",
              "      <td>Judith Rae</td>\n",
              "      <td>2001</td>\n",
              "      <td>Heinle</td>\n",
              "    </tr>\n",
              "    <tr>\n",
              "      <th>2</th>\n",
              "      <td>276727</td>\n",
              "      <td>0446520802</td>\n",
              "      <td>0</td>\n",
              "      <td>h, new south wales, australia</td>\n",
              "      <td>16.0</td>\n",
              "      <td>The Notebook</td>\n",
              "      <td>Nicholas Sparks</td>\n",
              "      <td>1996</td>\n",
              "      <td>Warner Books</td>\n",
              "    </tr>\n",
              "    <tr>\n",
              "      <th>3</th>\n",
              "      <td>276729</td>\n",
              "      <td>052165615X</td>\n",
              "      <td>3</td>\n",
              "      <td>rijeka, n/a, croatia</td>\n",
              "      <td>16.0</td>\n",
              "      <td>Help!: Level 1</td>\n",
              "      <td>Philip Prowse</td>\n",
              "      <td>1999</td>\n",
              "      <td>Cambridge University Press</td>\n",
              "    </tr>\n",
              "    <tr>\n",
              "      <th>4</th>\n",
              "      <td>276729</td>\n",
              "      <td>0521795028</td>\n",
              "      <td>6</td>\n",
              "      <td>rijeka, n/a, croatia</td>\n",
              "      <td>16.0</td>\n",
              "      <td>The Amsterdam Connection : Level 4 (Cambridge ...</td>\n",
              "      <td>Sue Leather</td>\n",
              "      <td>2001</td>\n",
              "      <td>Cambridge University Press</td>\n",
              "    </tr>\n",
              "    <tr>\n",
              "      <th>5</th>\n",
              "      <td>276733</td>\n",
              "      <td>2080674722</td>\n",
              "      <td>0</td>\n",
              "      <td>paris, n/a, france</td>\n",
              "      <td>37.0</td>\n",
              "      <td>Les Particules Elementaires</td>\n",
              "      <td>Michel Houellebecq</td>\n",
              "      <td>1998</td>\n",
              "      <td>Flammarion</td>\n",
              "    </tr>\n",
              "    <tr>\n",
              "      <th>6</th>\n",
              "      <td>276744</td>\n",
              "      <td>038550120X</td>\n",
              "      <td>7</td>\n",
              "      <td>torrance, california, usa</td>\n",
              "      <td>NaN</td>\n",
              "      <td>A Painted House</td>\n",
              "      <td>JOHN GRISHAM</td>\n",
              "      <td>2001</td>\n",
              "      <td>Doubleday</td>\n",
              "    </tr>\n",
              "    <tr>\n",
              "      <th>7</th>\n",
              "      <td>276746</td>\n",
              "      <td>0425115801</td>\n",
              "      <td>0</td>\n",
              "      <td>fort worth, ,</td>\n",
              "      <td>NaN</td>\n",
              "      <td>Lightning</td>\n",
              "      <td>Dean R. Koontz</td>\n",
              "      <td>1996</td>\n",
              "      <td>Berkley Publishing Group</td>\n",
              "    </tr>\n",
              "    <tr>\n",
              "      <th>8</th>\n",
              "      <td>276746</td>\n",
              "      <td>0449006522</td>\n",
              "      <td>0</td>\n",
              "      <td>fort worth, ,</td>\n",
              "      <td>NaN</td>\n",
              "      <td>Manhattan Hunt Club</td>\n",
              "      <td>JOHN SAUL</td>\n",
              "      <td>2002</td>\n",
              "      <td>Ballantine Books</td>\n",
              "    </tr>\n",
              "    <tr>\n",
              "      <th>9</th>\n",
              "      <td>276746</td>\n",
              "      <td>0553561618</td>\n",
              "      <td>0</td>\n",
              "      <td>fort worth, ,</td>\n",
              "      <td>NaN</td>\n",
              "      <td>Dark Paradise</td>\n",
              "      <td>TAMI HOAG</td>\n",
              "      <td>1994</td>\n",
              "      <td>Bantam</td>\n",
              "    </tr>\n",
              "  </tbody>\n",
              "</table>\n",
              "</div>"
            ],
            "text/plain": [
              "   User-ID        ISBN  Book-Rating                       Location   Age  \\\n",
              "0   276725  034545104X            0              tyler, texas, usa   NaN   \n",
              "1   276726  0155061224            5       seattle, washington, usa   NaN   \n",
              "2   276727  0446520802            0  h, new south wales, australia  16.0   \n",
              "3   276729  052165615X            3           rijeka, n/a, croatia  16.0   \n",
              "4   276729  0521795028            6           rijeka, n/a, croatia  16.0   \n",
              "5   276733  2080674722            0             paris, n/a, france  37.0   \n",
              "6   276744  038550120X            7      torrance, california, usa   NaN   \n",
              "7   276746  0425115801            0                  fort worth, ,   NaN   \n",
              "8   276746  0449006522            0                  fort worth, ,   NaN   \n",
              "9   276746  0553561618            0                  fort worth, ,   NaN   \n",
              "\n",
              "                                          Book-Title         Book-Author  \\\n",
              "0                               Flesh Tones: A Novel          M. J. Rose   \n",
              "1                                   Rites of Passage          Judith Rae   \n",
              "2                                       The Notebook     Nicholas Sparks   \n",
              "3                                     Help!: Level 1       Philip Prowse   \n",
              "4  The Amsterdam Connection : Level 4 (Cambridge ...         Sue Leather   \n",
              "5                        Les Particules Elementaires  Michel Houellebecq   \n",
              "6                                    A Painted House        JOHN GRISHAM   \n",
              "7                                          Lightning      Dean R. Koontz   \n",
              "8                                Manhattan Hunt Club           JOHN SAUL   \n",
              "9                                      Dark Paradise           TAMI HOAG   \n",
              "\n",
              "  Year-Of-Publication                   Publisher  \n",
              "0                2002            Ballantine Books  \n",
              "1                2001                      Heinle  \n",
              "2                1996                Warner Books  \n",
              "3                1999  Cambridge University Press  \n",
              "4                2001  Cambridge University Press  \n",
              "5                1998                  Flammarion  \n",
              "6                2001                   Doubleday  \n",
              "7                1996    Berkley Publishing Group  \n",
              "8                2002            Ballantine Books  \n",
              "9                1994                      Bantam  "
            ]
          },
          "execution_count": 18,
          "metadata": {},
          "output_type": "execute_result"
        }
      ],
      "source": [
        "data.head(10)"
      ]
    },
    {
      "cell_type": "code",
      "execution_count": null,
      "metadata": {
        "colab": {
          "base_uri": "https://localhost:8080/"
        },
        "id": "3-5khm87BQta",
        "outputId": "d12c83db-22db-4ae0-ce32-1956917f1a0d"
      },
      "outputs": [
        {
          "data": {
            "text/html": [
              "<pre style=\"white-space:pre;overflow-x:auto;line-height:normal;font-family:Menlo,'DejaVu Sans Mono',consolas,'Courier New',monospace\">Number of books:  <span style=\"color: #008080; text-decoration-color: #008080; font-weight: bold\">270151</span>\n",
              "</pre>\n"
            ],
            "text/plain": [
              "Number of books:  \u001b[1;36m270151\u001b[0m\n"
            ]
          },
          "metadata": {},
          "output_type": "display_data"
        }
      ],
      "source": [
        "print('Number of books: ', data['ISBN'].nunique())"
      ]
    },
    {
      "cell_type": "code",
      "execution_count": null,
      "metadata": {
        "colab": {
          "base_uri": "https://localhost:8080/"
        },
        "id": "bfYtBXmYBUgr",
        "outputId": "cb760f4a-77b0-4f51-a659-1a958f1f7b02"
      },
      "outputs": [
        {
          "data": {
            "text/html": [
              "<pre style=\"white-space:pre;overflow-x:auto;line-height:normal;font-family:Menlo,'DejaVu Sans Mono',consolas,'Courier New',monospace\">Number of users:  <span style=\"color: #008080; text-decoration-color: #008080; font-weight: bold\">92106</span>\n",
              "</pre>\n"
            ],
            "text/plain": [
              "Number of users:  \u001b[1;36m92106\u001b[0m\n"
            ]
          },
          "metadata": {},
          "output_type": "display_data"
        }
      ],
      "source": [
        "print('Number of users: ',data['User-ID'].nunique())"
      ]
    },
    {
      "cell_type": "code",
      "execution_count": null,
      "metadata": {
        "colab": {
          "base_uri": "https://localhost:8080/"
        },
        "id": "8vK_y_VxBV9e",
        "outputId": "dee49387-b0be-4ac4-bec5-9b194951b55b"
      },
      "outputs": [
        {
          "data": {
            "text/html": [
              "<pre style=\"white-space:pre;overflow-x:auto;line-height:normal;font-family:Menlo,'DejaVu Sans Mono',consolas,'Courier New',monospace\">Missing data <span style=\"font-weight: bold\">[</span>%<span style=\"font-weight: bold\">]</span>\n",
              "</pre>\n"
            ],
            "text/plain": [
              "Missing data \u001b[1m[\u001b[0m%\u001b[1m]\u001b[0m\n"
            ]
          },
          "metadata": {},
          "output_type": "display_data"
        },
        {
          "data": {
            "text/plain": [
              "User-ID                 0.0000\n",
              "ISBN                    0.0000\n",
              "Book-Rating             0.0000\n",
              "Location                0.0000\n",
              "Age                    26.9446\n",
              "Book-Title              0.0000\n",
              "Book-Author             0.0002\n",
              "Year-Of-Publication     0.0000\n",
              "Publisher               0.0002\n",
              "dtype: float64"
            ]
          },
          "execution_count": 21,
          "metadata": {},
          "output_type": "execute_result"
        }
      ],
      "source": [
        "print('Missing data [%]')\n",
        "round(data.isnull().sum() / len(data) * 100, 4)"
      ]
    },
    {
      "cell_type": "code",
      "execution_count": null,
      "metadata": {
        "id": "8hdK55JyC9IP"
      },
      "outputs": [],
      "source": [
        "# Cast to numeric\n",
        "data['Year-Of-Publication'] = pd.to_numeric(data['Year-Of-Publication'], errors='coerce')\n",
        "data['Year-Of-Publication'] = data['Year-Of-Publication'].fillna(2099).astype(int)\n"
      ]
    },
    {
      "cell_type": "code",
      "execution_count": null,
      "metadata": {
        "id": "WgJONNyUDK-N"
      },
      "outputs": [],
      "source": [
        "data['Book-Rating'] = data['Book-Rating'].replace(0, None)"
      ]
    },
    {
      "cell_type": "code",
      "execution_count": null,
      "metadata": {
        "id": "8n8hKKX3DM_0"
      },
      "outputs": [],
      "source": [
        "data['Age'] = np.where(data['Age']>90, None, data['Age'])"
      ]
    },
    {
      "cell_type": "code",
      "execution_count": null,
      "metadata": {
        "id": "oDzRUQr9DOu2"
      },
      "outputs": [],
      "source": [
        "data[['Book-Author', 'Publisher']] = data[['Book-Author', 'Publisher']].fillna('Unknown')"
      ]
    },
    {
      "cell_type": "code",
      "execution_count": null,
      "metadata": {
        "colab": {
          "base_uri": "https://localhost:8080/"
        },
        "id": "Xf58HnuNDQwa",
        "outputId": "30e76ae0-031f-444e-ba6a-c587010634aa"
      },
      "outputs": [
        {
          "data": {
            "text/plain": [
              "Book-Author    0\n",
              "Publisher      0\n",
              "dtype: int64"
            ]
          },
          "execution_count": 26,
          "metadata": {},
          "output_type": "execute_result"
        }
      ],
      "source": [
        "data[['Book-Author', 'Publisher']].isnull().sum()"
      ]
    },
    {
      "cell_type": "code",
      "execution_count": null,
      "metadata": {
        "id": "FV82zWTrBtsp"
      },
      "outputs": [],
      "source": [
        "median = data[\"Age\"].median()\n",
        "std = data[\"Age\"].std()\n",
        "is_null = data[\"Age\"].isnull().sum()\n",
        "rand_age = np.random.randint(median - std, median + std, size = is_null)\n",
        "age_slice = data[\"Age\"].copy()\n",
        "age_slice[pd.isnull(age_slice)] = rand_age\n",
        "data[\"Age\"] = age_slice\n",
        "data[\"Age\"] = data[\"Age\"].astype(int)"
      ]
    },
    {
      "cell_type": "code",
      "execution_count": null,
      "metadata": {
        "colab": {
          "base_uri": "https://localhost:8080/"
        },
        "id": "2iu00x4sDUEn",
        "outputId": "225a87ec-4d60-406b-c4d1-df8b275de617"
      },
      "outputs": [
        {
          "data": {
            "text/plain": [
              "0"
            ]
          },
          "execution_count": 28,
          "metadata": {},
          "output_type": "execute_result"
        }
      ],
      "source": [
        "data['Age'].isnull().sum()"
      ]
    },
    {
      "cell_type": "code",
      "execution_count": null,
      "metadata": {
        "colab": {
          "base_uri": "https://localhost:8080/"
        },
        "id": "KUq-C53XDiuZ",
        "outputId": "626b33c0-6af7-4708-aaf0-7cb3f230bb17"
      },
      "outputs": [
        {
          "name": "stdout",
          "output_type": "stream",
          "text": [
            "<class 'pandas.core.frame.DataFrame'>\n",
            "RangeIndex: 1031136 entries, 0 to 1031135\n",
            "Data columns (total 9 columns):\n",
            " #   Column               Non-Null Count    Dtype \n",
            "---  ------               --------------    ----- \n",
            " 0   User-ID              1031136 non-null  int64 \n",
            " 1   ISBN                 1031136 non-null  object\n",
            " 2   Book-Rating          383842 non-null   object\n",
            " 3   Location             1031136 non-null  object\n",
            " 4   Age                  1031136 non-null  int64 \n",
            " 5   Book-Title           1031136 non-null  object\n",
            " 6   Book-Author          1031136 non-null  object\n",
            " 7   Year-Of-Publication  1031136 non-null  int64 \n",
            " 8   Publisher            1031136 non-null  object\n",
            "dtypes: int64(3), object(6)\n",
            "memory usage: 70.8+ MB\n"
          ]
        }
      ],
      "source": [
        "data.info()"
      ]
    },
    {
      "cell_type": "code",
      "execution_count": null,
      "metadata": {
        "colab": {
          "base_uri": "https://localhost:8080/",
          "height": 519
        },
        "id": "PNrgA_k2Cljr",
        "outputId": "1b5354d0-2695-4cd3-a242-eee265b02e0f"
      },
      "outputs": [
        {
          "data": {
            "text/html": [
              "<div>\n",
              "<style scoped>\n",
              "    .dataframe tbody tr th:only-of-type {\n",
              "        vertical-align: middle;\n",
              "    }\n",
              "\n",
              "    .dataframe tbody tr th {\n",
              "        vertical-align: top;\n",
              "    }\n",
              "\n",
              "    .dataframe thead th {\n",
              "        text-align: right;\n",
              "    }\n",
              "</style>\n",
              "<table border=\"1\" class=\"dataframe\">\n",
              "  <thead>\n",
              "    <tr style=\"text-align: right;\">\n",
              "      <th></th>\n",
              "      <th>User-ID</th>\n",
              "      <th>ISBN</th>\n",
              "      <th>Book-Rating</th>\n",
              "      <th>Location</th>\n",
              "      <th>Age</th>\n",
              "      <th>Book-Title</th>\n",
              "      <th>Book-Author</th>\n",
              "      <th>Year-Of-Publication</th>\n",
              "      <th>Publisher</th>\n",
              "    </tr>\n",
              "  </thead>\n",
              "  <tbody>\n",
              "    <tr>\n",
              "      <th>0</th>\n",
              "      <td>276725</td>\n",
              "      <td>034545104X</td>\n",
              "      <td>None</td>\n",
              "      <td>tyler, texas, usa</td>\n",
              "      <td>46</td>\n",
              "      <td>Flesh Tones: A Novel</td>\n",
              "      <td>M. J. Rose</td>\n",
              "      <td>2002</td>\n",
              "      <td>Ballantine Books</td>\n",
              "    </tr>\n",
              "    <tr>\n",
              "      <th>1</th>\n",
              "      <td>276726</td>\n",
              "      <td>0155061224</td>\n",
              "      <td>5</td>\n",
              "      <td>seattle, washington, usa</td>\n",
              "      <td>34</td>\n",
              "      <td>Rites of Passage</td>\n",
              "      <td>Judith Rae</td>\n",
              "      <td>2001</td>\n",
              "      <td>Heinle</td>\n",
              "    </tr>\n",
              "    <tr>\n",
              "      <th>2</th>\n",
              "      <td>276727</td>\n",
              "      <td>0446520802</td>\n",
              "      <td>None</td>\n",
              "      <td>h, new south wales, australia</td>\n",
              "      <td>16</td>\n",
              "      <td>The Notebook</td>\n",
              "      <td>Nicholas Sparks</td>\n",
              "      <td>1996</td>\n",
              "      <td>Warner Books</td>\n",
              "    </tr>\n",
              "    <tr>\n",
              "      <th>3</th>\n",
              "      <td>276729</td>\n",
              "      <td>052165615X</td>\n",
              "      <td>3</td>\n",
              "      <td>rijeka, n/a, croatia</td>\n",
              "      <td>16</td>\n",
              "      <td>Help!: Level 1</td>\n",
              "      <td>Philip Prowse</td>\n",
              "      <td>1999</td>\n",
              "      <td>Cambridge University Press</td>\n",
              "    </tr>\n",
              "    <tr>\n",
              "      <th>4</th>\n",
              "      <td>276729</td>\n",
              "      <td>0521795028</td>\n",
              "      <td>6</td>\n",
              "      <td>rijeka, n/a, croatia</td>\n",
              "      <td>16</td>\n",
              "      <td>The Amsterdam Connection : Level 4 (Cambridge ...</td>\n",
              "      <td>Sue Leather</td>\n",
              "      <td>2001</td>\n",
              "      <td>Cambridge University Press</td>\n",
              "    </tr>\n",
              "    <tr>\n",
              "      <th>5</th>\n",
              "      <td>276733</td>\n",
              "      <td>2080674722</td>\n",
              "      <td>None</td>\n",
              "      <td>paris, n/a, france</td>\n",
              "      <td>37</td>\n",
              "      <td>Les Particules Elementaires</td>\n",
              "      <td>Michel Houellebecq</td>\n",
              "      <td>1998</td>\n",
              "      <td>Flammarion</td>\n",
              "    </tr>\n",
              "    <tr>\n",
              "      <th>6</th>\n",
              "      <td>276744</td>\n",
              "      <td>038550120X</td>\n",
              "      <td>7</td>\n",
              "      <td>torrance, california, usa</td>\n",
              "      <td>23</td>\n",
              "      <td>A Painted House</td>\n",
              "      <td>JOHN GRISHAM</td>\n",
              "      <td>2001</td>\n",
              "      <td>Doubleday</td>\n",
              "    </tr>\n",
              "    <tr>\n",
              "      <th>7</th>\n",
              "      <td>276746</td>\n",
              "      <td>0425115801</td>\n",
              "      <td>None</td>\n",
              "      <td>fort worth, ,</td>\n",
              "      <td>24</td>\n",
              "      <td>Lightning</td>\n",
              "      <td>Dean R. Koontz</td>\n",
              "      <td>1996</td>\n",
              "      <td>Berkley Publishing Group</td>\n",
              "    </tr>\n",
              "    <tr>\n",
              "      <th>8</th>\n",
              "      <td>276746</td>\n",
              "      <td>0449006522</td>\n",
              "      <td>None</td>\n",
              "      <td>fort worth, ,</td>\n",
              "      <td>25</td>\n",
              "      <td>Manhattan Hunt Club</td>\n",
              "      <td>JOHN SAUL</td>\n",
              "      <td>2002</td>\n",
              "      <td>Ballantine Books</td>\n",
              "    </tr>\n",
              "    <tr>\n",
              "      <th>9</th>\n",
              "      <td>276746</td>\n",
              "      <td>0553561618</td>\n",
              "      <td>None</td>\n",
              "      <td>fort worth, ,</td>\n",
              "      <td>24</td>\n",
              "      <td>Dark Paradise</td>\n",
              "      <td>TAMI HOAG</td>\n",
              "      <td>1994</td>\n",
              "      <td>Bantam</td>\n",
              "    </tr>\n",
              "    <tr>\n",
              "      <th>10</th>\n",
              "      <td>276746</td>\n",
              "      <td>055356451X</td>\n",
              "      <td>None</td>\n",
              "      <td>fort worth, ,</td>\n",
              "      <td>30</td>\n",
              "      <td>Night Sins</td>\n",
              "      <td>TAMI HOAG</td>\n",
              "      <td>1995</td>\n",
              "      <td>Bantam</td>\n",
              "    </tr>\n",
              "    <tr>\n",
              "      <th>11</th>\n",
              "      <td>276746</td>\n",
              "      <td>0786013990</td>\n",
              "      <td>None</td>\n",
              "      <td>fort worth, ,</td>\n",
              "      <td>30</td>\n",
              "      <td>At the Edge</td>\n",
              "      <td>David Dun</td>\n",
              "      <td>2002</td>\n",
              "      <td>Pinnacle Books</td>\n",
              "    </tr>\n",
              "    <tr>\n",
              "      <th>12</th>\n",
              "      <td>276746</td>\n",
              "      <td>0786014512</td>\n",
              "      <td>None</td>\n",
              "      <td>fort worth, ,</td>\n",
              "      <td>32</td>\n",
              "      <td>Make Them Cry</td>\n",
              "      <td>Kevin O'Brien</td>\n",
              "      <td>2002</td>\n",
              "      <td>Pinnacle Books</td>\n",
              "    </tr>\n",
              "    <tr>\n",
              "      <th>13</th>\n",
              "      <td>276747</td>\n",
              "      <td>0060517794</td>\n",
              "      <td>9</td>\n",
              "      <td>iowa city, iowa, usa</td>\n",
              "      <td>25</td>\n",
              "      <td>Little Altars Everywhere</td>\n",
              "      <td>Rebecca Wells</td>\n",
              "      <td>2003</td>\n",
              "      <td>HarperTorch</td>\n",
              "    </tr>\n",
              "    <tr>\n",
              "      <th>14</th>\n",
              "      <td>276747</td>\n",
              "      <td>0451192001</td>\n",
              "      <td>None</td>\n",
              "      <td>iowa city, iowa, usa</td>\n",
              "      <td>25</td>\n",
              "      <td>How Stella Got Her Groove Back</td>\n",
              "      <td>Terry McMillan</td>\n",
              "      <td>1997</td>\n",
              "      <td>Signet Book</td>\n",
              "    </tr>\n",
              "  </tbody>\n",
              "</table>\n",
              "</div>"
            ],
            "text/plain": [
              "    User-ID        ISBN Book-Rating                       Location  Age  \\\n",
              "0    276725  034545104X        None              tyler, texas, usa   46   \n",
              "1    276726  0155061224           5       seattle, washington, usa   34   \n",
              "2    276727  0446520802        None  h, new south wales, australia   16   \n",
              "3    276729  052165615X           3           rijeka, n/a, croatia   16   \n",
              "4    276729  0521795028           6           rijeka, n/a, croatia   16   \n",
              "5    276733  2080674722        None             paris, n/a, france   37   \n",
              "6    276744  038550120X           7      torrance, california, usa   23   \n",
              "7    276746  0425115801        None                  fort worth, ,   24   \n",
              "8    276746  0449006522        None                  fort worth, ,   25   \n",
              "9    276746  0553561618        None                  fort worth, ,   24   \n",
              "10   276746  055356451X        None                  fort worth, ,   30   \n",
              "11   276746  0786013990        None                  fort worth, ,   30   \n",
              "12   276746  0786014512        None                  fort worth, ,   32   \n",
              "13   276747  0060517794           9           iowa city, iowa, usa   25   \n",
              "14   276747  0451192001        None           iowa city, iowa, usa   25   \n",
              "\n",
              "                                           Book-Title         Book-Author  \\\n",
              "0                                Flesh Tones: A Novel          M. J. Rose   \n",
              "1                                    Rites of Passage          Judith Rae   \n",
              "2                                        The Notebook     Nicholas Sparks   \n",
              "3                                      Help!: Level 1       Philip Prowse   \n",
              "4   The Amsterdam Connection : Level 4 (Cambridge ...         Sue Leather   \n",
              "5                         Les Particules Elementaires  Michel Houellebecq   \n",
              "6                                     A Painted House        JOHN GRISHAM   \n",
              "7                                           Lightning      Dean R. Koontz   \n",
              "8                                 Manhattan Hunt Club           JOHN SAUL   \n",
              "9                                       Dark Paradise           TAMI HOAG   \n",
              "10                                         Night Sins           TAMI HOAG   \n",
              "11                                        At the Edge           David Dun   \n",
              "12                                      Make Them Cry       Kevin O'Brien   \n",
              "13                           Little Altars Everywhere       Rebecca Wells   \n",
              "14                     How Stella Got Her Groove Back      Terry McMillan   \n",
              "\n",
              "    Year-Of-Publication                   Publisher  \n",
              "0                  2002            Ballantine Books  \n",
              "1                  2001                      Heinle  \n",
              "2                  1996                Warner Books  \n",
              "3                  1999  Cambridge University Press  \n",
              "4                  2001  Cambridge University Press  \n",
              "5                  1998                  Flammarion  \n",
              "6                  2001                   Doubleday  \n",
              "7                  1996    Berkley Publishing Group  \n",
              "8                  2002            Ballantine Books  \n",
              "9                  1994                      Bantam  \n",
              "10                 1995                      Bantam  \n",
              "11                 2002              Pinnacle Books  \n",
              "12                 2002              Pinnacle Books  \n",
              "13                 2003                 HarperTorch  \n",
              "14                 1997                 Signet Book  "
            ]
          },
          "execution_count": 30,
          "metadata": {},
          "output_type": "execute_result"
        }
      ],
      "source": [
        "data.head(15)"
      ]
    },
    {
      "cell_type": "code",
      "execution_count": null,
      "metadata": {
        "id": "RbJCeVYyDeq4"
      },
      "outputs": [],
      "source": [
        "df = pd.DataFrame(data)"
      ]
    },
    {
      "cell_type": "code",
      "execution_count": null,
      "metadata": {
        "id": "CmNA_iaXEmK_",
        "outputId": "49e7ecf5-c37e-4c30-93ea-8b2bf60538e7"
      },
      "outputs": [
        {
          "name": "stderr",
          "output_type": "stream",
          "text": [
            "/tmp/ipykernel_12539/2184086145.py:1: FutureWarning: Downcasting object dtype arrays on .fillna, .ffill, .bfill is deprecated and will change in a future version. Call result.infer_objects(copy=False) instead. To opt-in to the future behavior, set `pd.set_option('future.no_silent_downcasting', True)`\n",
            "  df['Book-Rating'] = df['Book-Rating'].fillna(df['Book-Rating'].median())\n"
          ]
        }
      ],
      "source": [
        "df['Book-Rating'] = df['Book-Rating'].fillna(df['Book-Rating'].median())\n",
        "user_encoder = LabelEncoder()\n",
        "df['User-ID'] = user_encoder.fit_transform(df['User-ID'])\n",
        "isbn_encoder = LabelEncoder()\n",
        "df['ISBN'] = isbn_encoder.fit_transform(df['ISBN'])"
      ]
    },
    {
      "cell_type": "code",
      "execution_count": null,
      "metadata": {
        "id": "LHwni4R3FExH"
      },
      "outputs": [],
      "source": [
        "# Encode categorical variables\n",
        "user_encoder = LabelEncoder()\n",
        "df['User-ID'] = user_encoder.fit_transform(df['User-ID'])\n",
        "isbn_encoder = LabelEncoder()\n",
        "df['ISBN'] = isbn_encoder.fit_transform(df['ISBN'])"
      ]
    },
    {
      "cell_type": "code",
      "execution_count": null,
      "metadata": {
        "id": "56VOQcJ0EwdC",
        "outputId": "c41d1da8-3139-465d-fe32-8cad555f85e0"
      },
      "outputs": [
        {
          "data": {
            "text/html": [
              "<div>\n",
              "<style scoped>\n",
              "    .dataframe tbody tr th:only-of-type {\n",
              "        vertical-align: middle;\n",
              "    }\n",
              "\n",
              "    .dataframe tbody tr th {\n",
              "        vertical-align: top;\n",
              "    }\n",
              "\n",
              "    .dataframe thead th {\n",
              "        text-align: right;\n",
              "    }\n",
              "</style>\n",
              "<table border=\"1\" class=\"dataframe\">\n",
              "  <thead>\n",
              "    <tr style=\"text-align: right;\">\n",
              "      <th></th>\n",
              "      <th>User-ID</th>\n",
              "      <th>ISBN</th>\n",
              "      <th>Book-Rating</th>\n",
              "      <th>Location</th>\n",
              "      <th>Age</th>\n",
              "      <th>Book-Title</th>\n",
              "      <th>Book-Author</th>\n",
              "      <th>Year-Of-Publication</th>\n",
              "      <th>Publisher</th>\n",
              "    </tr>\n",
              "  </thead>\n",
              "  <tbody>\n",
              "    <tr>\n",
              "      <th>0</th>\n",
              "      <td>91362</td>\n",
              "      <td>45921</td>\n",
              "      <td>8.0</td>\n",
              "      <td>tyler, texas, usa</td>\n",
              "      <td>0.886300</td>\n",
              "      <td>Flesh Tones: A Novel</td>\n",
              "      <td>M. J. Rose</td>\n",
              "      <td>0.146276</td>\n",
              "      <td>Ballantine Books</td>\n",
              "    </tr>\n",
              "    <tr>\n",
              "      <th>1</th>\n",
              "      <td>91363</td>\n",
              "      <td>22731</td>\n",
              "      <td>5.0</td>\n",
              "      <td>seattle, washington, usa</td>\n",
              "      <td>-0.193852</td>\n",
              "      <td>Rites of Passage</td>\n",
              "      <td>Judith Rae</td>\n",
              "      <td>0.141949</td>\n",
              "      <td>Heinle</td>\n",
              "    </tr>\n",
              "    <tr>\n",
              "      <th>2</th>\n",
              "      <td>91364</td>\n",
              "      <td>92659</td>\n",
              "      <td>8.0</td>\n",
              "      <td>h, new south wales, australia</td>\n",
              "      <td>-1.814080</td>\n",
              "      <td>The Notebook</td>\n",
              "      <td>Nicholas Sparks</td>\n",
              "      <td>0.120313</td>\n",
              "      <td>Warner Books</td>\n",
              "    </tr>\n",
              "    <tr>\n",
              "      <th>3</th>\n",
              "      <td>91365</td>\n",
              "      <td>111478</td>\n",
              "      <td>3.0</td>\n",
              "      <td>rijeka, n/a, croatia</td>\n",
              "      <td>-1.814080</td>\n",
              "      <td>Help!: Level 1</td>\n",
              "      <td>Philip Prowse</td>\n",
              "      <td>0.133295</td>\n",
              "      <td>Cambridge University Press</td>\n",
              "    </tr>\n",
              "    <tr>\n",
              "      <th>4</th>\n",
              "      <td>91365</td>\n",
              "      <td>111512</td>\n",
              "      <td>6.0</td>\n",
              "      <td>rijeka, n/a, croatia</td>\n",
              "      <td>-1.814080</td>\n",
              "      <td>The Amsterdam Connection : Level 4 (Cambridge ...</td>\n",
              "      <td>Sue Leather</td>\n",
              "      <td>0.141949</td>\n",
              "      <td>Cambridge University Press</td>\n",
              "    </tr>\n",
              "    <tr>\n",
              "      <th>...</th>\n",
              "      <td>...</td>\n",
              "      <td>...</td>\n",
              "      <td>...</td>\n",
              "      <td>...</td>\n",
              "      <td>...</td>\n",
              "      <td>...</td>\n",
              "      <td>...</td>\n",
              "      <td>...</td>\n",
              "      <td>...</td>\n",
              "    </tr>\n",
              "    <tr>\n",
              "      <th>1031131</th>\n",
              "      <td>91358</td>\n",
              "      <td>197689</td>\n",
              "      <td>8.0</td>\n",
              "      <td>cedar park, texas, usa</td>\n",
              "      <td>0.166199</td>\n",
              "      <td>Edgar Cayce on the Akashic Records: The Book o...</td>\n",
              "      <td>Kevin J. Todeschi</td>\n",
              "      <td>0.128968</td>\n",
              "      <td>A.R.E. Press (Association of Research &amp;amp; Enlig</td>\n",
              "    </tr>\n",
              "    <tr>\n",
              "      <th>1031132</th>\n",
              "      <td>91358</td>\n",
              "      <td>224480</td>\n",
              "      <td>9.0</td>\n",
              "      <td>cedar park, texas, usa</td>\n",
              "      <td>0.526250</td>\n",
              "      <td>Get Clark Smart : The Ultimate Guide for the S...</td>\n",
              "      <td>Clark Howard</td>\n",
              "      <td>0.137622</td>\n",
              "      <td>Longstreet Press</td>\n",
              "    </tr>\n",
              "    <tr>\n",
              "      <th>1031133</th>\n",
              "      <td>91359</td>\n",
              "      <td>143500</td>\n",
              "      <td>8.0</td>\n",
              "      <td>quebec, quebec, canada</td>\n",
              "      <td>-1.634055</td>\n",
              "      <td>Eight Weeks to Optimum Health: A Proven Progra...</td>\n",
              "      <td>Andrew Weil</td>\n",
              "      <td>0.124641</td>\n",
              "      <td>Alfred A. Knopf</td>\n",
              "    </tr>\n",
              "    <tr>\n",
              "      <th>1031134</th>\n",
              "      <td>91360</td>\n",
              "      <td>108009</td>\n",
              "      <td>10.0</td>\n",
              "      <td>mannington, west virginia, usa</td>\n",
              "      <td>0.166199</td>\n",
              "      <td>The Sherbrooke Bride (Bride Trilogy (Paperback))</td>\n",
              "      <td>Catherine Coulter</td>\n",
              "      <td>0.120313</td>\n",
              "      <td>Jove Books</td>\n",
              "    </tr>\n",
              "    <tr>\n",
              "      <th>1031135</th>\n",
              "      <td>91361</td>\n",
              "      <td>126388</td>\n",
              "      <td>10.0</td>\n",
              "      <td>providence, rhode island, usa</td>\n",
              "      <td>-1.994105</td>\n",
              "      <td>Fourth Grade Rats</td>\n",
              "      <td>Jerry Spinelli</td>\n",
              "      <td>0.120313</td>\n",
              "      <td>Scholastic</td>\n",
              "    </tr>\n",
              "  </tbody>\n",
              "</table>\n",
              "<p>1031136 rows × 9 columns</p>\n",
              "</div>"
            ],
            "text/plain": [
              "         User-ID    ISBN  Book-Rating                        Location  \\\n",
              "0          91362   45921          8.0               tyler, texas, usa   \n",
              "1          91363   22731          5.0        seattle, washington, usa   \n",
              "2          91364   92659          8.0   h, new south wales, australia   \n",
              "3          91365  111478          3.0            rijeka, n/a, croatia   \n",
              "4          91365  111512          6.0            rijeka, n/a, croatia   \n",
              "...          ...     ...          ...                             ...   \n",
              "1031131    91358  197689          8.0          cedar park, texas, usa   \n",
              "1031132    91358  224480          9.0          cedar park, texas, usa   \n",
              "1031133    91359  143500          8.0          quebec, quebec, canada   \n",
              "1031134    91360  108009         10.0  mannington, west virginia, usa   \n",
              "1031135    91361  126388         10.0   providence, rhode island, usa   \n",
              "\n",
              "              Age                                         Book-Title  \\\n",
              "0        0.886300                               Flesh Tones: A Novel   \n",
              "1       -0.193852                                   Rites of Passage   \n",
              "2       -1.814080                                       The Notebook   \n",
              "3       -1.814080                                     Help!: Level 1   \n",
              "4       -1.814080  The Amsterdam Connection : Level 4 (Cambridge ...   \n",
              "...           ...                                                ...   \n",
              "1031131  0.166199  Edgar Cayce on the Akashic Records: The Book o...   \n",
              "1031132  0.526250  Get Clark Smart : The Ultimate Guide for the S...   \n",
              "1031133 -1.634055  Eight Weeks to Optimum Health: A Proven Progra...   \n",
              "1031134  0.166199   The Sherbrooke Bride (Bride Trilogy (Paperback))   \n",
              "1031135 -1.994105                                  Fourth Grade Rats   \n",
              "\n",
              "               Book-Author  Year-Of-Publication  \\\n",
              "0               M. J. Rose             0.146276   \n",
              "1               Judith Rae             0.141949   \n",
              "2          Nicholas Sparks             0.120313   \n",
              "3            Philip Prowse             0.133295   \n",
              "4              Sue Leather             0.141949   \n",
              "...                    ...                  ...   \n",
              "1031131  Kevin J. Todeschi             0.128968   \n",
              "1031132       Clark Howard             0.137622   \n",
              "1031133        Andrew Weil             0.124641   \n",
              "1031134  Catherine Coulter             0.120313   \n",
              "1031135     Jerry Spinelli             0.120313   \n",
              "\n",
              "                                                 Publisher  \n",
              "0                                         Ballantine Books  \n",
              "1                                                   Heinle  \n",
              "2                                             Warner Books  \n",
              "3                               Cambridge University Press  \n",
              "4                               Cambridge University Press  \n",
              "...                                                    ...  \n",
              "1031131  A.R.E. Press (Association of Research &amp; Enlig  \n",
              "1031132                                   Longstreet Press  \n",
              "1031133                                    Alfred A. Knopf  \n",
              "1031134                                         Jove Books  \n",
              "1031135                                         Scholastic  \n",
              "\n",
              "[1031136 rows x 9 columns]"
            ]
          },
          "execution_count": 34,
          "metadata": {},
          "output_type": "execute_result"
        }
      ],
      "source": [
        "# Normalize continuous variables\n",
        "scaler = StandardScaler()\n",
        "df['Age'] = scaler.fit_transform(df[['Age']])\n",
        "df['Year-Of-Publication'] = scaler.fit_transform(df[['Year-Of-Publication']])\n",
        "df"
      ]
    },
    {
      "cell_type": "code",
      "execution_count": null,
      "metadata": {
        "id": "SR5Er68ZVUAm"
      },
      "outputs": [],
      "source": [
        "from sklearn.preprocessing import OneHotEncoder, LabelEncoder\n",
        "from sklearn.feature_extraction import FeatureHasher\n",
        "from sklearn.compose import ColumnTransformer\n",
        "from sklearn.pipeline import Pipeline"
      ]
    },
    {
      "cell_type": "code",
      "execution_count": null,
      "metadata": {
        "id": "lndFjQLNVUAm"
      },
      "outputs": [],
      "source": [
        "label_encoder = LabelEncoder()\n",
        "df['Location'] = label_encoder.fit_transform(df['Location'])\n",
        "df['Age_Bin'] = pd.cut(df['Age'], bins=3, labels=False)  # Binning age into 3 categories\n",
        "df['Age_Location'] = df['Age_Bin'].astype(str) + '_' + df['Location'].astype(str)\n",
        "\n",
        "# For crossed features or high cardinality features, you can use feature hashing\n",
        "hasher = FeatureHasher(n_features=10, input_type='string')\n",
        "hashed_features = hasher.transform(df[['Age_Location']].astype(str).values)\n",
        "wide_features = hashed_features.toarray()"
      ]
    },
    {
      "cell_type": "code",
      "execution_count": null,
      "metadata": {
        "id": "7mjhjVCDVUAm"
      },
      "outputs": [],
      "source": [
        "X_deep = df[['User-ID', 'ISBN', 'Age', 'Year-Of-Publication']]\n",
        "X_wide = df[['Location', 'Age', 'Year-Of-Publication']]\n",
        "y = df['Book-Rating'].astype(np.float32)"
      ]
    },
    {
      "cell_type": "code",
      "execution_count": null,
      "metadata": {
        "id": "Bdrg_1EIE4oH"
      },
      "outputs": [],
      "source": [
        "# Train-test split\n",
        "X_deep_train, X_deep_test, X_wide_train, X_wide_test, y_train, y_test = train_test_split(X_deep, X_wide, y, test_size=0.2, random_state=42)"
      ]
    },
    {
      "cell_type": "code",
      "execution_count": null,
      "metadata": {
        "id": "ikpXwyEiFgd5"
      },
      "outputs": [],
      "source": [
        "class BookDataset(Dataset):\n",
        "    def __init__(self, features_deep, features_wide, labels):\n",
        "        self.features_deep = features_deep.to_numpy()\n",
        "        self.features_wide = features_wide.to_numpy()\n",
        "        self.labels = labels.to_numpy()\n",
        "\n",
        "    def __len__(self):\n",
        "        return len(self.labels)\n",
        "\n",
        "    def __getitem__(self, idx):\n",
        "        feature_deep = torch.tensor(self.features_deep[idx], dtype=torch.float)\n",
        "        feature_wide = torch.tensor(self.features_wide[idx], dtype=torch.float)\n",
        "        label = torch.tensor(self.labels[idx], dtype=torch.float)\n",
        "        return feature_deep, feature_wide, label\n",
        "\n",
        "# Creating datasets\n",
        "train_dataset = BookDataset(X_deep_train, X_wide_train, y_train)\n",
        "test_dataset = BookDataset(X_deep_test, X_wide_test, y_test)\n",
        "\n",
        "# DataLoaders\n",
        "train_loader = DataLoader(train_dataset, batch_size=4, shuffle=True)\n",
        "test_loader = DataLoader(test_dataset, batch_size=4, shuffle=False)\n",
        "\n"
      ]
    },
    {
      "cell_type": "code",
      "execution_count": null,
      "metadata": {
        "id": "Jv58Ea9wFq-T"
      },
      "outputs": [],
      "source": [
        "import torch.nn.functional as F"
      ]
    },
    {
      "cell_type": "code",
      "execution_count": null,
      "metadata": {
        "id": "CdDPTgOHFMvR"
      },
      "outputs": [],
      "source": [
        "# Model definition\n",
        "class WideAndDeep(nn.Module):\n",
        "    def __init__(self, num_users, num_books, num_continuous, num_wide_features):\n",
        "        super(WideAndDeep, self).__init__()\n",
        "        # Deep Component\n",
        "        self.user_embedding = nn.Embedding(num_users, 8)\n",
        "        self.book_embedding = nn.Embedding(num_books, 8)\n",
        "        self.fc1 = nn.Linear(8*2 + num_continuous, 128)\n",
        "        self.fc2 = nn.Linear(128, 64)\n",
        "        self.fc3 = nn.Linear(64, 1)\n",
        "\n",
        "        # Wide Component\n",
        "        self.wide_linear = nn.Linear(num_wide_features, 1)\n",
        "\n",
        "    def forward(self, x, wide_features):\n",
        "        # Deep Component Processing\n",
        "        user_ids, book_ids, continuous_data = x[:, 0].long(), x[:, 1].long(), x[:, 2:].float()\n",
        "        user_embedded = self.user_embedding(user_ids)\n",
        "        book_embedded = self.book_embedding(book_ids)\n",
        "        deep_input = torch.cat([user_embedded, book_embedded, continuous_data], dim=1)\n",
        "        deep_output = F.leaky_relu(self.fc1(deep_input))\n",
        "        deep_output = F.leaky_relu(self.fc2(deep_output))\n",
        "        deep_output = self.fc3(deep_output)\n",
        "\n",
        "        # Wide Component Processing\n",
        "        wide_output = self.wide_linear(wide_features)\n",
        "\n",
        "        # Combining Wide and Deep Components\n",
        "        combined_output = deep_output + wide_output\n",
        "\n",
        "        return combined_output\n",
        "\n"
      ]
    },
    {
      "cell_type": "code",
      "execution_count": null,
      "metadata": {
        "colab": {
          "base_uri": "https://localhost:8080/",
          "height": 373,
          "referenced_widgets": [
            "e092a5f789654825973bc9c43a184645"
          ]
        },
        "id": "_WEBvA4GFVYX",
        "outputId": "7251cec8-3fa4-411b-9a18-f86ba1bc2f79"
      },
      "outputs": [
        {
          "data": {
            "application/vnd.jupyter.widget-view+json": {
              "model_id": "e092a5f789654825973bc9c43a184645",
              "version_major": 2,
              "version_minor": 0
            },
            "text/plain": [
              "Epochs:   0%|          | 0/20 [00:00<?, ?it/s]"
            ]
          },
          "metadata": {},
          "output_type": "display_data"
        },
        {
          "data": {
            "text/html": [
              "<pre style=\"white-space:pre;overflow-x:auto;line-height:normal;font-family:Menlo,'DejaVu Sans Mono',consolas,'Courier New',monospace\">Epoch <span style=\"color: #008080; text-decoration-color: #008080; font-weight: bold\">1</span>, Loss: <span style=\"color: #008080; text-decoration-color: #008080; font-weight: bold\">33169.93760735277</span>\n",
              "</pre>\n"
            ],
            "text/plain": [
              "Epoch \u001b[1;36m1\u001b[0m, Loss: \u001b[1;36m33169.93760735277\u001b[0m\n"
            ]
          },
          "metadata": {},
          "output_type": "display_data"
        },
        {
          "data": {
            "text/html": [
              "<pre style=\"white-space:pre;overflow-x:auto;line-height:normal;font-family:Menlo,'DejaVu Sans Mono',consolas,'Courier New',monospace\">Epoch <span style=\"color: #008080; text-decoration-color: #008080; font-weight: bold\">2</span>, Loss: <span style=\"color: #008080; text-decoration-color: #008080; font-weight: bold\">4.760200851202004</span>\n",
              "</pre>\n"
            ],
            "text/plain": [
              "Epoch \u001b[1;36m2\u001b[0m, Loss: \u001b[1;36m4.760200851202004\u001b[0m\n"
            ]
          },
          "metadata": {},
          "output_type": "display_data"
        },
        {
          "data": {
            "text/html": [
              "<pre style=\"white-space:pre;overflow-x:auto;line-height:normal;font-family:Menlo,'DejaVu Sans Mono',consolas,'Courier New',monospace\">Epoch <span style=\"color: #008080; text-decoration-color: #008080; font-weight: bold\">3</span>, Loss: <span style=\"color: #008080; text-decoration-color: #008080; font-weight: bold\">4.657079330022797</span>\n",
              "</pre>\n"
            ],
            "text/plain": [
              "Epoch \u001b[1;36m3\u001b[0m, Loss: \u001b[1;36m4.657079330022797\u001b[0m\n"
            ]
          },
          "metadata": {},
          "output_type": "display_data"
        },
        {
          "data": {
            "text/html": [
              "<pre style=\"white-space:pre;overflow-x:auto;line-height:normal;font-family:Menlo,'DejaVu Sans Mono',consolas,'Courier New',monospace\">Epoch <span style=\"color: #008080; text-decoration-color: #008080; font-weight: bold\">4</span>, Loss: <span style=\"color: #008080; text-decoration-color: #008080; font-weight: bold\">4.587408070536356</span>\n",
              "</pre>\n"
            ],
            "text/plain": [
              "Epoch \u001b[1;36m4\u001b[0m, Loss: \u001b[1;36m4.587408070536356\u001b[0m\n"
            ]
          },
          "metadata": {},
          "output_type": "display_data"
        },
        {
          "data": {
            "text/html": [
              "<pre style=\"white-space:pre;overflow-x:auto;line-height:normal;font-family:Menlo,'DejaVu Sans Mono',consolas,'Courier New',monospace\">Epoch <span style=\"color: #008080; text-decoration-color: #008080; font-weight: bold\">5</span>, Loss: <span style=\"color: #008080; text-decoration-color: #008080; font-weight: bold\">4.678624325640657</span>\n",
              "</pre>\n"
            ],
            "text/plain": [
              "Epoch \u001b[1;36m5\u001b[0m, Loss: \u001b[1;36m4.678624325640657\u001b[0m\n"
            ]
          },
          "metadata": {},
          "output_type": "display_data"
        },
        {
          "data": {
            "text/html": [
              "<pre style=\"white-space:pre;overflow-x:auto;line-height:normal;font-family:Menlo,'DejaVu Sans Mono',consolas,'Courier New',monospace\">Epoch <span style=\"color: #008080; text-decoration-color: #008080; font-weight: bold\">6</span>, Loss: <span style=\"color: #008080; text-decoration-color: #008080; font-weight: bold\">4.567589389563782</span>\n",
              "</pre>\n"
            ],
            "text/plain": [
              "Epoch \u001b[1;36m6\u001b[0m, Loss: \u001b[1;36m4.567589389563782\u001b[0m\n"
            ]
          },
          "metadata": {},
          "output_type": "display_data"
        },
        {
          "data": {
            "text/html": [
              "<pre style=\"white-space:pre;overflow-x:auto;line-height:normal;font-family:Menlo,'DejaVu Sans Mono',consolas,'Courier New',monospace\">Epoch <span style=\"color: #008080; text-decoration-color: #008080; font-weight: bold\">7</span>, Loss: <span style=\"color: #008080; text-decoration-color: #008080; font-weight: bold\">4.475050093068416</span>\n",
              "</pre>\n"
            ],
            "text/plain": [
              "Epoch \u001b[1;36m7\u001b[0m, Loss: \u001b[1;36m4.475050093068416\u001b[0m\n"
            ]
          },
          "metadata": {},
          "output_type": "display_data"
        },
        {
          "data": {
            "text/html": [
              "<pre style=\"white-space:pre;overflow-x:auto;line-height:normal;font-family:Menlo,'DejaVu Sans Mono',consolas,'Courier New',monospace\">Epoch <span style=\"color: #008080; text-decoration-color: #008080; font-weight: bold\">8</span>, Loss: <span style=\"color: #008080; text-decoration-color: #008080; font-weight: bold\">4.4321419852960195</span>\n",
              "</pre>\n"
            ],
            "text/plain": [
              "Epoch \u001b[1;36m8\u001b[0m, Loss: \u001b[1;36m4.4321419852960195\u001b[0m\n"
            ]
          },
          "metadata": {},
          "output_type": "display_data"
        },
        {
          "data": {
            "text/html": [
              "<pre style=\"white-space:pre;overflow-x:auto;line-height:normal;font-family:Menlo,'DejaVu Sans Mono',consolas,'Courier New',monospace\">Epoch <span style=\"color: #008080; text-decoration-color: #008080; font-weight: bold\">9</span>, Loss: <span style=\"color: #008080; text-decoration-color: #008080; font-weight: bold\">4.4771888441924625</span>\n",
              "</pre>\n"
            ],
            "text/plain": [
              "Epoch \u001b[1;36m9\u001b[0m, Loss: \u001b[1;36m4.4771888441924625\u001b[0m\n"
            ]
          },
          "metadata": {},
          "output_type": "display_data"
        },
        {
          "data": {
            "text/html": [
              "<pre style=\"white-space:pre;overflow-x:auto;line-height:normal;font-family:Menlo,'DejaVu Sans Mono',consolas,'Courier New',monospace\">Epoch <span style=\"color: #008080; text-decoration-color: #008080; font-weight: bold\">10</span>, Loss: <span style=\"color: #008080; text-decoration-color: #008080; font-weight: bold\">4.474880336222558</span>\n",
              "</pre>\n"
            ],
            "text/plain": [
              "Epoch \u001b[1;36m10\u001b[0m, Loss: \u001b[1;36m4.474880336222558\u001b[0m\n"
            ]
          },
          "metadata": {},
          "output_type": "display_data"
        },
        {
          "data": {
            "text/html": [
              "<pre style=\"white-space:pre;overflow-x:auto;line-height:normal;font-family:Menlo,'DejaVu Sans Mono',consolas,'Courier New',monospace\">Epoch <span style=\"color: #008080; text-decoration-color: #008080; font-weight: bold\">11</span>, Loss: <span style=\"color: #008080; text-decoration-color: #008080; font-weight: bold\">4.40151854149073</span>\n",
              "</pre>\n"
            ],
            "text/plain": [
              "Epoch \u001b[1;36m11\u001b[0m, Loss: \u001b[1;36m4.40151854149073\u001b[0m\n"
            ]
          },
          "metadata": {},
          "output_type": "display_data"
        },
        {
          "data": {
            "text/html": [
              "<pre style=\"white-space:pre;overflow-x:auto;line-height:normal;font-family:Menlo,'DejaVu Sans Mono',consolas,'Courier New',monospace\">Epoch <span style=\"color: #008080; text-decoration-color: #008080; font-weight: bold\">12</span>, Loss: <span style=\"color: #008080; text-decoration-color: #008080; font-weight: bold\">4.416614179161849</span>\n",
              "</pre>\n"
            ],
            "text/plain": [
              "Epoch \u001b[1;36m12\u001b[0m, Loss: \u001b[1;36m4.416614179161849\u001b[0m\n"
            ]
          },
          "metadata": {},
          "output_type": "display_data"
        },
        {
          "data": {
            "text/html": [
              "<pre style=\"white-space:pre;overflow-x:auto;line-height:normal;font-family:Menlo,'DejaVu Sans Mono',consolas,'Courier New',monospace\">Epoch <span style=\"color: #008080; text-decoration-color: #008080; font-weight: bold\">13</span>, Loss: <span style=\"color: #008080; text-decoration-color: #008080; font-weight: bold\">4.256200352151561</span>\n",
              "</pre>\n"
            ],
            "text/plain": [
              "Epoch \u001b[1;36m13\u001b[0m, Loss: \u001b[1;36m4.256200352151561\u001b[0m\n"
            ]
          },
          "metadata": {},
          "output_type": "display_data"
        },
        {
          "data": {
            "text/html": [
              "<pre style=\"white-space:pre;overflow-x:auto;line-height:normal;font-family:Menlo,'DejaVu Sans Mono',consolas,'Courier New',monospace\">Epoch <span style=\"color: #008080; text-decoration-color: #008080; font-weight: bold\">14</span>, Loss: <span style=\"color: #008080; text-decoration-color: #008080; font-weight: bold\">4.273585624545229</span>\n",
              "</pre>\n"
            ],
            "text/plain": [
              "Epoch \u001b[1;36m14\u001b[0m, Loss: \u001b[1;36m4.273585624545229\u001b[0m\n"
            ]
          },
          "metadata": {},
          "output_type": "display_data"
        },
        {
          "data": {
            "text/html": [
              "<pre style=\"white-space:pre;overflow-x:auto;line-height:normal;font-family:Menlo,'DejaVu Sans Mono',consolas,'Courier New',monospace\">Epoch <span style=\"color: #008080; text-decoration-color: #008080; font-weight: bold\">15</span>, Loss: <span style=\"color: #008080; text-decoration-color: #008080; font-weight: bold\">4.269378925109091</span>\n",
              "</pre>\n"
            ],
            "text/plain": [
              "Epoch \u001b[1;36m15\u001b[0m, Loss: \u001b[1;36m4.269378925109091\u001b[0m\n"
            ]
          },
          "metadata": {},
          "output_type": "display_data"
        },
        {
          "data": {
            "text/html": [
              "<pre style=\"white-space:pre;overflow-x:auto;line-height:normal;font-family:Menlo,'DejaVu Sans Mono',consolas,'Courier New',monospace\">Epoch <span style=\"color: #008080; text-decoration-color: #008080; font-weight: bold\">16</span>, Loss: <span style=\"color: #008080; text-decoration-color: #008080; font-weight: bold\">4.298634651329478</span>\n",
              "</pre>\n"
            ],
            "text/plain": [
              "Epoch \u001b[1;36m16\u001b[0m, Loss: \u001b[1;36m4.298634651329478\u001b[0m\n"
            ]
          },
          "metadata": {},
          "output_type": "display_data"
        },
        {
          "data": {
            "text/html": [
              "<pre style=\"white-space:pre;overflow-x:auto;line-height:normal;font-family:Menlo,'DejaVu Sans Mono',consolas,'Courier New',monospace\">Epoch <span style=\"color: #008080; text-decoration-color: #008080; font-weight: bold\">17</span>, Loss: <span style=\"color: #008080; text-decoration-color: #008080; font-weight: bold\">4.17659285729173</span>\n",
              "</pre>\n"
            ],
            "text/plain": [
              "Epoch \u001b[1;36m17\u001b[0m, Loss: \u001b[1;36m4.17659285729173\u001b[0m\n"
            ]
          },
          "metadata": {},
          "output_type": "display_data"
        },
        {
          "data": {
            "text/html": [
              "<pre style=\"white-space:pre;overflow-x:auto;line-height:normal;font-family:Menlo,'DejaVu Sans Mono',consolas,'Courier New',monospace\">Epoch <span style=\"color: #008080; text-decoration-color: #008080; font-weight: bold\">18</span>, Loss: <span style=\"color: #008080; text-decoration-color: #008080; font-weight: bold\">4.242609564335521</span>\n",
              "</pre>\n"
            ],
            "text/plain": [
              "Epoch \u001b[1;36m18\u001b[0m, Loss: \u001b[1;36m4.242609564335521\u001b[0m\n"
            ]
          },
          "metadata": {},
          "output_type": "display_data"
        },
        {
          "data": {
            "text/html": [
              "<pre style=\"white-space:pre;overflow-x:auto;line-height:normal;font-family:Menlo,'DejaVu Sans Mono',consolas,'Courier New',monospace\">Epoch <span style=\"color: #008080; text-decoration-color: #008080; font-weight: bold\">19</span>, Loss: <span style=\"color: #008080; text-decoration-color: #008080; font-weight: bold\">4.326157969384084</span>\n",
              "</pre>\n"
            ],
            "text/plain": [
              "Epoch \u001b[1;36m19\u001b[0m, Loss: \u001b[1;36m4.326157969384084\u001b[0m\n"
            ]
          },
          "metadata": {},
          "output_type": "display_data"
        },
        {
          "data": {
            "text/html": [
              "<pre style=\"white-space:pre;overflow-x:auto;line-height:normal;font-family:Menlo,'DejaVu Sans Mono',consolas,'Courier New',monospace\">Epoch <span style=\"color: #008080; text-decoration-color: #008080; font-weight: bold\">20</span>, Loss: <span style=\"color: #008080; text-decoration-color: #008080; font-weight: bold\">4.110163760849174</span>\n",
              "</pre>\n"
            ],
            "text/plain": [
              "Epoch \u001b[1;36m20\u001b[0m, Loss: \u001b[1;36m4.110163760849174\u001b[0m\n"
            ]
          },
          "metadata": {},
          "output_type": "display_data"
        }
      ],
      "source": [
        "# Model initialization\n",
        "num_users = df['User-ID'].nunique()\n",
        "num_books = df['ISBN'].nunique()\n",
        "num_wide_features = 3\n",
        "model = WideAndDeep(num_users, num_books, 2, num_wide_features).to(device)\n",
        "\n",
        "\n",
        "# Training setup\n",
        "criterion = nn.MSELoss()\n",
        "optimizer = optim.Adam(model.parameters(), lr=0.001)\n",
        "\n",
        "epochs = 20\n",
        "for epoch in tqdm(range(epochs), desc='Epochs'):\n",
        "    model.train()  # Set model to training mode\n",
        "    total_loss = 0\n",
        "    for deep_features, wide_features, labels in train_loader:\n",
        "        # Move data to the device\n",
        "        deep_features, wide_features, labels = deep_features.to(device), wide_features.to(device), labels.to(device)\n",
        "\n",
        "        optimizer.zero_grad()\n",
        "        # Adjust the model call to accept both wide and deep features\n",
        "        outputs = model(deep_features, wide_features)\n",
        "        loss = criterion(outputs.squeeze(), labels)\n",
        "        loss.backward()\n",
        "        optimizer.step()\n",
        "\n",
        "        total_loss += loss.item()\n",
        "\n",
        "    true_ratings = []\n",
        "    predicted_ratings = []\n",
        "\n",
        "    print(f'Epoch {epoch+1}, Loss: {total_loss/len(train_loader)}')\n",
        "    torch.save(model.state_dict(), f'model_epoch_{epoch+1}.pth')\n"
      ]
    },
    {
      "cell_type": "code",
      "execution_count": null,
      "metadata": {
        "id": "I1JrmCDuVUAr",
        "outputId": "29d6af28-2bd8-49cb-96f1-91c1a4e8ff12"
      },
      "outputs": [
        {
          "data": {
            "text/html": [
              "<pre style=\"white-space:pre;overflow-x:auto;line-height:normal;font-family:Menlo,'DejaVu Sans Mono',consolas,'Courier New',monospace\">RMSE: <span style=\"color: #008080; text-decoration-color: #008080; font-weight: bold\">1.2595516277887753</span>\n",
              "</pre>\n"
            ],
            "text/plain": [
              "RMSE: \u001b[1;36m1.2595516277887753\u001b[0m\n"
            ]
          },
          "metadata": {},
          "output_type": "display_data"
        }
      ],
      "source": [
        "true_ratings = []\n",
        "predicted_ratings = []\n",
        "\n",
        "model.eval()  # Set the model to evaluation mode\n",
        "with torch.no_grad():  # No gradients needed for evaluation\n",
        "    for deep_features, wide_features, labels in test_loader:\n",
        "        # Move data to the correct device\n",
        "        deep_features, wide_features = deep_features.to(device), wide_features.to(device)\n",
        "        labels = labels.to(device)\n",
        "\n",
        "        # Adjust the model call to accept both wide and deep features\n",
        "        outputs = model(deep_features, wide_features).squeeze()\n",
        "\n",
        "        # Move the outputs and labels to CPU for further operations\n",
        "        true_ratings.extend(labels.cpu().tolist())\n",
        "        predicted_ratings.extend(outputs.cpu().tolist())\n",
        "\n",
        "# Calculate RMSE\n",
        "rmse = sqrt(mean_squared_error(true_ratings, predicted_ratings))\n",
        "print(f\"RMSE: {rmse}\")"
      ]
    }
  ],
  "metadata": {
    "accelerator": "GPU",
    "colab": {
      "gpuType": "T4",
      "provenance": []
    },
    "kernelspec": {
      "display_name": "Python 3",
      "name": "python3"
    },
    "language_info": {
      "codemirror_mode": {
        "name": "ipython",
        "version": 3
      },
      "file_extension": ".py",
      "mimetype": "text/x-python",
      "name": "python",
      "nbconvert_exporter": "python",
      "pygments_lexer": "ipython3",
      "version": "3.12.2"
    }
  },
  "nbformat": 4,
  "nbformat_minor": 0
}
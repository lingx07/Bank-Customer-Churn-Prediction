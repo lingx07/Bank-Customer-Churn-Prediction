{
 "cells": [
  {
   "cell_type": "markdown",
   "id": "c1dfe004",
   "metadata": {},
   "source": [
    "# Customer Review Analysis in NLP Models"
   ]
  },
  {
   "cell_type": "markdown",
   "id": "d6cb5456",
   "metadata": {},
   "source": [
    "## Part 1: Load Data"
   ]
  },
  {
   "cell_type": "code",
   "execution_count": 1,
   "id": "0cf1a970",
   "metadata": {},
   "outputs": [
    {
     "name": "stderr",
     "output_type": "stream",
     "text": [
      "[nltk_data] Downloading package punkt to\n",
      "[nltk_data]     C:\\Users\\18604\\AppData\\Roaming\\nltk_data...\n",
      "[nltk_data]   Package punkt is already up-to-date!\n",
      "[nltk_data] Downloading package stopwords to\n",
      "[nltk_data]     C:\\Users\\18604\\AppData\\Roaming\\nltk_data...\n",
      "[nltk_data]   Package stopwords is already up-to-date!\n"
     ]
    },
    {
     "data": {
      "text/plain": [
       "True"
      ]
     },
     "execution_count": 1,
     "metadata": {},
     "output_type": "execute_result"
    }
   ],
   "source": [
    "import numpy as np\n",
    "import pandas as pd\n",
    "import nltk\n",
    "\n",
    "from sklearn.feature_extraction.text import TfidfVectorizer\n",
    "import matplotlib.pyplot as plt\n",
    "\n",
    "nltk.download('punkt')\n",
    "nltk.download('stopwords')"
   ]
  },
  {
   "cell_type": "code",
   "execution_count": 2,
   "id": "82e532ad",
   "metadata": {},
   "outputs": [
    {
     "name": "stderr",
     "output_type": "stream",
     "text": [
      "C:\\Users\\18604\\AppData\\Local\\Temp\\ipykernel_39104\\1838297787.py:2: FutureWarning: The error_bad_lines argument has been deprecated and will be removed in a future version. Use on_bad_lines in the future.\n",
      "\n",
      "\n",
      "  df = pd.read_csv('watch_reviews.tsv', sep='\\t', error_bad_lines=False)\n",
      "Skipping line 8704: expected 15 fields, saw 22\n",
      "Skipping line 16933: expected 15 fields, saw 22\n",
      "Skipping line 23726: expected 15 fields, saw 22\n",
      "\n",
      "Skipping line 85637: expected 15 fields, saw 22\n",
      "\n",
      "Skipping line 132136: expected 15 fields, saw 22\n",
      "Skipping line 158070: expected 15 fields, saw 22\n",
      "Skipping line 166007: expected 15 fields, saw 22\n",
      "Skipping line 171877: expected 15 fields, saw 22\n",
      "Skipping line 177756: expected 15 fields, saw 22\n",
      "Skipping line 181773: expected 15 fields, saw 22\n",
      "Skipping line 191085: expected 15 fields, saw 22\n",
      "Skipping line 196273: expected 15 fields, saw 22\n",
      "Skipping line 196331: expected 15 fields, saw 22\n",
      "\n",
      "Skipping line 197000: expected 15 fields, saw 22\n",
      "Skipping line 197011: expected 15 fields, saw 22\n",
      "Skipping line 197432: expected 15 fields, saw 22\n",
      "Skipping line 208016: expected 15 fields, saw 22\n",
      "Skipping line 214110: expected 15 fields, saw 22\n",
      "Skipping line 244328: expected 15 fields, saw 22\n",
      "Skipping line 248519: expected 15 fields, saw 22\n",
      "Skipping line 254936: expected 15 fields, saw 22\n",
      "\n",
      "Skipping line 272057: expected 15 fields, saw 22\n",
      "Skipping line 293214: expected 15 fields, saw 22\n",
      "Skipping line 310507: expected 15 fields, saw 22\n",
      "Skipping line 312306: expected 15 fields, saw 22\n",
      "Skipping line 316296: expected 15 fields, saw 22\n",
      "\n",
      "Skipping line 336028: expected 15 fields, saw 22\n",
      "Skipping line 344885: expected 15 fields, saw 22\n",
      "Skipping line 352551: expected 15 fields, saw 22\n",
      "\n",
      "Skipping line 408773: expected 15 fields, saw 22\n",
      "Skipping line 434535: expected 15 fields, saw 22\n",
      "\n",
      "Skipping line 581593: expected 15 fields, saw 22\n",
      "\n",
      "Skipping line 652409: expected 15 fields, saw 22\n",
      "\n"
     ]
    }
   ],
   "source": [
    "# Load data into dataframe\n",
    "df = pd.read_csv('watch_reviews.tsv', sep='\\t', error_bad_lines=False)"
   ]
  },
  {
   "cell_type": "code",
   "execution_count": 3,
   "id": "472995cc",
   "metadata": {},
   "outputs": [
    {
     "data": {
      "text/html": [
       "<div>\n",
       "<style scoped>\n",
       "    .dataframe tbody tr th:only-of-type {\n",
       "        vertical-align: middle;\n",
       "    }\n",
       "\n",
       "    .dataframe tbody tr th {\n",
       "        vertical-align: top;\n",
       "    }\n",
       "\n",
       "    .dataframe thead th {\n",
       "        text-align: right;\n",
       "    }\n",
       "</style>\n",
       "<table border=\"1\" class=\"dataframe\">\n",
       "  <thead>\n",
       "    <tr style=\"text-align: right;\">\n",
       "      <th></th>\n",
       "      <th>marketplace</th>\n",
       "      <th>customer_id</th>\n",
       "      <th>review_id</th>\n",
       "      <th>product_id</th>\n",
       "      <th>product_parent</th>\n",
       "      <th>product_title</th>\n",
       "      <th>product_category</th>\n",
       "      <th>star_rating</th>\n",
       "      <th>helpful_votes</th>\n",
       "      <th>total_votes</th>\n",
       "      <th>vine</th>\n",
       "      <th>verified_purchase</th>\n",
       "      <th>review_headline</th>\n",
       "      <th>review_body</th>\n",
       "      <th>review_date</th>\n",
       "    </tr>\n",
       "  </thead>\n",
       "  <tbody>\n",
       "    <tr>\n",
       "      <th>0</th>\n",
       "      <td>US</td>\n",
       "      <td>3653882</td>\n",
       "      <td>R3O9SGZBVQBV76</td>\n",
       "      <td>B00FALQ1ZC</td>\n",
       "      <td>937001370</td>\n",
       "      <td>Invicta Women's 15150 \"Angel\" 18k Yellow Gold ...</td>\n",
       "      <td>Watches</td>\n",
       "      <td>5</td>\n",
       "      <td>0</td>\n",
       "      <td>0</td>\n",
       "      <td>N</td>\n",
       "      <td>Y</td>\n",
       "      <td>Five Stars</td>\n",
       "      <td>Absolutely love this watch! Get compliments al...</td>\n",
       "      <td>2015-08-31</td>\n",
       "    </tr>\n",
       "    <tr>\n",
       "      <th>1</th>\n",
       "      <td>US</td>\n",
       "      <td>14661224</td>\n",
       "      <td>RKH8BNC3L5DLF</td>\n",
       "      <td>B00D3RGO20</td>\n",
       "      <td>484010722</td>\n",
       "      <td>Kenneth Cole New York Women's KC4944 Automatic...</td>\n",
       "      <td>Watches</td>\n",
       "      <td>5</td>\n",
       "      <td>0</td>\n",
       "      <td>0</td>\n",
       "      <td>N</td>\n",
       "      <td>Y</td>\n",
       "      <td>I love thiswatch it keeps time wonderfully</td>\n",
       "      <td>I love this watch it keeps time wonderfully.</td>\n",
       "      <td>2015-08-31</td>\n",
       "    </tr>\n",
       "    <tr>\n",
       "      <th>2</th>\n",
       "      <td>US</td>\n",
       "      <td>27324930</td>\n",
       "      <td>R2HLE8WKZSU3NL</td>\n",
       "      <td>B00DKYC7TK</td>\n",
       "      <td>361166390</td>\n",
       "      <td>Ritche 22mm Black Stainless Steel Bracelet Wat...</td>\n",
       "      <td>Watches</td>\n",
       "      <td>2</td>\n",
       "      <td>1</td>\n",
       "      <td>1</td>\n",
       "      <td>N</td>\n",
       "      <td>Y</td>\n",
       "      <td>Two Stars</td>\n",
       "      <td>Scratches</td>\n",
       "      <td>2015-08-31</td>\n",
       "    </tr>\n",
       "    <tr>\n",
       "      <th>3</th>\n",
       "      <td>US</td>\n",
       "      <td>7211452</td>\n",
       "      <td>R31U3UH5AZ42LL</td>\n",
       "      <td>B000EQS1JW</td>\n",
       "      <td>958035625</td>\n",
       "      <td>Citizen Men's BM8180-03E Eco-Drive Stainless S...</td>\n",
       "      <td>Watches</td>\n",
       "      <td>5</td>\n",
       "      <td>0</td>\n",
       "      <td>0</td>\n",
       "      <td>N</td>\n",
       "      <td>Y</td>\n",
       "      <td>Five Stars</td>\n",
       "      <td>It works well on me. However, I found cheaper ...</td>\n",
       "      <td>2015-08-31</td>\n",
       "    </tr>\n",
       "    <tr>\n",
       "      <th>4</th>\n",
       "      <td>US</td>\n",
       "      <td>12733322</td>\n",
       "      <td>R2SV659OUJ945Y</td>\n",
       "      <td>B00A6GFD7S</td>\n",
       "      <td>765328221</td>\n",
       "      <td>Orient ER27009B Men's Symphony Automatic Stain...</td>\n",
       "      <td>Watches</td>\n",
       "      <td>4</td>\n",
       "      <td>0</td>\n",
       "      <td>0</td>\n",
       "      <td>N</td>\n",
       "      <td>Y</td>\n",
       "      <td>Beautiful face, but cheap sounding links</td>\n",
       "      <td>Beautiful watch face.  The band looks nice all...</td>\n",
       "      <td>2015-08-31</td>\n",
       "    </tr>\n",
       "  </tbody>\n",
       "</table>\n",
       "</div>"
      ],
      "text/plain": [
       "  marketplace  customer_id       review_id  product_id  product_parent  \\\n",
       "0          US      3653882  R3O9SGZBVQBV76  B00FALQ1ZC       937001370   \n",
       "1          US     14661224   RKH8BNC3L5DLF  B00D3RGO20       484010722   \n",
       "2          US     27324930  R2HLE8WKZSU3NL  B00DKYC7TK       361166390   \n",
       "3          US      7211452  R31U3UH5AZ42LL  B000EQS1JW       958035625   \n",
       "4          US     12733322  R2SV659OUJ945Y  B00A6GFD7S       765328221   \n",
       "\n",
       "                                       product_title product_category  \\\n",
       "0  Invicta Women's 15150 \"Angel\" 18k Yellow Gold ...          Watches   \n",
       "1  Kenneth Cole New York Women's KC4944 Automatic...          Watches   \n",
       "2  Ritche 22mm Black Stainless Steel Bracelet Wat...          Watches   \n",
       "3  Citizen Men's BM8180-03E Eco-Drive Stainless S...          Watches   \n",
       "4  Orient ER27009B Men's Symphony Automatic Stain...          Watches   \n",
       "\n",
       "   star_rating  helpful_votes  total_votes vine verified_purchase  \\\n",
       "0            5              0            0    N                 Y   \n",
       "1            5              0            0    N                 Y   \n",
       "2            2              1            1    N                 Y   \n",
       "3            5              0            0    N                 Y   \n",
       "4            4              0            0    N                 Y   \n",
       "\n",
       "                              review_headline  \\\n",
       "0                                  Five Stars   \n",
       "1  I love thiswatch it keeps time wonderfully   \n",
       "2                                   Two Stars   \n",
       "3                                  Five Stars   \n",
       "4    Beautiful face, but cheap sounding links   \n",
       "\n",
       "                                         review_body review_date  \n",
       "0  Absolutely love this watch! Get compliments al...  2015-08-31  \n",
       "1       I love this watch it keeps time wonderfully.  2015-08-31  \n",
       "2                                          Scratches  2015-08-31  \n",
       "3  It works well on me. However, I found cheaper ...  2015-08-31  \n",
       "4  Beautiful watch face.  The band looks nice all...  2015-08-31  "
      ]
     },
     "execution_count": 3,
     "metadata": {},
     "output_type": "execute_result"
    }
   ],
   "source": [
    "# Print first 5 rows of the dataset\n",
    "df.head()"
   ]
  },
  {
   "cell_type": "code",
   "execution_count": 4,
   "id": "76da20bd",
   "metadata": {},
   "outputs": [],
   "source": [
    "# Remove missing value\n",
    "df.dropna(subset = ['review_body'], inplace = True)"
   ]
  },
  {
   "cell_type": "code",
   "execution_count": 5,
   "id": "beae775c",
   "metadata": {},
   "outputs": [],
   "source": [
    "df.reset_index(inplace = True, drop = True)"
   ]
  },
  {
   "cell_type": "code",
   "execution_count": 6,
   "id": "355b4b04",
   "metadata": {},
   "outputs": [
    {
     "name": "stdout",
     "output_type": "stream",
     "text": [
      "<class 'pandas.core.frame.DataFrame'>\n",
      "RangeIndex: 960056 entries, 0 to 960055\n",
      "Data columns (total 15 columns):\n",
      " #   Column             Non-Null Count   Dtype \n",
      "---  ------             --------------   ----- \n",
      " 0   marketplace        960056 non-null  object\n",
      " 1   customer_id        960056 non-null  int64 \n",
      " 2   review_id          960056 non-null  object\n",
      " 3   product_id         960056 non-null  object\n",
      " 4   product_parent     960056 non-null  int64 \n",
      " 5   product_title      960054 non-null  object\n",
      " 6   product_category   960056 non-null  object\n",
      " 7   star_rating        960056 non-null  int64 \n",
      " 8   helpful_votes      960056 non-null  int64 \n",
      " 9   total_votes        960056 non-null  int64 \n",
      " 10  vine               960056 non-null  object\n",
      " 11  verified_purchase  960056 non-null  object\n",
      " 12  review_headline    960049 non-null  object\n",
      " 13  review_body        960056 non-null  object\n",
      " 14  review_date        960052 non-null  object\n",
      "dtypes: int64(5), object(10)\n",
      "memory usage: 109.9+ MB\n"
     ]
    }
   ],
   "source": [
    "df.info()"
   ]
  },
  {
   "cell_type": "code",
   "execution_count": 7,
   "id": "f7625aa7",
   "metadata": {},
   "outputs": [],
   "source": [
    "# Using the first 1000 data as training data\n",
    "data = df.loc[:999, 'review_body'].tolist()"
   ]
  },
  {
   "cell_type": "markdown",
   "id": "eafd3bf6",
   "metadata": {},
   "source": [
    "## Part 2: Tokenizing and Stemming"
   ]
  },
  {
   "cell_type": "code",
   "execution_count": 8,
   "id": "cee49599",
   "metadata": {},
   "outputs": [
    {
     "name": "stdout",
     "output_type": "stream",
     "text": [
      "I use 183 stop-words from NLTK library.\n",
      "['i', 'me', 'my', 'myself', 'we', 'our', 'ours', 'ourselves', 'you', \"you're\"]\n"
     ]
    }
   ],
   "source": [
    "# Using NLTK's English stopwords.\n",
    "stopwords = nltk.corpus.stopwords.words('english')\n",
    "stopwords.append(\"'s\")\n",
    "stopwords.append(\"'m\")\n",
    "stopwords.append(\"br\")\n",
    "stopwords.append(\"watch\")\n",
    "\n",
    "print(\"I use \" + str(len(stopwords)) + \" stop-words from NLTK library.\")\n",
    "print(stopwords[:10])"
   ]
  },
  {
   "cell_type": "code",
   "execution_count": 9,
   "id": "7a06d84d",
   "metadata": {},
   "outputs": [],
   "source": [
    "from nltk.stem.snowball import SnowballStemmer\n",
    "# from nltk.stem import WordNetLemmatizer \n",
    "\n",
    "stemmer = SnowballStemmer(\"english\")\n",
    "\n",
    "# tokenization and stemming\n",
    "def tokenization_and_stemming(text):\n",
    "    tokens = []\n",
    "    # exclude stop words and tokenize the document, generate a list of string \n",
    "    for word in nltk.word_tokenize(text):\n",
    "        if word.lower() not in stopwords:\n",
    "            tokens.append(word.lower())\n",
    "\n",
    "    filtered_tokens = []\n",
    "    \n",
    "    # filter out any tokens not containing letters (e.g., numeric tokens, raw punctuation)\n",
    "    for token in tokens:\n",
    "        if token.isalpha():\n",
    "            filtered_tokens.append(token)\n",
    "            \n",
    "    # stemming\n",
    "    stems = [stemmer.stem(t) for t in filtered_tokens]\n",
    "    return stems"
   ]
  },
  {
   "cell_type": "code",
   "execution_count": 10,
   "id": "c6438da6",
   "metadata": {},
   "outputs": [
    {
     "data": {
      "text/plain": [
       "'Absolutely love this watch! Get compliments almost every time I wear it. Dainty.'"
      ]
     },
     "execution_count": 10,
     "metadata": {},
     "output_type": "execute_result"
    }
   ],
   "source": [
    "data[0]"
   ]
  },
  {
   "cell_type": "code",
   "execution_count": 11,
   "id": "2874c87b",
   "metadata": {},
   "outputs": [
    {
     "data": {
      "text/plain": [
       "['absolut',\n",
       " 'love',\n",
       " 'get',\n",
       " 'compliment',\n",
       " 'almost',\n",
       " 'everi',\n",
       " 'time',\n",
       " 'wear',\n",
       " 'dainti']"
      ]
     },
     "execution_count": 11,
     "metadata": {},
     "output_type": "execute_result"
    }
   ],
   "source": [
    "tokenization_and_stemming(data[0])"
   ]
  },
  {
   "cell_type": "markdown",
   "id": "baac342f",
   "metadata": {},
   "source": [
    "## Part 3: TF-IDF"
   ]
  },
  {
   "cell_type": "code",
   "execution_count": 12,
   "id": "9bca20e2",
   "metadata": {},
   "outputs": [
    {
     "name": "stderr",
     "output_type": "stream",
     "text": [
      "D:\\Anaconda\\lib\\site-packages\\sklearn\\feature_extraction\\text.py:528: UserWarning: The parameter 'token_pattern' will not be used since 'tokenizer' is not None'\n",
      "  warnings.warn(\n",
      "D:\\Anaconda\\lib\\site-packages\\sklearn\\feature_extraction\\text.py:409: UserWarning: Your stop_words may be inconsistent with your preprocessing. Tokenizing the stop words generated tokens ['afterward', 'alon', 'alreadi', 'alway', 'anoth', 'anyon', 'anyth', 'anywher', 'becam', 'becom', 'besid', 'cri', 'describ', 'els', 'elsewher', 'empti', 'everi', 'everyon', 'everyth', 'everywher', 'fifti', 'forti', 'henc', 'hereaft', 'herebi', 'howev', 'hundr', 'inde', 'mani', 'meanwhil', 'moreov', 'nobodi', 'noon', 'noth', 'nowher', 'otherwis', 'perhap', 'pleas', 'sever', 'sinc', 'sincer', 'sixti', 'someon', 'someth', 'sometim', 'somewher', 'thenc', 'thereaft', 'therebi', 'therefor', 'togeth', 'twelv', 'twenti', 'whatev', 'whenc', 'whenev', 'wherea', 'whereaft', 'wherebi', 'wherev'] not in stop_words.\n",
      "  warnings.warn(\n"
     ]
    },
    {
     "name": "stdout",
     "output_type": "stream",
     "text": [
      "In total, there are 1000 reviews and 239 terms.\n"
     ]
    }
   ],
   "source": [
    "tfidf_model = TfidfVectorizer(max_df = 0.99, max_features = 1000,\n",
    "                              min_df = 0.01, stop_words = 'english',\n",
    "                              use_idf = True, tokenizer = tokenization_and_stemming, ngram_range = (1,1))\n",
    "\n",
    "tfidf_matrix = tfidf_model.fit_transform(data)\n",
    "\n",
    "print(\"In total, there are \" + str(tfidf_matrix.shape[0]) + \" reviews and \" + str(tfidf_matrix.shape[1]) + \" terms.\")"
   ]
  },
  {
   "cell_type": "code",
   "execution_count": 13,
   "id": "68cb00a9",
   "metadata": {},
   "outputs": [
    {
     "data": {
      "text/plain": [
       "array([[0.       , 0.5125863, 0.       , ..., 0.       , 0.       ,\n",
       "        0.       ],\n",
       "       [0.       , 0.       , 0.       , ..., 0.       , 0.       ,\n",
       "        0.       ],\n",
       "       [0.       , 0.       , 0.       , ..., 0.       , 0.       ,\n",
       "        0.       ],\n",
       "       ...,\n",
       "       [0.       , 0.       , 0.       , ..., 0.       , 0.       ,\n",
       "        0.       ],\n",
       "       [0.       , 0.       , 0.       , ..., 0.       , 0.       ,\n",
       "        0.       ],\n",
       "       [0.       , 0.       , 0.       , ..., 0.       , 0.       ,\n",
       "        0.       ]])"
      ]
     },
     "execution_count": 13,
     "metadata": {},
     "output_type": "execute_result"
    }
   ],
   "source": [
    "tfidf_matrix.toarray()"
   ]
  },
  {
   "cell_type": "code",
   "execution_count": 14,
   "id": "c91ea9f8",
   "metadata": {},
   "outputs": [
    {
     "data": {
      "text/plain": [
       "'Absolutely love this watch! Get compliments almost every time I wear it. Dainty.'"
      ]
     },
     "execution_count": 14,
     "metadata": {},
     "output_type": "execute_result"
    }
   ],
   "source": [
    "data[0]"
   ]
  },
  {
   "cell_type": "code",
   "execution_count": 15,
   "id": "fc0b8346",
   "metadata": {},
   "outputs": [
    {
     "data": {
      "text/plain": [
       "array([0.        , 0.5125863 , 0.        , 0.        , 0.        ,\n",
       "       0.        , 0.        , 0.        , 0.        , 0.        ,\n",
       "       0.        , 0.        , 0.        , 0.        , 0.        ,\n",
       "       0.        , 0.        , 0.        , 0.        , 0.        ,\n",
       "       0.        , 0.        , 0.        , 0.        , 0.        ,\n",
       "       0.        , 0.        , 0.        , 0.        , 0.        ,\n",
       "       0.        , 0.        , 0.        , 0.        , 0.        ,\n",
       "       0.        , 0.        , 0.        , 0.        , 0.        ,\n",
       "       0.        , 0.        , 0.        , 0.        , 0.        ,\n",
       "       0.        , 0.46967673, 0.        , 0.        , 0.        ,\n",
       "       0.        , 0.        , 0.        , 0.        , 0.        ,\n",
       "       0.        , 0.        , 0.        , 0.        , 0.        ,\n",
       "       0.        , 0.        , 0.        , 0.        , 0.        ,\n",
       "       0.        , 0.        , 0.        , 0.        , 0.49124588,\n",
       "       0.        , 0.        , 0.        , 0.        , 0.        ,\n",
       "       0.        , 0.        , 0.        , 0.        , 0.        ,\n",
       "       0.        , 0.        , 0.        , 0.        , 0.        ,\n",
       "       0.        , 0.        , 0.        , 0.        , 0.        ,\n",
       "       0.        , 0.        , 0.        , 0.        , 0.        ,\n",
       "       0.        , 0.        , 0.        , 0.        , 0.        ,\n",
       "       0.        , 0.        , 0.        , 0.        , 0.        ,\n",
       "       0.        , 0.        , 0.        , 0.        , 0.        ,\n",
       "       0.        , 0.        , 0.        , 0.        , 0.        ,\n",
       "       0.        , 0.        , 0.        , 0.        , 0.        ,\n",
       "       0.26515821, 0.        , 0.        , 0.        , 0.        ,\n",
       "       0.        , 0.        , 0.        , 0.        , 0.        ,\n",
       "       0.        , 0.        , 0.        , 0.        , 0.        ,\n",
       "       0.        , 0.        , 0.        , 0.        , 0.        ,\n",
       "       0.        , 0.        , 0.        , 0.        , 0.        ,\n",
       "       0.        , 0.        , 0.        , 0.        , 0.        ,\n",
       "       0.        , 0.        , 0.        , 0.        , 0.        ,\n",
       "       0.        , 0.        , 0.        , 0.        , 0.        ,\n",
       "       0.        , 0.        , 0.        , 0.        , 0.        ,\n",
       "       0.        , 0.        , 0.        , 0.        , 0.        ,\n",
       "       0.        , 0.        , 0.        , 0.        , 0.        ,\n",
       "       0.        , 0.        , 0.        , 0.        , 0.        ,\n",
       "       0.        , 0.        , 0.        , 0.        , 0.        ,\n",
       "       0.        , 0.        , 0.        , 0.        , 0.        ,\n",
       "       0.        , 0.        , 0.        , 0.        , 0.        ,\n",
       "       0.        , 0.        , 0.        , 0.        , 0.        ,\n",
       "       0.        , 0.        , 0.        , 0.        , 0.        ,\n",
       "       0.        , 0.        , 0.        , 0.        , 0.        ,\n",
       "       0.        , 0.        , 0.        , 0.        , 0.        ,\n",
       "       0.        , 0.29541496, 0.        , 0.        , 0.        ,\n",
       "       0.        , 0.        , 0.        , 0.        , 0.        ,\n",
       "       0.        , 0.        , 0.34315838, 0.        , 0.        ,\n",
       "       0.        , 0.        , 0.        , 0.        , 0.        ,\n",
       "       0.        , 0.        , 0.        , 0.        ])"
      ]
     },
     "execution_count": 15,
     "metadata": {},
     "output_type": "execute_result"
    }
   ],
   "source": [
    "tfidf_matrix.toarray()[0]"
   ]
  },
  {
   "cell_type": "code",
   "execution_count": 16,
   "id": "cf5d8f6c",
   "metadata": {},
   "outputs": [
    {
     "data": {
      "text/plain": [
       "matrix([[0.       , 0.5125863, 0.       , ..., 0.       , 0.       ,\n",
       "         0.       ],\n",
       "        [0.       , 0.       , 0.       , ..., 0.       , 0.       ,\n",
       "         0.       ],\n",
       "        [0.       , 0.       , 0.       , ..., 0.       , 0.       ,\n",
       "         0.       ],\n",
       "        ...,\n",
       "        [0.       , 0.       , 0.       , ..., 0.       , 0.       ,\n",
       "         0.       ],\n",
       "        [0.       , 0.       , 0.       , ..., 0.       , 0.       ,\n",
       "         0.       ],\n",
       "        [0.       , 0.       , 0.       , ..., 0.       , 0.       ,\n",
       "         0.       ]])"
      ]
     },
     "execution_count": 16,
     "metadata": {},
     "output_type": "execute_result"
    }
   ],
   "source": [
    "tfidf_matrix.todense()"
   ]
  },
  {
   "cell_type": "code",
   "execution_count": 17,
   "id": "3de72ffd",
   "metadata": {},
   "outputs": [
    {
     "name": "stdout",
     "output_type": "stream",
     "text": [
      "<class 'numpy.ndarray'>\n"
     ]
    }
   ],
   "source": [
    "print(type(tfidf_matrix.toarray()))"
   ]
  },
  {
   "cell_type": "code",
   "execution_count": 18,
   "id": "a23ce073",
   "metadata": {},
   "outputs": [
    {
     "name": "stdout",
     "output_type": "stream",
     "text": [
      "<class 'numpy.matrix'>\n"
     ]
    }
   ],
   "source": [
    "print(type(tfidf_matrix.todense()))"
   ]
  },
  {
   "cell_type": "code",
   "execution_count": 19,
   "id": "33bc482b",
   "metadata": {},
   "outputs": [],
   "source": [
    "tf_selected_words = tfidf_model.get_feature_names_out()"
   ]
  },
  {
   "cell_type": "code",
   "execution_count": 20,
   "id": "aea1ab2f",
   "metadata": {},
   "outputs": [
    {
     "data": {
      "text/plain": [
       "array(['abl', 'absolut', 'accur', 'actual', 'adjust', 'alarm', 'alreadi',\n",
       "       'alway', 'amaz', 'amazon', 'anoth', 'arm', 'arriv', 'automat',\n",
       "       'awesom', 'bad', 'band', 'batteri', 'beauti', 'best', 'better',\n",
       "       'big', 'bit', 'black', 'blue', 'bought', 'box', 'bracelet',\n",
       "       'brand', 'break', 'bright', 'broke', 'button', 'buy', 'ca', 'came',\n",
       "       'case', 'casio', 'chang', 'cheap', 'clasp', 'classi', 'clock',\n",
       "       'color', 'come', 'comfort', 'compliment', 'cool', 'cost', 'crown',\n",
       "       'crystal', 'dark', 'date', 'daughter', 'day', 'deal', 'definit',\n",
       "       'deliveri', 'design', 'dial', 'differ', 'difficult', 'disappoint',\n",
       "       'display', 'dress', 'durabl', 'easi', 'easili', 'end', 'everi',\n",
       "       'everyday', 'everyth', 'exact', 'excel', 'expect', 'expens',\n",
       "       'face', 'fair', 'far', 'fast', 'featur', 'feel', 'fell', 'fine',\n",
       "       'finish', 'fit', 'function', 'gave', 'gift', 'gold', 'good', 'got',\n",
       "       'great', 'hand', 'happi', 'hard', 'heavi', 'high', 'hold',\n",
       "       'honest', 'hope', 'hour', 'howev', 'husband', 'includ', 'instruct',\n",
       "       'invicta', 'issu', 'item', 'kept', 'know', 'larg', 'leather',\n",
       "       'light', 'like', 'link', 'littl', 'long', 'look', 'lot', 'love',\n",
       "       'low', 'make', 'mani', 'metal', 'minut', 'model', 'money', 'month',\n",
       "       'movement', 'need', 'new', 'nice', 'night', 'normal', 'number',\n",
       "       'old', 'open', 'oper', 'order', 'origin', 'overal', 'packag',\n",
       "       'paid', 'pay', 'perfect', 'perform', 'person', 'pictur', 'piec',\n",
       "       'pin', 'place', 'plastic', 'pleas', 'point', 'press', 'pretti',\n",
       "       'price', 'problem', 'product', 'purchas', 'qualiti', 'quick',\n",
       "       'quit', 'rate', 'read', 'real', 'realli', 'reason', 'receiv',\n",
       "       'recommend', 'red', 'remov', 'replac', 'resist', 'return',\n",
       "       'review', 'right', 'run', 'said', 'say', 'screw', 'second',\n",
       "       'seiko', 'seller', 'send', 'sent', 'set', 'sever', 'ship', 'short',\n",
       "       'simpl', 'sinc', 'size', 'small', 'smaller', 'solid', 'someth',\n",
       "       'somewhat', 'son', 'star', 'start', 'stop', 'strap', 'sturdi',\n",
       "       'style', 'stylish', 'super', 'sure', 'surpris', 'swim', 'tell',\n",
       "       'thank', 'thing', 'think', 'thought', 'time', 'timex', 'tini',\n",
       "       'tri', 'turn', 'use', 'valu', 'want', 'watch', 'water', 'way',\n",
       "       'wear', 'week', 'weight', 'went', 'wife', 'wind', 'wish', 'work',\n",
       "       'worn', 'worth', 'wrist', 'year'], dtype=object)"
      ]
     },
     "execution_count": 20,
     "metadata": {},
     "output_type": "execute_result"
    }
   ],
   "source": [
    "tf_selected_words"
   ]
  },
  {
   "cell_type": "markdown",
   "id": "6c1ba4e7",
   "metadata": {},
   "source": [
    "## Part 4: K-means clustering"
   ]
  },
  {
   "cell_type": "code",
   "execution_count": 21,
   "id": "09da5d2f",
   "metadata": {},
   "outputs": [
    {
     "name": "stderr",
     "output_type": "stream",
     "text": [
      "D:\\Anaconda\\lib\\site-packages\\sklearn\\cluster\\_kmeans.py:870: FutureWarning: The default value of `n_init` will change from 10 to 'auto' in 1.4. Set the value of `n_init` explicitly to suppress the warning\n",
      "  warnings.warn(\n"
     ]
    }
   ],
   "source": [
    "# k-means clustering\n",
    "from sklearn.cluster import KMeans\n",
    "\n",
    "num_clusters = 5\n",
    "\n",
    "# number of clusters\n",
    "km = KMeans(n_clusters = num_clusters)\n",
    "km.fit(tfidf_matrix)\n",
    "\n",
    "clusters = km.labels_.tolist()"
   ]
  },
  {
   "cell_type": "markdown",
   "id": "deb26b97",
   "metadata": {},
   "source": [
    "### 4.1. Analyze K-means Result"
   ]
  },
  {
   "cell_type": "code",
   "execution_count": 22,
   "id": "728bffb7",
   "metadata": {},
   "outputs": [],
   "source": [
    "# Create DataFrame films from all of the input files.\n",
    "product = {'review': df[:1000].review_body, 'cluster':clusters}\n",
    "frame = pd.DataFrame(product, columns = ['review', 'cluster'])"
   ]
  },
  {
   "cell_type": "code",
   "execution_count": 23,
   "id": "2423365b",
   "metadata": {},
   "outputs": [
    {
     "data": {
      "text/html": [
       "<div>\n",
       "<style scoped>\n",
       "    .dataframe tbody tr th:only-of-type {\n",
       "        vertical-align: middle;\n",
       "    }\n",
       "\n",
       "    .dataframe tbody tr th {\n",
       "        vertical-align: top;\n",
       "    }\n",
       "\n",
       "    .dataframe thead th {\n",
       "        text-align: right;\n",
       "    }\n",
       "</style>\n",
       "<table border=\"1\" class=\"dataframe\">\n",
       "  <thead>\n",
       "    <tr style=\"text-align: right;\">\n",
       "      <th></th>\n",
       "      <th>review</th>\n",
       "      <th>cluster</th>\n",
       "    </tr>\n",
       "  </thead>\n",
       "  <tbody>\n",
       "    <tr>\n",
       "      <th>0</th>\n",
       "      <td>Absolutely love this watch! Get compliments al...</td>\n",
       "      <td>0</td>\n",
       "    </tr>\n",
       "    <tr>\n",
       "      <th>1</th>\n",
       "      <td>I love this watch it keeps time wonderfully.</td>\n",
       "      <td>0</td>\n",
       "    </tr>\n",
       "    <tr>\n",
       "      <th>2</th>\n",
       "      <td>Scratches</td>\n",
       "      <td>1</td>\n",
       "    </tr>\n",
       "    <tr>\n",
       "      <th>3</th>\n",
       "      <td>It works well on me. However, I found cheaper ...</td>\n",
       "      <td>1</td>\n",
       "    </tr>\n",
       "    <tr>\n",
       "      <th>4</th>\n",
       "      <td>Beautiful watch face.  The band looks nice all...</td>\n",
       "      <td>1</td>\n",
       "    </tr>\n",
       "    <tr>\n",
       "      <th>5</th>\n",
       "      <td>i love this watch for my purpose, about the pe...</td>\n",
       "      <td>0</td>\n",
       "    </tr>\n",
       "    <tr>\n",
       "      <th>6</th>\n",
       "      <td>for my wife and she loved it, looks great and ...</td>\n",
       "      <td>0</td>\n",
       "    </tr>\n",
       "    <tr>\n",
       "      <th>7</th>\n",
       "      <td>I was about to buy this thinking it was a Swis...</td>\n",
       "      <td>1</td>\n",
       "    </tr>\n",
       "    <tr>\n",
       "      <th>8</th>\n",
       "      <td>Watch is perfect. Rugged with the metal &amp;#34;B...</td>\n",
       "      <td>1</td>\n",
       "    </tr>\n",
       "    <tr>\n",
       "      <th>9</th>\n",
       "      <td>Great quality and build.&lt;br /&gt;The motors are r...</td>\n",
       "      <td>1</td>\n",
       "    </tr>\n",
       "  </tbody>\n",
       "</table>\n",
       "</div>"
      ],
      "text/plain": [
       "                                              review  cluster\n",
       "0  Absolutely love this watch! Get compliments al...        0\n",
       "1       I love this watch it keeps time wonderfully.        0\n",
       "2                                          Scratches        1\n",
       "3  It works well on me. However, I found cheaper ...        1\n",
       "4  Beautiful watch face.  The band looks nice all...        1\n",
       "5  i love this watch for my purpose, about the pe...        0\n",
       "6  for my wife and she loved it, looks great and ...        0\n",
       "7  I was about to buy this thinking it was a Swis...        1\n",
       "8  Watch is perfect. Rugged with the metal &#34;B...        1\n",
       "9  Great quality and build.<br />The motors are r...        1"
      ]
     },
     "execution_count": 23,
     "metadata": {},
     "output_type": "execute_result"
    }
   ],
   "source": [
    "frame.head(10)"
   ]
  },
  {
   "cell_type": "code",
   "execution_count": 24,
   "id": "ef93dc98",
   "metadata": {},
   "outputs": [
    {
     "name": "stdout",
     "output_type": "stream",
     "text": [
      "Number of reviews included in each cluster:\n"
     ]
    },
    {
     "data": {
      "text/html": [
       "<div>\n",
       "<style scoped>\n",
       "    .dataframe tbody tr th:only-of-type {\n",
       "        vertical-align: middle;\n",
       "    }\n",
       "\n",
       "    .dataframe tbody tr th {\n",
       "        vertical-align: top;\n",
       "    }\n",
       "\n",
       "    .dataframe thead th {\n",
       "        text-align: right;\n",
       "    }\n",
       "</style>\n",
       "<table border=\"1\" class=\"dataframe\">\n",
       "  <thead>\n",
       "    <tr style=\"text-align: right;\">\n",
       "      <th></th>\n",
       "      <th>cluster</th>\n",
       "    </tr>\n",
       "  </thead>\n",
       "  <tbody>\n",
       "    <tr>\n",
       "      <th>1</th>\n",
       "      <td>650</td>\n",
       "    </tr>\n",
       "    <tr>\n",
       "      <th>0</th>\n",
       "      <td>179</td>\n",
       "    </tr>\n",
       "    <tr>\n",
       "      <th>3</th>\n",
       "      <td>77</td>\n",
       "    </tr>\n",
       "    <tr>\n",
       "      <th>4</th>\n",
       "      <td>62</td>\n",
       "    </tr>\n",
       "    <tr>\n",
       "      <th>2</th>\n",
       "      <td>32</td>\n",
       "    </tr>\n",
       "  </tbody>\n",
       "</table>\n",
       "</div>"
      ],
      "text/plain": [
       "   cluster\n",
       "1      650\n",
       "0      179\n",
       "3       77\n",
       "4       62\n",
       "2       32"
      ]
     },
     "execution_count": 24,
     "metadata": {},
     "output_type": "execute_result"
    }
   ],
   "source": [
    "print(\"Number of reviews included in each cluster:\")\n",
    "frame['cluster'].value_counts().to_frame()"
   ]
  },
  {
   "cell_type": "code",
   "execution_count": 25,
   "id": "e85f25a6",
   "metadata": {},
   "outputs": [
    {
     "data": {
      "text/plain": [
       "array([[0.        , 0.02558555, 0.        , ..., 0.00757875, 0.01294037,\n",
       "        0.00910665],\n",
       "       [0.0063005 , 0.00448608, 0.00392885, ..., 0.00704477, 0.01683971,\n",
       "        0.01533387],\n",
       "       [0.        , 0.        , 0.        , ..., 0.        , 0.02053786,\n",
       "        0.        ],\n",
       "       [0.        , 0.        , 0.        , ..., 0.        , 0.00851693,\n",
       "        0.        ],\n",
       "       [0.        , 0.        , 0.        , ..., 0.        , 0.00784247,\n",
       "        0.        ]])"
      ]
     },
     "execution_count": 25,
     "metadata": {},
     "output_type": "execute_result"
    }
   ],
   "source": [
    "km.cluster_centers_"
   ]
  },
  {
   "cell_type": "code",
   "execution_count": 26,
   "id": "090feef4",
   "metadata": {},
   "outputs": [
    {
     "data": {
      "text/plain": [
       "(5, 239)"
      ]
     },
     "execution_count": 26,
     "metadata": {},
     "output_type": "execute_result"
    }
   ],
   "source": [
    "km.cluster_centers_.shape"
   ]
  },
  {
   "cell_type": "code",
   "execution_count": 28,
   "id": "534c9e3f",
   "metadata": {},
   "outputs": [
    {
     "name": "stdout",
     "output_type": "stream",
     "text": [
      "<Document clustering result by K-means>\n",
      "Cluster 0 words:love,great,look,gift,wife,beauti,\n",
      "Cluster 0 reviews (179 reviews) \n",
      "Cluster 1 words:look,like,work,band,time,perfect,\n",
      "Cluster 1 reviews (650 reviews) \n",
      "Cluster 2 words:excel,product,price,fast,qualiti,good,\n",
      "Cluster 2 reviews (32 reviews) \n",
      "Cluster 3 words:good,qualiti,product,price,look,love,\n",
      "Cluster 3 reviews (77 reviews) \n",
      "Cluster 4 words:nice,price,look,realli,simpl,good,\n",
      "Cluster 4 reviews (62 reviews) \n"
     ]
    }
   ],
   "source": [
    "print (\"<Document clustering result by K-means>\")\n",
    "\n",
    "order_centroids = km.cluster_centers_.argsort()[:, ::-1] \n",
    "\n",
    "Cluster_keywords_summary = {}\n",
    "for i in range(num_clusters):\n",
    "    print (\"Cluster \" + str(i) + \" words:\", end='')\n",
    "    Cluster_keywords_summary[i] = []\n",
    "    for ind in order_centroids[i, :6]: #replace 6 with n words per cluster\n",
    "        Cluster_keywords_summary[i].append(tf_selected_words[ind])\n",
    "        print (tf_selected_words[ind] + \",\", end='')\n",
    "    print ()\n",
    "    \n",
    "    cluster_reviews = frame[frame.cluster==i].review.tolist()\n",
    "    print (\"Cluster \" + str(i) + \" reviews (\" + str(len(cluster_reviews)) + \" reviews) \")"
   ]
  },
  {
   "cell_type": "markdown",
   "id": "85b7c9fb",
   "metadata": {},
   "source": [
    "## Part 5: Topic Modeling - Latent Dirichlet Allocation (LDA)"
   ]
  },
  {
   "cell_type": "code",
   "execution_count": 29,
   "id": "6e5c8e89",
   "metadata": {},
   "outputs": [],
   "source": [
    "# Use LDA for clustering\n",
    "from sklearn.decomposition import LatentDirichletAllocation\n",
    "lda = LatentDirichletAllocation(n_components = 5)"
   ]
  },
  {
   "cell_type": "code",
   "execution_count": 30,
   "id": "08abaa58",
   "metadata": {},
   "outputs": [
    {
     "name": "stdout",
     "output_type": "stream",
     "text": [
      "(1000, 5)\n",
      "[[0.27341755 0.32146384 0.28453466 0.06008866 0.06049528]\n",
      " [0.08449435 0.08467227 0.66197011 0.0846385  0.08422478]\n",
      " [0.2        0.2        0.2        0.2        0.2       ]\n",
      " ...\n",
      " [0.1000004  0.10000074 0.59950889 0.10006605 0.10042393]\n",
      " [0.0667389  0.06772408 0.73151152 0.06714491 0.06688059]\n",
      " [0.06756419 0.07038919 0.06845266 0.06919931 0.72439465]]\n"
     ]
    }
   ],
   "source": [
    "# Document topic matrix for tfidf_matrix_lda\n",
    "lda_output = lda.fit_transform(tfidf_matrix)\n",
    "print(lda_output.shape)\n",
    "print(lda_output)"
   ]
  },
  {
   "cell_type": "code",
   "execution_count": 31,
   "id": "634eddc8",
   "metadata": {},
   "outputs": [
    {
     "name": "stdout",
     "output_type": "stream",
     "text": [
      "(5, 239)\n",
      "[[ 2.7627634   7.68582745  0.20020369 ...  0.20167435  0.21237825\n",
      "   2.75668074]\n",
      " [ 0.20213522  0.20276187  0.7194353  ...  2.40563039  0.20266574\n",
      "   0.20048696]\n",
      " [ 0.20024139  0.20199805  0.2022761  ...  2.36348708  2.16968994\n",
      "   2.41429825]\n",
      " [ 0.22423501  0.2042434   2.23061754 ...  1.75152441 10.04150699\n",
      "   7.02190301]\n",
      " [ 1.70595205  0.20093206  0.20122246 ...  0.21338108  3.43514688\n",
      "   0.20373649]]\n"
     ]
    }
   ],
   "source": [
    "# Topics and words matrix\n",
    "topic_word = lda.components_\n",
    "print(topic_word.shape)\n",
    "print(topic_word)"
   ]
  },
  {
   "cell_type": "code",
   "execution_count": 32,
   "id": "fa06fb86",
   "metadata": {},
   "outputs": [
    {
     "data": {
      "text/html": [
       "<div>\n",
       "<style scoped>\n",
       "    .dataframe tbody tr th:only-of-type {\n",
       "        vertical-align: middle;\n",
       "    }\n",
       "\n",
       "    .dataframe tbody tr th {\n",
       "        vertical-align: top;\n",
       "    }\n",
       "\n",
       "    .dataframe thead th {\n",
       "        text-align: right;\n",
       "    }\n",
       "</style>\n",
       "<table border=\"1\" class=\"dataframe\">\n",
       "  <thead>\n",
       "    <tr style=\"text-align: right;\">\n",
       "      <th></th>\n",
       "      <th>Topic0</th>\n",
       "      <th>Topic1</th>\n",
       "      <th>Topic2</th>\n",
       "      <th>Topic3</th>\n",
       "      <th>Topic4</th>\n",
       "      <th>topic</th>\n",
       "    </tr>\n",
       "  </thead>\n",
       "  <tbody>\n",
       "    <tr>\n",
       "      <th>Doc0</th>\n",
       "      <td>0.27</td>\n",
       "      <td>0.32</td>\n",
       "      <td>0.28</td>\n",
       "      <td>0.06</td>\n",
       "      <td>0.06</td>\n",
       "      <td>1</td>\n",
       "    </tr>\n",
       "    <tr>\n",
       "      <th>Doc1</th>\n",
       "      <td>0.08</td>\n",
       "      <td>0.08</td>\n",
       "      <td>0.66</td>\n",
       "      <td>0.08</td>\n",
       "      <td>0.08</td>\n",
       "      <td>2</td>\n",
       "    </tr>\n",
       "    <tr>\n",
       "      <th>Doc2</th>\n",
       "      <td>0.20</td>\n",
       "      <td>0.20</td>\n",
       "      <td>0.20</td>\n",
       "      <td>0.20</td>\n",
       "      <td>0.20</td>\n",
       "      <td>0</td>\n",
       "    </tr>\n",
       "    <tr>\n",
       "      <th>Doc3</th>\n",
       "      <td>0.50</td>\n",
       "      <td>0.06</td>\n",
       "      <td>0.06</td>\n",
       "      <td>0.32</td>\n",
       "      <td>0.06</td>\n",
       "      <td>0</td>\n",
       "    </tr>\n",
       "    <tr>\n",
       "      <th>Doc4</th>\n",
       "      <td>0.08</td>\n",
       "      <td>0.04</td>\n",
       "      <td>0.04</td>\n",
       "      <td>0.51</td>\n",
       "      <td>0.33</td>\n",
       "      <td>3</td>\n",
       "    </tr>\n",
       "    <tr>\n",
       "      <th>Doc5</th>\n",
       "      <td>0.08</td>\n",
       "      <td>0.07</td>\n",
       "      <td>0.70</td>\n",
       "      <td>0.07</td>\n",
       "      <td>0.08</td>\n",
       "      <td>2</td>\n",
       "    </tr>\n",
       "    <tr>\n",
       "      <th>Doc6</th>\n",
       "      <td>0.07</td>\n",
       "      <td>0.06</td>\n",
       "      <td>0.07</td>\n",
       "      <td>0.06</td>\n",
       "      <td>0.74</td>\n",
       "      <td>4</td>\n",
       "    </tr>\n",
       "    <tr>\n",
       "      <th>Doc7</th>\n",
       "      <td>0.06</td>\n",
       "      <td>0.06</td>\n",
       "      <td>0.06</td>\n",
       "      <td>0.06</td>\n",
       "      <td>0.75</td>\n",
       "      <td>4</td>\n",
       "    </tr>\n",
       "    <tr>\n",
       "      <th>Doc8</th>\n",
       "      <td>0.30</td>\n",
       "      <td>0.05</td>\n",
       "      <td>0.04</td>\n",
       "      <td>0.57</td>\n",
       "      <td>0.04</td>\n",
       "      <td>3</td>\n",
       "    </tr>\n",
       "    <tr>\n",
       "      <th>Doc9</th>\n",
       "      <td>0.06</td>\n",
       "      <td>0.06</td>\n",
       "      <td>0.06</td>\n",
       "      <td>0.06</td>\n",
       "      <td>0.77</td>\n",
       "      <td>4</td>\n",
       "    </tr>\n",
       "  </tbody>\n",
       "</table>\n",
       "</div>"
      ],
      "text/plain": [
       "      Topic0  Topic1  Topic2  Topic3  Topic4  topic\n",
       "Doc0    0.27    0.32    0.28    0.06    0.06      1\n",
       "Doc1    0.08    0.08    0.66    0.08    0.08      2\n",
       "Doc2    0.20    0.20    0.20    0.20    0.20      0\n",
       "Doc3    0.50    0.06    0.06    0.32    0.06      0\n",
       "Doc4    0.08    0.04    0.04    0.51    0.33      3\n",
       "Doc5    0.08    0.07    0.70    0.07    0.08      2\n",
       "Doc6    0.07    0.06    0.07    0.06    0.74      4\n",
       "Doc7    0.06    0.06    0.06    0.06    0.75      4\n",
       "Doc8    0.30    0.05    0.04    0.57    0.04      3\n",
       "Doc9    0.06    0.06    0.06    0.06    0.77      4"
      ]
     },
     "execution_count": 32,
     "metadata": {},
     "output_type": "execute_result"
    }
   ],
   "source": [
    "# column names\n",
    "topic_names = [\"Topic\" + str(i) for i in range(lda.n_components)]\n",
    "\n",
    "# index names\n",
    "doc_names = [\"Doc\" + str(i) for i in range(len(data))]\n",
    "\n",
    "df_document_topic = pd.DataFrame(np.round(lda_output, 2), columns=topic_names, index=doc_names)\n",
    "\n",
    "# get dominant topic for each document\n",
    "topic = np.argmax(df_document_topic.values, axis=1)\n",
    "df_document_topic['topic'] = topic\n",
    "\n",
    "df_document_topic.head(10)"
   ]
  },
  {
   "cell_type": "code",
   "execution_count": 33,
   "id": "4dc7a921",
   "metadata": {},
   "outputs": [
    {
     "data": {
      "text/html": [
       "<div>\n",
       "<style scoped>\n",
       "    .dataframe tbody tr th:only-of-type {\n",
       "        vertical-align: middle;\n",
       "    }\n",
       "\n",
       "    .dataframe tbody tr th {\n",
       "        vertical-align: top;\n",
       "    }\n",
       "\n",
       "    .dataframe thead th {\n",
       "        text-align: right;\n",
       "    }\n",
       "</style>\n",
       "<table border=\"1\" class=\"dataframe\">\n",
       "  <thead>\n",
       "    <tr style=\"text-align: right;\">\n",
       "      <th></th>\n",
       "      <th>topic</th>\n",
       "    </tr>\n",
       "  </thead>\n",
       "  <tbody>\n",
       "    <tr>\n",
       "      <th>3</th>\n",
       "      <td>284</td>\n",
       "    </tr>\n",
       "    <tr>\n",
       "      <th>2</th>\n",
       "      <td>245</td>\n",
       "    </tr>\n",
       "    <tr>\n",
       "      <th>4</th>\n",
       "      <td>232</td>\n",
       "    </tr>\n",
       "    <tr>\n",
       "      <th>0</th>\n",
       "      <td>163</td>\n",
       "    </tr>\n",
       "    <tr>\n",
       "      <th>1</th>\n",
       "      <td>76</td>\n",
       "    </tr>\n",
       "  </tbody>\n",
       "</table>\n",
       "</div>"
      ],
      "text/plain": [
       "   topic\n",
       "3    284\n",
       "2    245\n",
       "4    232\n",
       "0    163\n",
       "1     76"
      ]
     },
     "execution_count": 33,
     "metadata": {},
     "output_type": "execute_result"
    }
   ],
   "source": [
    "df_document_topic['topic'].value_counts().to_frame()"
   ]
  },
  {
   "cell_type": "code",
   "execution_count": 34,
   "id": "f7a82951",
   "metadata": {},
   "outputs": [
    {
     "name": "stdout",
     "output_type": "stream",
     "text": [
      "[[ 2.7627634   7.68582745  0.20020369 ...  0.20167435  0.21237825\n",
      "   2.75668074]\n",
      " [ 0.20213522  0.20276187  0.7194353  ...  2.40563039  0.20266574\n",
      "   0.20048696]\n",
      " [ 0.20024139  0.20199805  0.2022761  ...  2.36348708  2.16968994\n",
      "   2.41429825]\n",
      " [ 0.22423501  0.2042434   2.23061754 ...  1.75152441 10.04150699\n",
      "   7.02190301]\n",
      " [ 1.70595205  0.20093206  0.20122246 ...  0.21338108  3.43514688\n",
      "   0.20373649]]\n"
     ]
    },
    {
     "data": {
      "text/html": [
       "<div>\n",
       "<style scoped>\n",
       "    .dataframe tbody tr th:only-of-type {\n",
       "        vertical-align: middle;\n",
       "    }\n",
       "\n",
       "    .dataframe tbody tr th {\n",
       "        vertical-align: top;\n",
       "    }\n",
       "\n",
       "    .dataframe thead th {\n",
       "        text-align: right;\n",
       "    }\n",
       "</style>\n",
       "<table border=\"1\" class=\"dataframe\">\n",
       "  <thead>\n",
       "    <tr style=\"text-align: right;\">\n",
       "      <th></th>\n",
       "      <th>abl</th>\n",
       "      <th>absolut</th>\n",
       "      <th>accur</th>\n",
       "      <th>actual</th>\n",
       "      <th>adjust</th>\n",
       "      <th>alarm</th>\n",
       "      <th>alreadi</th>\n",
       "      <th>alway</th>\n",
       "      <th>amaz</th>\n",
       "      <th>amazon</th>\n",
       "      <th>...</th>\n",
       "      <th>weight</th>\n",
       "      <th>went</th>\n",
       "      <th>wife</th>\n",
       "      <th>wind</th>\n",
       "      <th>wish</th>\n",
       "      <th>work</th>\n",
       "      <th>worn</th>\n",
       "      <th>worth</th>\n",
       "      <th>wrist</th>\n",
       "      <th>year</th>\n",
       "    </tr>\n",
       "  </thead>\n",
       "  <tbody>\n",
       "    <tr>\n",
       "      <th>Topic0</th>\n",
       "      <td>2.762763</td>\n",
       "      <td>7.685827</td>\n",
       "      <td>0.200204</td>\n",
       "      <td>0.205020</td>\n",
       "      <td>0.201052</td>\n",
       "      <td>2.378288</td>\n",
       "      <td>0.200817</td>\n",
       "      <td>0.200342</td>\n",
       "      <td>9.505360</td>\n",
       "      <td>0.204562</td>\n",
       "      <td>...</td>\n",
       "      <td>0.200509</td>\n",
       "      <td>0.200865</td>\n",
       "      <td>0.201069</td>\n",
       "      <td>0.204700</td>\n",
       "      <td>0.201056</td>\n",
       "      <td>1.623433</td>\n",
       "      <td>2.561198</td>\n",
       "      <td>0.201674</td>\n",
       "      <td>0.212378</td>\n",
       "      <td>2.756681</td>\n",
       "    </tr>\n",
       "    <tr>\n",
       "      <th>Topic1</th>\n",
       "      <td>0.202135</td>\n",
       "      <td>0.202762</td>\n",
       "      <td>0.719435</td>\n",
       "      <td>1.721991</td>\n",
       "      <td>0.201740</td>\n",
       "      <td>0.200104</td>\n",
       "      <td>0.201863</td>\n",
       "      <td>0.204054</td>\n",
       "      <td>0.201150</td>\n",
       "      <td>0.207007</td>\n",
       "      <td>...</td>\n",
       "      <td>4.905223</td>\n",
       "      <td>0.203511</td>\n",
       "      <td>0.695944</td>\n",
       "      <td>0.657893</td>\n",
       "      <td>0.200092</td>\n",
       "      <td>0.212362</td>\n",
       "      <td>0.200355</td>\n",
       "      <td>2.405630</td>\n",
       "      <td>0.202666</td>\n",
       "      <td>0.200487</td>\n",
       "    </tr>\n",
       "    <tr>\n",
       "      <th>Topic2</th>\n",
       "      <td>0.200241</td>\n",
       "      <td>0.201998</td>\n",
       "      <td>0.202276</td>\n",
       "      <td>0.201372</td>\n",
       "      <td>0.203610</td>\n",
       "      <td>0.201046</td>\n",
       "      <td>0.204231</td>\n",
       "      <td>0.201921</td>\n",
       "      <td>0.654757</td>\n",
       "      <td>1.522923</td>\n",
       "      <td>...</td>\n",
       "      <td>0.201897</td>\n",
       "      <td>0.200037</td>\n",
       "      <td>0.200607</td>\n",
       "      <td>1.415913</td>\n",
       "      <td>0.200404</td>\n",
       "      <td>23.669104</td>\n",
       "      <td>0.201285</td>\n",
       "      <td>2.363487</td>\n",
       "      <td>2.169690</td>\n",
       "      <td>2.414298</td>\n",
       "    </tr>\n",
       "    <tr>\n",
       "      <th>Topic3</th>\n",
       "      <td>0.224235</td>\n",
       "      <td>0.204243</td>\n",
       "      <td>2.230618</td>\n",
       "      <td>2.303291</td>\n",
       "      <td>0.203080</td>\n",
       "      <td>2.959169</td>\n",
       "      <td>4.512821</td>\n",
       "      <td>0.242889</td>\n",
       "      <td>0.205710</td>\n",
       "      <td>2.968600</td>\n",
       "      <td>...</td>\n",
       "      <td>0.207446</td>\n",
       "      <td>1.667585</td>\n",
       "      <td>0.200588</td>\n",
       "      <td>0.347065</td>\n",
       "      <td>3.768172</td>\n",
       "      <td>10.973978</td>\n",
       "      <td>0.209087</td>\n",
       "      <td>1.751524</td>\n",
       "      <td>10.041507</td>\n",
       "      <td>7.021903</td>\n",
       "    </tr>\n",
       "    <tr>\n",
       "      <th>Topic4</th>\n",
       "      <td>1.705952</td>\n",
       "      <td>0.200932</td>\n",
       "      <td>0.201222</td>\n",
       "      <td>1.424721</td>\n",
       "      <td>5.483688</td>\n",
       "      <td>0.201804</td>\n",
       "      <td>0.643636</td>\n",
       "      <td>3.990797</td>\n",
       "      <td>0.201858</td>\n",
       "      <td>1.899448</td>\n",
       "      <td>...</td>\n",
       "      <td>0.203288</td>\n",
       "      <td>1.445176</td>\n",
       "      <td>11.344189</td>\n",
       "      <td>1.608138</td>\n",
       "      <td>0.200784</td>\n",
       "      <td>4.582790</td>\n",
       "      <td>1.031168</td>\n",
       "      <td>0.213381</td>\n",
       "      <td>3.435147</td>\n",
       "      <td>0.203736</td>\n",
       "    </tr>\n",
       "  </tbody>\n",
       "</table>\n",
       "<p>5 rows × 239 columns</p>\n",
       "</div>"
      ],
      "text/plain": [
       "             abl   absolut     accur    actual    adjust     alarm   alreadi  \\\n",
       "Topic0  2.762763  7.685827  0.200204  0.205020  0.201052  2.378288  0.200817   \n",
       "Topic1  0.202135  0.202762  0.719435  1.721991  0.201740  0.200104  0.201863   \n",
       "Topic2  0.200241  0.201998  0.202276  0.201372  0.203610  0.201046  0.204231   \n",
       "Topic3  0.224235  0.204243  2.230618  2.303291  0.203080  2.959169  4.512821   \n",
       "Topic4  1.705952  0.200932  0.201222  1.424721  5.483688  0.201804  0.643636   \n",
       "\n",
       "           alway      amaz    amazon  ...    weight      went       wife  \\\n",
       "Topic0  0.200342  9.505360  0.204562  ...  0.200509  0.200865   0.201069   \n",
       "Topic1  0.204054  0.201150  0.207007  ...  4.905223  0.203511   0.695944   \n",
       "Topic2  0.201921  0.654757  1.522923  ...  0.201897  0.200037   0.200607   \n",
       "Topic3  0.242889  0.205710  2.968600  ...  0.207446  1.667585   0.200588   \n",
       "Topic4  3.990797  0.201858  1.899448  ...  0.203288  1.445176  11.344189   \n",
       "\n",
       "            wind      wish       work      worn     worth      wrist      year  \n",
       "Topic0  0.204700  0.201056   1.623433  2.561198  0.201674   0.212378  2.756681  \n",
       "Topic1  0.657893  0.200092   0.212362  0.200355  2.405630   0.202666  0.200487  \n",
       "Topic2  1.415913  0.200404  23.669104  0.201285  2.363487   2.169690  2.414298  \n",
       "Topic3  0.347065  3.768172  10.973978  0.209087  1.751524  10.041507  7.021903  \n",
       "Topic4  1.608138  0.200784   4.582790  1.031168  0.213381   3.435147  0.203736  \n",
       "\n",
       "[5 rows x 239 columns]"
      ]
     },
     "execution_count": 34,
     "metadata": {},
     "output_type": "execute_result"
    }
   ],
   "source": [
    "# topic word matrix\n",
    "print(lda.components_)\n",
    "# topic-word matrix\n",
    "df_topic_words = pd.DataFrame(lda.components_)\n",
    "\n",
    "# column and index\n",
    "df_topic_words.columns = tfidf_model.get_feature_names_out()\n",
    "df_topic_words.index = topic_names\n",
    "\n",
    "df_topic_words.head()"
   ]
  },
  {
   "cell_type": "code",
   "execution_count": 35,
   "id": "340a1ee4",
   "metadata": {},
   "outputs": [
    {
     "data": {
      "text/html": [
       "<div>\n",
       "<style scoped>\n",
       "    .dataframe tbody tr th:only-of-type {\n",
       "        vertical-align: middle;\n",
       "    }\n",
       "\n",
       "    .dataframe tbody tr th {\n",
       "        vertical-align: top;\n",
       "    }\n",
       "\n",
       "    .dataframe thead th {\n",
       "        text-align: right;\n",
       "    }\n",
       "</style>\n",
       "<table border=\"1\" class=\"dataframe\">\n",
       "  <thead>\n",
       "    <tr style=\"text-align: right;\">\n",
       "      <th></th>\n",
       "      <th>Word 0</th>\n",
       "      <th>Word 1</th>\n",
       "      <th>Word 2</th>\n",
       "      <th>Word 3</th>\n",
       "      <th>Word 4</th>\n",
       "      <th>Word 5</th>\n",
       "      <th>Word 6</th>\n",
       "      <th>Word 7</th>\n",
       "      <th>Word 8</th>\n",
       "      <th>Word 9</th>\n",
       "      <th>Word 10</th>\n",
       "      <th>Word 11</th>\n",
       "      <th>Word 12</th>\n",
       "      <th>Word 13</th>\n",
       "      <th>Word 14</th>\n",
       "    </tr>\n",
       "  </thead>\n",
       "  <tbody>\n",
       "    <tr>\n",
       "      <th>Topic 0</th>\n",
       "      <td>great</td>\n",
       "      <td>beauti</td>\n",
       "      <td>perfect</td>\n",
       "      <td>love</td>\n",
       "      <td>gift</td>\n",
       "      <td>amaz</td>\n",
       "      <td>bought</td>\n",
       "      <td>absolut</td>\n",
       "      <td>pleas</td>\n",
       "      <td>deliveri</td>\n",
       "      <td>fast</td>\n",
       "      <td>function</td>\n",
       "      <td>heavi</td>\n",
       "      <td>purchas</td>\n",
       "      <td>fit</td>\n",
       "    </tr>\n",
       "    <tr>\n",
       "      <th>Topic 1</th>\n",
       "      <td>band</td>\n",
       "      <td>light</td>\n",
       "      <td>broke</td>\n",
       "      <td>super</td>\n",
       "      <td>compliment</td>\n",
       "      <td>want</td>\n",
       "      <td>money</td>\n",
       "      <td>happi</td>\n",
       "      <td>thank</td>\n",
       "      <td>wear</td>\n",
       "      <td>piec</td>\n",
       "      <td>weight</td>\n",
       "      <td>time</td>\n",
       "      <td>fell</td>\n",
       "      <td>sturdi</td>\n",
       "    </tr>\n",
       "    <tr>\n",
       "      <th>Topic 2</th>\n",
       "      <td>good</td>\n",
       "      <td>nice</td>\n",
       "      <td>love</td>\n",
       "      <td>work</td>\n",
       "      <td>look</td>\n",
       "      <td>qualiti</td>\n",
       "      <td>price</td>\n",
       "      <td>big</td>\n",
       "      <td>time</td>\n",
       "      <td>seller</td>\n",
       "      <td>recommend</td>\n",
       "      <td>pictur</td>\n",
       "      <td>pretti</td>\n",
       "      <td>great</td>\n",
       "      <td>exact</td>\n",
       "    </tr>\n",
       "    <tr>\n",
       "      <th>Topic 3</th>\n",
       "      <td>like</td>\n",
       "      <td>band</td>\n",
       "      <td>excel</td>\n",
       "      <td>expect</td>\n",
       "      <td>face</td>\n",
       "      <td>time</td>\n",
       "      <td>color</td>\n",
       "      <td>look</td>\n",
       "      <td>small</td>\n",
       "      <td>read</td>\n",
       "      <td>work</td>\n",
       "      <td>wrist</td>\n",
       "      <td>hand</td>\n",
       "      <td>realli</td>\n",
       "      <td>set</td>\n",
       "    </tr>\n",
       "    <tr>\n",
       "      <th>Topic 4</th>\n",
       "      <td>look</td>\n",
       "      <td>great</td>\n",
       "      <td>product</td>\n",
       "      <td>awesom</td>\n",
       "      <td>strap</td>\n",
       "      <td>use</td>\n",
       "      <td>wife</td>\n",
       "      <td>love</td>\n",
       "      <td>comfort</td>\n",
       "      <td>nice</td>\n",
       "      <td>good</td>\n",
       "      <td>day</td>\n",
       "      <td>price</td>\n",
       "      <td>design</td>\n",
       "      <td>water</td>\n",
       "    </tr>\n",
       "  </tbody>\n",
       "</table>\n",
       "</div>"
      ],
      "text/plain": [
       "        Word 0  Word 1   Word 2  Word 3      Word 4   Word 5  Word 6   Word 7  \\\n",
       "Topic 0  great  beauti  perfect    love        gift     amaz  bought  absolut   \n",
       "Topic 1   band   light    broke   super  compliment     want   money    happi   \n",
       "Topic 2   good    nice     love    work        look  qualiti   price      big   \n",
       "Topic 3   like    band    excel  expect        face     time   color     look   \n",
       "Topic 4   look   great  product  awesom       strap      use    wife     love   \n",
       "\n",
       "          Word 8    Word 9    Word 10   Word 11 Word 12  Word 13 Word 14  \n",
       "Topic 0    pleas  deliveri       fast  function   heavi  purchas     fit  \n",
       "Topic 1    thank      wear       piec    weight    time     fell  sturdi  \n",
       "Topic 2     time    seller  recommend    pictur  pretti    great   exact  \n",
       "Topic 3    small      read       work     wrist    hand   realli     set  \n",
       "Topic 4  comfort      nice       good       day   price   design   water  "
      ]
     },
     "execution_count": 35,
     "metadata": {},
     "output_type": "execute_result"
    }
   ],
   "source": [
    "# print top n keywords for each topic\n",
    "def print_topic_words(tfidf_model, lda_model, n_words):\n",
    "    words = np.array(tfidf_model.get_feature_names_out())\n",
    "    topic_words = []\n",
    "    # for each topic, we have words weight\n",
    "    for topic_words_weights in lda_model.components_:\n",
    "        top_words = topic_words_weights.argsort()[::-1][:n_words]\n",
    "        topic_words.append(words.take(top_words))\n",
    "    return topic_words\n",
    "\n",
    "topic_keywords = print_topic_words(tfidf_model=tfidf_model, lda_model=lda, n_words=15)        \n",
    "\n",
    "df_topic_words = pd.DataFrame(topic_keywords)\n",
    "df_topic_words.columns = ['Word '+str(i) for i in range(df_topic_words.shape[1])]\n",
    "df_topic_words.index = ['Topic '+str(i) for i in range(df_topic_words.shape[0])]\n",
    "df_topic_words"
   ]
  }
 ],
 "metadata": {
  "kernelspec": {
   "display_name": "Python 3 (ipykernel)",
   "language": "python",
   "name": "python3"
  },
  "language_info": {
   "codemirror_mode": {
    "name": "ipython",
    "version": 3
   },
   "file_extension": ".py",
   "mimetype": "text/x-python",
   "name": "python",
   "nbconvert_exporter": "python",
   "pygments_lexer": "ipython3",
   "version": "3.10.9"
  }
 },
 "nbformat": 4,
 "nbformat_minor": 5
}

{
  "cells": [
    {
      "cell_type": "code",
      "execution_count": null,
      "metadata": {
        "colab": {
          "base_uri": "https://localhost:8080/"
        },
        "id": "kMGFFUwpEvmS",
        "outputId": "4f161ead-7bbd-4135-9fb1-46c962fbbd6d"
      },
      "outputs": [
        {
          "name": "stdout",
          "output_type": "stream",
          "text": [
            "Mounted at /content/drive\n"
          ]
        }
      ],
      "source": [
        "from google.colab import drive\n",
        "drive.mount('/content/drive')"
      ]
    },
    {
      "cell_type": "markdown",
      "metadata": {
        "id": "grWUdZ4iCNPx"
      },
      "source": [
        "# Installation"
      ]
    },
    {
      "cell_type": "code",
      "execution_count": null,
      "metadata": {
        "colab": {
          "base_uri": "https://localhost:8080/"
        },
        "id": "9Gp61C_esmgz",
        "outputId": "ef4a136c-121d-47a8-e1f1-811334e18628"
      },
      "outputs": [
        {
          "name": "stdout",
          "output_type": "stream",
          "text": [
            "  Preparing metadata (setup.py) ... \u001b[?25l\u001b[?25hdone\n",
            "  Building wheel for rouge_score (setup.py) ... \u001b[?25l\u001b[?25hdone\n"
          ]
        }
      ],
      "source": [
        "!pip -q install rouge_score"
      ]
    },
    {
      "cell_type": "code",
      "execution_count": null,
      "metadata": {
        "colab": {
          "base_uri": "https://localhost:8080/"
        },
        "id": "rvvTSN6pEMx7",
        "outputId": "9259becd-bffa-48a8-c3dc-d5e77f7a959c"
      },
      "outputs": [
        {
          "name": "stdout",
          "output_type": "stream",
          "text": [
            "\u001b[2K     \u001b[90m━━━━━━━━━━━━━━━━━━━━━━━━━━━━━━━━━━━━━━━━\u001b[0m \u001b[32m867.6/867.6 kB\u001b[0m \u001b[31m11.3 MB/s\u001b[0m eta \u001b[36m0:00:00\u001b[0m\n",
            "\u001b[2K     \u001b[90m━━━━━━━━━━━━━━━━━━━━━━━━━━━━━━━━━━━━━━━━\u001b[0m \u001b[32m232.6/232.6 kB\u001b[0m \u001b[31m12.3 MB/s\u001b[0m eta \u001b[36m0:00:00\u001b[0m\n",
            "\u001b[2K     \u001b[90m━━━━━━━━━━━━━━━━━━━━━━━━━━━━━━━━━━━━━━━━\u001b[0m \u001b[32m27.0/27.0 MB\u001b[0m \u001b[31m61.5 MB/s\u001b[0m eta \u001b[36m0:00:00\u001b[0m\n",
            "\u001b[2K     \u001b[90m━━━━━━━━━━━━━━━━━━━━━━━━━━━━━━━━━━━━━━━━\u001b[0m \u001b[32m84.1/84.1 kB\u001b[0m \u001b[31m12.3 MB/s\u001b[0m eta \u001b[36m0:00:00\u001b[0m\n",
            "\u001b[2K     \u001b[90m━━━━━━━━━━━━━━━━━━━━━━━━━━━━━━━━━━━━━━━━\u001b[0m \u001b[32m2.0/2.0 MB\u001b[0m \u001b[31m86.1 MB/s\u001b[0m eta \u001b[36m0:00:00\u001b[0m\n",
            "\u001b[2K     \u001b[90m━━━━━━━━━━━━━━━━━━━━━━━━━━━━━━━━━━━━━━━━\u001b[0m \u001b[32m302.8/302.8 kB\u001b[0m \u001b[31m36.6 MB/s\u001b[0m eta \u001b[36m0:00:00\u001b[0m\n",
            "\u001b[2K     \u001b[90m━━━━━━━━━━━━━━━━━━━━━━━━━━━━━━━━━━━━━━━━\u001b[0m \u001b[32m116.7/116.7 kB\u001b[0m \u001b[31m16.7 MB/s\u001b[0m eta \u001b[36m0:00:00\u001b[0m\n",
            "\u001b[2K     \u001b[90m━━━━━━━━━━━━━━━━━━━━━━━━━━━━━━━━━━━━━━━━\u001b[0m \u001b[32m312.9/312.9 kB\u001b[0m \u001b[31m35.4 MB/s\u001b[0m eta \u001b[36m0:00:00\u001b[0m\n",
            "\u001b[2K     \u001b[90m━━━━━━━━━━━━━━━━━━━━━━━━━━━━━━━━━━━━━━━━\u001b[0m \u001b[32m1.8/1.8 MB\u001b[0m \u001b[31m33.3 MB/s\u001b[0m eta \u001b[36m0:00:00\u001b[0m\n",
            "\u001b[2K     \u001b[90m━━━━━━━━━━━━━━━━━━━━━━━━━━━━━━━━━━━━━━━━\u001b[0m \u001b[32m542.0/542.0 kB\u001b[0m \u001b[31m56.9 MB/s\u001b[0m eta \u001b[36m0:00:00\u001b[0m\n",
            "\u001b[2K     \u001b[90m━━━━━━━━━━━━━━━━━━━━━━━━━━━━━━━━━━━━━━━━\u001b[0m \u001b[32m116.3/116.3 kB\u001b[0m \u001b[31m18.6 MB/s\u001b[0m eta \u001b[36m0:00:00\u001b[0m\n",
            "\u001b[2K     \u001b[90m━━━━━━━━━━━━━━━━━━━━━━━━━━━━━━━━━━━━━━━━\u001b[0m \u001b[32m194.1/194.1 kB\u001b[0m \u001b[31m27.1 MB/s\u001b[0m eta \u001b[36m0:00:00\u001b[0m\n",
            "\u001b[2K     \u001b[90m━━━━━━━━━━━━━━━━━━━━━━━━━━━━━━━━━━━━━━━━\u001b[0m \u001b[32m134.8/134.8 kB\u001b[0m \u001b[31m19.8 MB/s\u001b[0m eta \u001b[36m0:00:00\u001b[0m\n",
            "\u001b[2K     \u001b[90m━━━━━━━━━━━━━━━━━━━━━━━━━━━━━━━━━━━━━━━━\u001b[0m \u001b[32m49.3/49.3 kB\u001b[0m \u001b[31m7.1 MB/s\u001b[0m eta \u001b[36m0:00:00\u001b[0m\n",
            "\u001b[2K     \u001b[90m━━━━━━━━━━━━━━━━━━━━━━━━━━━━━━━━━━━━━━━━\u001b[0m \u001b[32m401.2/401.2 kB\u001b[0m \u001b[31m35.8 MB/s\u001b[0m eta \u001b[36m0:00:00\u001b[0m\n",
            "\u001b[2K     \u001b[90m━━━━━━━━━━━━━━━━━━━━━━━━━━━━━━━━━━━━━━━━\u001b[0m \u001b[32m53.0/53.0 kB\u001b[0m \u001b[31m7.7 MB/s\u001b[0m eta \u001b[36m0:00:00\u001b[0m\n",
            "\u001b[2K     \u001b[90m━━━━━━━━━━━━━━━━━━━━━━━━━━━━━━━━━━━━━━━━\u001b[0m \u001b[32m142.5/142.5 kB\u001b[0m \u001b[31m19.8 MB/s\u001b[0m eta \u001b[36m0:00:00\u001b[0m\n",
            "\u001b[2K     \u001b[90m━━━━━━━━━━━━━━━━━━━━━━━━━━━━━━━━━━━━━━━━\u001b[0m \u001b[32m75.6/75.6 kB\u001b[0m \u001b[31m10.2 MB/s\u001b[0m eta \u001b[36m0:00:00\u001b[0m\n",
            "\u001b[2K     \u001b[90m━━━━━━━━━━━━━━━━━━━━━━━━━━━━━━━━━━━━━━━━\u001b[0m \u001b[32m77.9/77.9 kB\u001b[0m \u001b[31m11.8 MB/s\u001b[0m eta \u001b[36m0:00:00\u001b[0m\n",
            "\u001b[2K     \u001b[90m━━━━━━━━━━━━━━━━━━━━━━━━━━━━━━━━━━━━━━━━\u001b[0m \u001b[32m58.3/58.3 kB\u001b[0m \u001b[31m8.5 MB/s\u001b[0m eta \u001b[36m0:00:00\u001b[0m\n",
            "\u001b[?25h"
          ]
        }
      ],
      "source": [
        "!pip -q install langchain langchain_openai PyPDF2 faiss-cpu evaluate torch"
      ]
    },
    {
      "cell_type": "code",
      "execution_count": null,
      "metadata": {
        "colab": {
          "base_uri": "https://localhost:8080/"
        },
        "id": "Ps3KsJIaHFO5",
        "outputId": "e45a8b06-10a9-48bc-cd0b-10732f731522"
      },
      "outputs": [
        {
          "name": "stdout",
          "output_type": "stream",
          "text": [
            "Collecting bitsandbytes\n",
            "  Downloading bitsandbytes-0.43.1-py3-none-manylinux_2_24_x86_64.whl (119.8 MB)\n",
            "\u001b[2K     \u001b[90m━━━━━━━━━━━━━━━━━━━━━━━━━━━━━━━━━━━━━━━━\u001b[0m \u001b[32m119.8/119.8 MB\u001b[0m \u001b[31m13.4 MB/s\u001b[0m eta \u001b[36m0:00:00\u001b[0m\n",
            "\u001b[?25hRequirement already satisfied: torch in /usr/local/lib/python3.10/dist-packages (from bitsandbytes) (2.2.1+cu121)\n",
            "Requirement already satisfied: numpy in /usr/local/lib/python3.10/dist-packages (from bitsandbytes) (1.25.2)\n",
            "Requirement already satisfied: filelock in /usr/local/lib/python3.10/dist-packages (from torch->bitsandbytes) (3.14.0)\n",
            "Requirement already satisfied: typing-extensions>=4.8.0 in /usr/local/lib/python3.10/dist-packages (from torch->bitsandbytes) (4.11.0)\n",
            "Requirement already satisfied: sympy in /usr/local/lib/python3.10/dist-packages (from torch->bitsandbytes) (1.12)\n",
            "Requirement already satisfied: networkx in /usr/local/lib/python3.10/dist-packages (from torch->bitsandbytes) (3.3)\n",
            "Requirement already satisfied: jinja2 in /usr/local/lib/python3.10/dist-packages (from torch->bitsandbytes) (3.1.3)\n",
            "Requirement already satisfied: fsspec in /usr/local/lib/python3.10/dist-packages (from torch->bitsandbytes) (2023.6.0)\n",
            "Requirement already satisfied: nvidia-cuda-nvrtc-cu12==12.1.105 in /usr/local/lib/python3.10/dist-packages (from torch->bitsandbytes) (12.1.105)\n",
            "Requirement already satisfied: nvidia-cuda-runtime-cu12==12.1.105 in /usr/local/lib/python3.10/dist-packages (from torch->bitsandbytes) (12.1.105)\n",
            "Requirement already satisfied: nvidia-cuda-cupti-cu12==12.1.105 in /usr/local/lib/python3.10/dist-packages (from torch->bitsandbytes) (12.1.105)\n",
            "Requirement already satisfied: nvidia-cudnn-cu12==8.9.2.26 in /usr/local/lib/python3.10/dist-packages (from torch->bitsandbytes) (8.9.2.26)\n",
            "Requirement already satisfied: nvidia-cublas-cu12==12.1.3.1 in /usr/local/lib/python3.10/dist-packages (from torch->bitsandbytes) (12.1.3.1)\n",
            "Requirement already satisfied: nvidia-cufft-cu12==11.0.2.54 in /usr/local/lib/python3.10/dist-packages (from torch->bitsandbytes) (11.0.2.54)\n",
            "Requirement already satisfied: nvidia-curand-cu12==10.3.2.106 in /usr/local/lib/python3.10/dist-packages (from torch->bitsandbytes) (10.3.2.106)\n",
            "Requirement already satisfied: nvidia-cusolver-cu12==11.4.5.107 in /usr/local/lib/python3.10/dist-packages (from torch->bitsandbytes) (11.4.5.107)\n",
            "Requirement already satisfied: nvidia-cusparse-cu12==12.1.0.106 in /usr/local/lib/python3.10/dist-packages (from torch->bitsandbytes) (12.1.0.106)\n",
            "Requirement already satisfied: nvidia-nccl-cu12==2.19.3 in /usr/local/lib/python3.10/dist-packages (from torch->bitsandbytes) (2.19.3)\n",
            "Requirement already satisfied: nvidia-nvtx-cu12==12.1.105 in /usr/local/lib/python3.10/dist-packages (from torch->bitsandbytes) (12.1.105)\n",
            "Requirement already satisfied: triton==2.2.0 in /usr/local/lib/python3.10/dist-packages (from torch->bitsandbytes) (2.2.0)\n",
            "Requirement already satisfied: nvidia-nvjitlink-cu12 in /usr/local/lib/python3.10/dist-packages (from nvidia-cusolver-cu12==11.4.5.107->torch->bitsandbytes) (12.4.127)\n",
            "Requirement already satisfied: MarkupSafe>=2.0 in /usr/local/lib/python3.10/dist-packages (from jinja2->torch->bitsandbytes) (2.1.5)\n",
            "Requirement already satisfied: mpmath>=0.19 in /usr/local/lib/python3.10/dist-packages (from sympy->torch->bitsandbytes) (1.3.0)\n",
            "Installing collected packages: bitsandbytes\n",
            "Successfully installed bitsandbytes-0.43.1\n"
          ]
        }
      ],
      "source": [
        "!pip install bitsandbytes"
      ]
    },
    {
      "cell_type": "code",
      "execution_count": null,
      "metadata": {
        "colab": {
          "base_uri": "https://localhost:8080/"
        },
        "id": "8pupSHg2L6CD",
        "outputId": "091fd949-0c4d-4a6b-8412-f07bd609c502"
      },
      "outputs": [
        {
          "name": "stdout",
          "output_type": "stream",
          "text": [
            "Collecting cohere\n",
            "  Downloading cohere-5.3.4-py3-none-any.whl (151 kB)\n",
            "\u001b[2K     \u001b[90m━━━━━━━━━━━━━━━━━━━━━━━━━━━━━━━━━━━━━━━━\u001b[0m \u001b[32m151.2/151.2 kB\u001b[0m \u001b[31m4.6 MB/s\u001b[0m eta \u001b[36m0:00:00\u001b[0m\n",
            "\u001b[?25hCollecting fastavro<2.0.0,>=1.9.4 (from cohere)\n",
            "  Downloading fastavro-1.9.4-cp310-cp310-manylinux_2_17_x86_64.manylinux2014_x86_64.whl (3.1 MB)\n",
            "\u001b[2K     \u001b[90m━━━━━━━━━━━━━━━━━━━━━━━━━━━━━━━━━━━━━━━━\u001b[0m \u001b[32m3.1/3.1 MB\u001b[0m \u001b[31m20.4 MB/s\u001b[0m eta \u001b[36m0:00:00\u001b[0m\n",
            "\u001b[?25hRequirement already satisfied: httpx>=0.21.2 in /usr/local/lib/python3.10/dist-packages (from cohere) (0.27.0)\n",
            "Collecting httpx-sse<0.5.0,>=0.4.0 (from cohere)\n",
            "  Downloading httpx_sse-0.4.0-py3-none-any.whl (7.8 kB)\n",
            "Requirement already satisfied: pydantic>=1.9.2 in /usr/local/lib/python3.10/dist-packages (from cohere) (2.7.1)\n",
            "Requirement already satisfied: requests<3.0.0,>=2.0.0 in /usr/local/lib/python3.10/dist-packages (from cohere) (2.31.0)\n",
            "Requirement already satisfied: tokenizers<0.20,>=0.19 in /usr/local/lib/python3.10/dist-packages (from cohere) (0.19.1)\n",
            "Collecting types-requests<3.0.0,>=2.0.0 (from cohere)\n",
            "  Downloading types_requests-2.31.0.20240406-py3-none-any.whl (15 kB)\n",
            "Requirement already satisfied: typing_extensions>=4.0.0 in /usr/local/lib/python3.10/dist-packages (from cohere) (4.11.0)\n",
            "Requirement already satisfied: anyio in /usr/local/lib/python3.10/dist-packages (from httpx>=0.21.2->cohere) (3.7.1)\n",
            "Requirement already satisfied: certifi in /usr/local/lib/python3.10/dist-packages (from httpx>=0.21.2->cohere) (2024.2.2)\n",
            "Requirement already satisfied: httpcore==1.* in /usr/local/lib/python3.10/dist-packages (from httpx>=0.21.2->cohere) (1.0.5)\n",
            "Requirement already satisfied: idna in /usr/local/lib/python3.10/dist-packages (from httpx>=0.21.2->cohere) (3.7)\n",
            "Requirement already satisfied: sniffio in /usr/local/lib/python3.10/dist-packages (from httpx>=0.21.2->cohere) (1.3.1)\n",
            "Requirement already satisfied: h11<0.15,>=0.13 in /usr/local/lib/python3.10/dist-packages (from httpcore==1.*->httpx>=0.21.2->cohere) (0.14.0)\n",
            "Requirement already satisfied: annotated-types>=0.4.0 in /usr/local/lib/python3.10/dist-packages (from pydantic>=1.9.2->cohere) (0.6.0)\n",
            "Requirement already satisfied: pydantic-core==2.18.2 in /usr/local/lib/python3.10/dist-packages (from pydantic>=1.9.2->cohere) (2.18.2)\n",
            "Requirement already satisfied: charset-normalizer<4,>=2 in /usr/local/lib/python3.10/dist-packages (from requests<3.0.0,>=2.0.0->cohere) (3.3.2)\n",
            "Requirement already satisfied: urllib3<3,>=1.21.1 in /usr/local/lib/python3.10/dist-packages (from requests<3.0.0,>=2.0.0->cohere) (2.0.7)\n",
            "Requirement already satisfied: huggingface-hub<1.0,>=0.16.4 in /usr/local/lib/python3.10/dist-packages (from tokenizers<0.20,>=0.19->cohere) (0.23.0)\n",
            "Requirement already satisfied: filelock in /usr/local/lib/python3.10/dist-packages (from huggingface-hub<1.0,>=0.16.4->tokenizers<0.20,>=0.19->cohere) (3.14.0)\n",
            "Requirement already satisfied: fsspec>=2023.5.0 in /usr/local/lib/python3.10/dist-packages (from huggingface-hub<1.0,>=0.16.4->tokenizers<0.20,>=0.19->cohere) (2023.6.0)\n",
            "Requirement already satisfied: packaging>=20.9 in /usr/local/lib/python3.10/dist-packages (from huggingface-hub<1.0,>=0.16.4->tokenizers<0.20,>=0.19->cohere) (23.2)\n",
            "Requirement already satisfied: pyyaml>=5.1 in /usr/local/lib/python3.10/dist-packages (from huggingface-hub<1.0,>=0.16.4->tokenizers<0.20,>=0.19->cohere) (6.0.1)\n",
            "Requirement already satisfied: tqdm>=4.42.1 in /usr/local/lib/python3.10/dist-packages (from huggingface-hub<1.0,>=0.16.4->tokenizers<0.20,>=0.19->cohere) (4.66.2)\n",
            "Requirement already satisfied: exceptiongroup in /usr/local/lib/python3.10/dist-packages (from anyio->httpx>=0.21.2->cohere) (1.2.1)\n",
            "Installing collected packages: types-requests, httpx-sse, fastavro, cohere\n",
            "Successfully installed cohere-5.3.4 fastavro-1.9.4 httpx-sse-0.4.0 types-requests-2.31.0.20240406\n"
          ]
        }
      ],
      "source": [
        "pip install cohere"
      ]
    },
    {
      "cell_type": "code",
      "execution_count": null,
      "metadata": {
        "colab": {
          "base_uri": "https://localhost:8080/"
        },
        "id": "-4BMe7MbZgLN",
        "outputId": "5547a15d-73b4-49f3-86f3-d096ed0bb094"
      },
      "outputs": [
        {
          "name": "stdout",
          "output_type": "stream",
          "text": [
            "Collecting accelerate\n",
            "  Downloading accelerate-0.30.0-py3-none-any.whl (302 kB)\n",
            "\u001b[?25l     \u001b[90m━━━━━━━━━━━━━━━━━━━━━━━━━━━━━━━━━━━━━━━━\u001b[0m \u001b[32m0.0/302.4 kB\u001b[0m \u001b[31m?\u001b[0m eta \u001b[36m-:--:--\u001b[0m\r\u001b[2K     \u001b[91m━━━━━━━━━━━━━━━━━━━━━━━━━━━━━━━━━━━━━━━\u001b[0m\u001b[90m╺\u001b[0m \u001b[32m297.0/302.4 kB\u001b[0m \u001b[31m8.9 MB/s\u001b[0m eta \u001b[36m0:00:01\u001b[0m\r\u001b[2K     \u001b[90m━━━━━━━━━━━━━━━━━━━━━━━━━━━━━━━━━━━━━━━━\u001b[0m \u001b[32m302.4/302.4 kB\u001b[0m \u001b[31m6.9 MB/s\u001b[0m eta \u001b[36m0:00:00\u001b[0m\n",
            "\u001b[?25hRequirement already satisfied: numpy>=1.17 in /usr/local/lib/python3.10/dist-packages (from accelerate) (1.25.2)\n",
            "Requirement already satisfied: packaging>=20.0 in /usr/local/lib/python3.10/dist-packages (from accelerate) (23.2)\n",
            "Requirement already satisfied: psutil in /usr/local/lib/python3.10/dist-packages (from accelerate) (5.9.5)\n",
            "Requirement already satisfied: pyyaml in /usr/local/lib/python3.10/dist-packages (from accelerate) (6.0.1)\n",
            "Requirement already satisfied: torch>=1.10.0 in /usr/local/lib/python3.10/dist-packages (from accelerate) (2.2.1+cu121)\n",
            "Requirement already satisfied: huggingface-hub in /usr/local/lib/python3.10/dist-packages (from accelerate) (0.23.0)\n",
            "Requirement already satisfied: safetensors>=0.3.1 in /usr/local/lib/python3.10/dist-packages (from accelerate) (0.4.3)\n",
            "Requirement already satisfied: filelock in /usr/local/lib/python3.10/dist-packages (from torch>=1.10.0->accelerate) (3.14.0)\n",
            "Requirement already satisfied: typing-extensions>=4.8.0 in /usr/local/lib/python3.10/dist-packages (from torch>=1.10.0->accelerate) (4.11.0)\n",
            "Requirement already satisfied: sympy in /usr/local/lib/python3.10/dist-packages (from torch>=1.10.0->accelerate) (1.12)\n",
            "Requirement already satisfied: networkx in /usr/local/lib/python3.10/dist-packages (from torch>=1.10.0->accelerate) (3.3)\n",
            "Requirement already satisfied: jinja2 in /usr/local/lib/python3.10/dist-packages (from torch>=1.10.0->accelerate) (3.1.3)\n",
            "Requirement already satisfied: fsspec in /usr/local/lib/python3.10/dist-packages (from torch>=1.10.0->accelerate) (2023.6.0)\n",
            "Requirement already satisfied: nvidia-cuda-nvrtc-cu12==12.1.105 in /usr/local/lib/python3.10/dist-packages (from torch>=1.10.0->accelerate) (12.1.105)\n",
            "Requirement already satisfied: nvidia-cuda-runtime-cu12==12.1.105 in /usr/local/lib/python3.10/dist-packages (from torch>=1.10.0->accelerate) (12.1.105)\n",
            "Requirement already satisfied: nvidia-cuda-cupti-cu12==12.1.105 in /usr/local/lib/python3.10/dist-packages (from torch>=1.10.0->accelerate) (12.1.105)\n",
            "Requirement already satisfied: nvidia-cudnn-cu12==8.9.2.26 in /usr/local/lib/python3.10/dist-packages (from torch>=1.10.0->accelerate) (8.9.2.26)\n",
            "Requirement already satisfied: nvidia-cublas-cu12==12.1.3.1 in /usr/local/lib/python3.10/dist-packages (from torch>=1.10.0->accelerate) (12.1.3.1)\n",
            "Requirement already satisfied: nvidia-cufft-cu12==11.0.2.54 in /usr/local/lib/python3.10/dist-packages (from torch>=1.10.0->accelerate) (11.0.2.54)\n",
            "Requirement already satisfied: nvidia-curand-cu12==10.3.2.106 in /usr/local/lib/python3.10/dist-packages (from torch>=1.10.0->accelerate) (10.3.2.106)\n",
            "Requirement already satisfied: nvidia-cusolver-cu12==11.4.5.107 in /usr/local/lib/python3.10/dist-packages (from torch>=1.10.0->accelerate) (11.4.5.107)\n",
            "Requirement already satisfied: nvidia-cusparse-cu12==12.1.0.106 in /usr/local/lib/python3.10/dist-packages (from torch>=1.10.0->accelerate) (12.1.0.106)\n",
            "Requirement already satisfied: nvidia-nccl-cu12==2.19.3 in /usr/local/lib/python3.10/dist-packages (from torch>=1.10.0->accelerate) (2.19.3)\n",
            "Requirement already satisfied: nvidia-nvtx-cu12==12.1.105 in /usr/local/lib/python3.10/dist-packages (from torch>=1.10.0->accelerate) (12.1.105)\n",
            "Requirement already satisfied: triton==2.2.0 in /usr/local/lib/python3.10/dist-packages (from torch>=1.10.0->accelerate) (2.2.0)\n",
            "Requirement already satisfied: nvidia-nvjitlink-cu12 in /usr/local/lib/python3.10/dist-packages (from nvidia-cusolver-cu12==11.4.5.107->torch>=1.10.0->accelerate) (12.4.127)\n",
            "Requirement already satisfied: requests in /usr/local/lib/python3.10/dist-packages (from huggingface-hub->accelerate) (2.31.0)\n",
            "Requirement already satisfied: tqdm>=4.42.1 in /usr/local/lib/python3.10/dist-packages (from huggingface-hub->accelerate) (4.66.2)\n",
            "Requirement already satisfied: MarkupSafe>=2.0 in /usr/local/lib/python3.10/dist-packages (from jinja2->torch>=1.10.0->accelerate) (2.1.5)\n",
            "Requirement already satisfied: charset-normalizer<4,>=2 in /usr/local/lib/python3.10/dist-packages (from requests->huggingface-hub->accelerate) (3.3.2)\n",
            "Requirement already satisfied: idna<4,>=2.5 in /usr/local/lib/python3.10/dist-packages (from requests->huggingface-hub->accelerate) (3.7)\n",
            "Requirement already satisfied: urllib3<3,>=1.21.1 in /usr/local/lib/python3.10/dist-packages (from requests->huggingface-hub->accelerate) (2.0.7)\n",
            "Requirement already satisfied: certifi>=2017.4.17 in /usr/local/lib/python3.10/dist-packages (from requests->huggingface-hub->accelerate) (2024.2.2)\n",
            "Requirement already satisfied: mpmath>=0.19 in /usr/local/lib/python3.10/dist-packages (from sympy->torch>=1.10.0->accelerate) (1.3.0)\n",
            "Installing collected packages: accelerate\n",
            "Successfully installed accelerate-0.30.0\n"
          ]
        }
      ],
      "source": [
        "!pip install accelerate"
      ]
    },
    {
      "cell_type": "markdown",
      "metadata": {
        "id": "nEwRvWQNFEAZ"
      },
      "source": [
        "# Read the PDF"
      ]
    },
    {
      "cell_type": "code",
      "execution_count": null,
      "metadata": {
        "id": "zaWrK6bO_wzX"
      },
      "outputs": [],
      "source": [
        "import os\n",
        "import torch\n",
        "import transformers\n",
        "import evaluate\n",
        "import json\n",
        "import openai\n",
        "\n",
        "from langchain_openai.chat_models import ChatOpenAI\n",
        "from langchain_openai.embeddings import OpenAIEmbeddings\n",
        "from PyPDF2 import PdfReader\n",
        "from langchain.text_splitter import CharacterTextSplitter\n",
        "from langchain.vectorstores import FAISS\n",
        "from langchain.chains.question_answering import load_qa_chain\n",
        "from langchain.llms import OpenAI\n",
        "from transformers import AutoModelForCausalLM, AutoTokenizer, BitsAndBytesConfig\n",
        "from langchain.chains import RetrievalQA\n",
        "from langchain.retrievers import ContextualCompressionRetriever\n",
        "from langchain.retrievers.document_compressors import CohereRerank\n",
        "from datasets import load_dataset, load_metric\n",
        "from pathlib import Path\n",
        "from openai import OpenAI"
      ]
    },
    {
      "cell_type": "code",
      "execution_count": null,
      "metadata": {
        "colab": {
          "base_uri": "https://localhost:8080/"
        },
        "id": "9sJFy_rFGVHr",
        "outputId": "5b8e72d5-c607-420f-df73-593b004d6104"
      },
      "outputs": [
        {
          "data": {
            "text/plain": [
              "<PyPDF2._reader.PdfReader at 0x7af11c787d60>"
            ]
          },
          "execution_count": 7,
          "metadata": {},
          "output_type": "execute_result"
        }
      ],
      "source": [
        "doc_reader = PdfReader('/content/drive/Shareddrives/Data255_Lab/Lab2/part3/1Q23-EPR-with-Tables-FINAL.pdf')\n",
        "doc_reader"
      ]
    },
    {
      "cell_type": "code",
      "execution_count": null,
      "metadata": {
        "id": "_iB7YlMFGdzs"
      },
      "outputs": [],
      "source": [
        "raw_text = ''\n",
        "for i, page in enumerate(doc_reader.pages):\n",
        "    text = page.extract_text()\n",
        "    if text:\n",
        "        raw_text += text"
      ]
    },
    {
      "cell_type": "code",
      "execution_count": null,
      "metadata": {
        "colab": {
          "base_uri": "https://localhost:8080/"
        },
        "id": "BR6tI01UGgLc",
        "outputId": "e33335ed-da42-4a19-c93b-5172b05cc013"
      },
      "outputs": [
        {
          "data": {
            "text/plain": [
              "33762"
            ]
          },
          "execution_count": 9,
          "metadata": {},
          "output_type": "execute_result"
        }
      ],
      "source": [
        "# The count of words\n",
        "len(raw_text)"
      ]
    },
    {
      "cell_type": "code",
      "execution_count": null,
      "metadata": {
        "id": "F5Ob7OH6Gjiz"
      },
      "outputs": [],
      "source": [
        "# Split the text\n",
        "text_splitter = CharacterTextSplitter(\n",
        "    separator = \"\\n\",\n",
        "    chunk_size = 1000,\n",
        "    chunk_overlap  = 200, #striding over the text\n",
        "    length_function = len,\n",
        ")\n",
        "texts = text_splitter.split_text(raw_text)"
      ]
    },
    {
      "cell_type": "code",
      "execution_count": null,
      "metadata": {
        "colab": {
          "base_uri": "https://localhost:8080/"
        },
        "id": "-_sVa9zkGlmx",
        "outputId": "6002bd17-a290-4fab-97bc-689d2f2fae92"
      },
      "outputs": [
        {
          "data": {
            "text/plain": [
              "44"
            ]
          },
          "execution_count": 11,
          "metadata": {},
          "output_type": "execute_result"
        }
      ],
      "source": [
        "len(texts)"
      ]
    },
    {
      "cell_type": "code",
      "execution_count": null,
      "metadata": {
        "colab": {
          "base_uri": "https://localhost:8080/",
          "height": 122
        },
        "id": "1kzY4Y6MGngB",
        "outputId": "c39353f5-0da5-4184-acbc-a29b20839639"
      },
      "outputs": [
        {
          "data": {
            "application/vnd.google.colaboratory.intrinsic+json": {
              "type": "string"
            },
            "text/plain": [
              "'Gap Inc. Reports First  Quarter Fiscal 2023 Results   \\n \\nSAN FRANCISCO – May 25 , 202 3 – Gap Inc . (NYSE: GPS), a portfolio of purpose -led, billion -dollar lifestyle  \\nbrands including Old Navy, Gap, Banana Republic, and Athleta, and the largest specialty apparel \\ncompany in the U.S ., today reported financial results for its first  quarter ended April 29, 202 3.  \\n “We continue to take the necessary actions to drive critical change at Gap Inc., ultimately getting us \\nback on a path toward delivering consistent results long -term,” said Bob Martin, Executive Chairman \\nand Interim CEO, Gap Inc. “While the macro and consum er environment remain uncertain, Q1 \\nunderscores our ability to deliver improvements to the business including share gains at Old Navy and \\nGap Brand, adjusted operating margin expansion, reduction in inventory, and strength in our balance \\nsheet. The need fo r lasting change is permeating the organization and I want to express my gratitude to'"
            ]
          },
          "execution_count": 12,
          "metadata": {},
          "output_type": "execute_result"
        }
      ],
      "source": [
        "texts[0]"
      ]
    },
    {
      "cell_type": "markdown",
      "metadata": {
        "id": "JZuHDXUFQvXJ"
      },
      "source": [
        "# Vector DB"
      ]
    },
    {
      "cell_type": "code",
      "execution_count": null,
      "metadata": {
        "colab": {
          "base_uri": "https://localhost:8080/"
        },
        "id": "rHhntjwuF2Nc",
        "outputId": "c99760a9-0dfe-4595-a6a2-bcc724d19fa1"
      },
      "outputs": [
        {
          "data": {
            "text/plain": [
              "AIMessage(content='Hello! How can I assist you today?', response_metadata={'token_usage': {'completion_tokens': 9, 'prompt_tokens': 8, 'total_tokens': 17}, 'model_name': 'gpt-3.5-turbo', 'system_fingerprint': 'fp_a450710239', 'finish_reason': 'stop', 'logprobs': None}, id='run-12fa6e49-2095-4999-be01-47d2339277cb-0')"
            ]
          },
          "execution_count": 13,
          "metadata": {},
          "output_type": "execute_result"
        }
      ],
      "source": [
        "\n",
        "\n",
        "model = ChatOpenAI(api_key = OPENAI_API_KEY, model = \"gpt-3.5-turbo\")\n",
        "model.invoke(\"Hello\")"
      ]
    },
    {
      "cell_type": "code",
      "execution_count": null,
      "metadata": {
        "id": "Ttc9c_N9CTxO"
      },
      "outputs": [],
      "source": [
        "embeddings = OpenAIEmbeddings(api_key = OPENAI_API_KEY)\n",
        "\n",
        "vectorstore = FAISS.from_texts(texts, embeddings)"
      ]
    },
    {
      "cell_type": "markdown",
      "metadata": {
        "id": "yGJ4Y5VjCQqy"
      },
      "source": [
        "# RAG"
      ]
    },
    {
      "cell_type": "code",
      "execution_count": null,
      "metadata": {
        "id": "jncZhr-qQ7us"
      },
      "outputs": [],
      "source": [
        "retriever = vectorstore.as_retriever(search_kwargs={\"k\": 20})"
      ]
    },
    {
      "cell_type": "code",
      "execution_count": null,
      "metadata": {
        "id": "ZXZRf8hhHmMK"
      },
      "outputs": [],
      "source": [
        "compressor = CohereRerank(cohere_api_key = 'cV3IHRjU3gHNvbmyLkiUU8AT4FVrGKjloelpKhnH')\n",
        "compression_retriever = ContextualCompressionRetriever(\n",
        "    base_compressor=compressor,\n",
        "    base_retriever=retriever\n",
        ")"
      ]
    },
    {
      "cell_type": "code",
      "execution_count": null,
      "metadata": {
        "id": "jAlDYJWhNDli"
      },
      "outputs": [],
      "source": [
        "rag_pipeline = RetrievalQA.from_chain_type(llm=model,\n",
        "                                 chain_type=\"stuff\",\n",
        "                                 retriever=compression_retriever)"
      ]
    },
    {
      "cell_type": "code",
      "execution_count": null,
      "metadata": {
        "colab": {
          "base_uri": "https://localhost:8080/"
        },
        "id": "btIl2a-TNXDi",
        "outputId": "f18bf8f4-8602-478e-f316-c5362a23e92b"
      },
      "outputs": [
        {
          "name": "stderr",
          "output_type": "stream",
          "text": [
            "/usr/local/lib/python3.10/dist-packages/langchain_core/_api/deprecation.py:119: LangChainDeprecationWarning: The method `Chain.run` was deprecated in langchain 0.1.0 and will be removed in 0.2.0. Use invoke instead.\n",
            "  warn_deprecated(\n"
          ]
        },
        {
          "name": "stdout",
          "output_type": "stream",
          "text": [
            "To meet the Extended Producer Responsibility (EPR) scheme's recovery target of 80%, the company should aim to recover 80% of the 500 tons of plastic packaging it produces annually.\n",
            "\n",
            "Calculating 80% of 500 tons:\n",
            "500 tons * 0.80 = 400 tons\n",
            "\n",
            "Therefore, the company should aim to recover 400 tons of plastic packaging each year to meet the EPR requirement.\n",
            "The report quarter mentioned is the first quarter of fiscal 2023, and it ended on April 29, 2023.\n"
          ]
        }
      ],
      "source": [
        "query_set = [\n",
        "    \"A company produces 500 tons of plastic packaging annually and is subject to an Extended Producer Responsibility (EPR) scheme with a recovery target of 80%. How many tons of plastic packaging should the company aim to recover each year to meet the EPR requirement?\",\n",
        "    \"What is the report quarter and when did it end?\",\n",
        "]\n",
        "\n",
        "predictions = []\n",
        "\n",
        "for query in query_set:\n",
        "    predictions.append(rag_pipeline.run(query))\n",
        "    print(rag_pipeline.run(query))"
      ]
    },
    {
      "cell_type": "code",
      "execution_count": null,
      "metadata": {
        "colab": {
          "base_uri": "https://localhost:8080/"
        },
        "id": "PR5Nz-ZqsZQE",
        "outputId": "0ab0ca88-ff63-4a45-bf99-67d49c1f7266"
      },
      "outputs": [
        {
          "name": "stderr",
          "output_type": "stream",
          "text": [
            "/usr/local/lib/python3.10/dist-packages/datasets/load.py:759: FutureWarning: The repository for rouge contains custom code which must be executed to correctly load the metric. You can inspect the repository content at https://raw.githubusercontent.com/huggingface/datasets/2.19.0/metrics/rouge/rouge.py\n",
            "You can avoid this message in future by passing the argument `trust_remote_code=True`.\n",
            "Passing `trust_remote_code=True` will be mandatory to load this metric from the next major release of `datasets`.\n",
            "  warnings.warn(\n"
          ]
        },
        {
          "data": {
            "text/plain": [
              "{'rouge1': AggregateScore(low=Score(precision=0.5849056603773585, recall=0.543859649122807, fmeasure=0.5636363636363636), mid=Score(precision=0.6674528301886793, recall=0.6248710010319918, fmeasure=0.6454545454545454), high=Score(precision=0.75, recall=0.7058823529411765, fmeasure=0.7272727272727272)),\n",
              " 'rouge2': AggregateScore(low=Score(precision=0.4, recall=0.375, fmeasure=0.38709677419354843), mid=Score(precision=0.4115384615384615, recall=0.3839285714285714, fmeasure=0.3972520908004779), high=Score(precision=0.4230769230769231, recall=0.39285714285714285, fmeasure=0.4074074074074074)),\n",
              " 'rougeL': AggregateScore(low=Score(precision=0.4339622641509434, recall=0.40350877192982454, fmeasure=0.41818181818181815), mid=Score(precision=0.5919811320754718, recall=0.5546955624355006, fmeasure=0.5727272727272726), high=Score(precision=0.75, recall=0.7058823529411765, fmeasure=0.7272727272727272)),\n",
              " 'rougeLsum': AggregateScore(low=Score(precision=0.4339622641509434, recall=0.40350877192982454, fmeasure=0.41818181818181815), mid=Score(precision=0.5919811320754718, recall=0.5546955624355006, fmeasure=0.5727272727272726), high=Score(precision=0.75, recall=0.7058823529411765, fmeasure=0.7272727272727272))}"
            ]
          },
          "execution_count": 22,
          "metadata": {},
          "output_type": "execute_result"
        }
      ],
      "source": [
        "# Load the ROUGE metric\n",
        "rouge = load_metric('rouge')\n",
        "\n",
        "references = [\n",
        "    [\"EPR Recovery Target Calculation: To meet the recovery target of 80%, the company should aim to recover 80% 80% of 500 tons, which is: Recovery Target=80%×500 tons=0.80×500 tons=400 tons Recovery Target=80%×500tons=0.80×500tons=400tons So, the company should aim to recover 400 tons of plastic packaging each year.\"],\n",
        "    [\"The reported quarter is the first financial quarter of 2023. The quarter ended on April 29, 2023\"]\n",
        "]\n",
        "\n",
        "# Compute ROUGE scores\n",
        "results = rouge.compute(predictions=predictions, references=references)\n",
        "results"
      ]
    },
    {
      "cell_type": "code",
      "execution_count": null,
      "metadata": {
        "colab": {
          "base_uri": "https://localhost:8080/"
        },
        "id": "9JyzNQ7BOLaM",
        "outputId": "2678c960-e1fb-4050-f954-e06756a2f7e3"
      },
      "outputs": [
        {
          "data": {
            "text/plain": [
              "{'bleu': 0.5693457555580621,\n",
              " 'precisions': [0.6630434782608695, 0.4888888888888889],\n",
              " 'brevity_penalty': 1.0,\n",
              " 'length_ratio': 1.0337078651685394,\n",
              " 'translation_length': 92,\n",
              " 'reference_length': 89}"
            ]
          },
          "execution_count": 61,
          "metadata": {},
          "output_type": "execute_result"
        }
      ],
      "source": [
        "bleu = evaluate.load('bleu')\n",
        "\n",
        "references = [\n",
        "    [\"EPR Recovery Target Calculation: To meet the recovery target of 80%, the company should aim to recover 80% 80% of 500 tons, which is: Recovery Target=80%×500 tons=0.80×500 tons=400 tons Recovery Target=80%×500tons=0.80×500tons=400tons So, the company should aim to recover 400 tons of plastic packaging each year.\"],\n",
        "    [\"The reported quarter is the first financial quarter of 2023. The quarter ended on April 29, 2023\"]\n",
        "]\n",
        "\n",
        "results = bleu.compute(predictions=predictions, references=references,\n",
        "          max_order = 2)\n",
        "results"
      ]
    },
    {
      "cell_type": "markdown",
      "metadata": {
        "id": "_te0b4xeS3gn"
      },
      "source": [
        "# Fine-tuning"
      ]
    },
    {
      "cell_type": "code",
      "execution_count": null,
      "metadata": {
        "colab": {
          "base_uri": "https://localhost:8080/"
        },
        "id": "ihkGc5xqXE-z",
        "outputId": "8ac08902-93d5-49af-e517-1011a3d8e0be"
      },
      "outputs": [
        {
          "name": "stdout",
          "output_type": "stream",
          "text": [
            "managing inventory and integrating pack and hold inventory in fiscal 2023; expected ending inventory in \n",
            "fiscal 2023; expected cash flow trends through fiscal 2023; paying down our asset -backed line of credit \n",
            "in fiscal 2023 ; our dividend strategy; the expected impact of the Gap China transition, foreign exchange \n",
            "headwinds and an additional fiscal week on second quarter and fiscal 2023 net sales; expected second \n",
            "quarter and fiscal 2023 net sales; expected second quarter and f iscal 2023 adjusted gross margin; \n",
            "expected gross margin improvement in fiscal 2023; expected air freight expense in the second quarter and fiscal 2023; expected inflationary impacts, including commodity costs and ocean freight rates, in the second quarter and fiscal 2023; expected inventory positions  and promotional  activity in the second \n",
            "quarter and fiscal 2023; expected ROD in the second quarter and fiscal 2023; expected adjusted\n",
            "on our financial condition, results of operations, and reputation: the overall global economic and \n",
            "geopolitical environment and the impact on consumer spending patterns; the r isk that inflationary \n",
            "pressures continue to negatively impact gross margins or that we are unable to pass along price increases; the risk that restructuring our business may not generate the intended benefits and projected cost savings to the extent or on the timeline as expected;  the risk that we or our franchisees may be \n",
            "unsuccessful in gauging apparel trends and changing consumer preferences or responding with \n",
            "sufficient lead time; the risk that we may be unable to manage or protect our inventory effect ively and\n",
            "sales .   \n",
            "• Reported gross margin was 3 7.1%.  Excluding $4 million in restructuring costs, adjusted gross \n",
            "margin of 37.2%  increased 570 basis points versus last year.  \n",
            "o Merchandise margin increased 600 basis points versus last year, or 610 basis points on \n",
            "an adjusted basis,  due to  lower air freight expense  and improved promotional  activity  in \n",
            "the quarter , partially offset by inflationary cost headwinds.   \n",
            "o Rent, occupancy, and depreciation (ROD) deleveraged 40  basis points versus last year \n",
            "primarily due to lower online sales in the quarter.  \n",
            "   \n",
            " \n",
            "   \n",
            " • Reported operating loss was $10 million ; reported operating  margin of negative 0.3 %.  \n",
            "• Adjusted  operating income was $18 million , exclud ing a $47 million gain related to the sale of an \n",
            "office building  and $75 million of restructuring costs ; adjusted operating margin of 0.5%.   \n",
            "• The effective tax rate was 10 %.  \n",
            "• Reported net loss  of $18 million ; reported diluted loss  per share of $ 0.05.\n",
            "that worsening global ec onomic and geopolitical conditions could result in changes to the assumptions \n",
            "and estimates used when preparing the Condensed Consolidated Financial Statements; the risk that changes in our business structure, our performance or our industry could result in reductions in our pre -\n",
            "tax income or utilization of existing tax carryforwards in future periods, and require additional deferred tax valuation allowances; the risk that changes in the geographic mix and level of income or losses, the expected or actual o utcome of audits, changes in deferred tax valuation allowances, and new legislation \n",
            "could impact our effective tax rate; the risk that our level of indebtedness may impact our ability to operate and expand our business; the risk that we and our subsidiarie s may be unable to meet our\n",
            "\n"
          ]
        }
      ],
      "source": [
        "query = \"A company produces 500 tons of plastic packaging annually and is subject to an Extended Producer Responsibility (EPR) scheme with a recovery target of 80%. How many tons of plastic packaging should the company aim to recover each year to meet the EPR requirement?\"\n",
        "\n",
        "documents = vectorstore.similarity_search(query)\n",
        "content_1 = \"\"\n",
        "\n",
        "for document in documents:\n",
        "    content_1 += document.page_content + \"\\n\"\n",
        "\n",
        "print(content_1)"
      ]
    },
    {
      "cell_type": "code",
      "execution_count": null,
      "metadata": {
        "colab": {
          "base_uri": "https://localhost:8080/"
        },
        "id": "jL8CVRRCXfd-",
        "outputId": "10f31e42-7449-4ea2-e9c8-fc45f5143921"
      },
      "outputs": [
        {
          "name": "stdout",
          "output_type": "stream",
          "text": [
            "• The effective tax rate was 10 %.  \n",
            "• Reported net loss  of $18 million ; reported diluted loss  per share of $ 0.05.  \n",
            "• Adjusted net income of $ 3 million , excluding the gain on sale and restructuring costs ; adjusted \n",
            "diluted earnings per share of $0.01.  \n",
            " \n",
            "F\n",
            "irst Quarter Fiscal 202 3 – Balance Sheet  and Cash Flow Highlights  \n",
            " \n",
            "• Ended the quarter with  cash and cash equivalents of $1.2 billion , an increase of 38% from the \n",
            "prior year. \n",
            "• Net cash from operating activities was $15 million. F ree cash flow , defined as net cash from \n",
            "operating activities less purchases of property and equipment, was negative  $102 million.  \n",
            "• Ending inventory of $2.3 billion was down 27% compared  to last  year .  \n",
            "• Capital expenditures were $117 million. \n",
            "• Paid first  quarter dividend of $0.15 per share, totaling $ 55 million . Board of Directors approved \n",
            "second quarter fiscal 202 3 dividend of $0.15 per share.\n",
            "Gap Inc. Reports First  Quarter Fiscal 2023 Results   \n",
            " \n",
            "SAN FRANCISCO – May 25 , 202 3 – Gap Inc . (NYSE: GPS), a portfolio of purpose -led, billion -dollar lifestyle  \n",
            "brands including Old Navy, Gap, Banana Republic, and Athleta, and the largest specialty apparel \n",
            "company in the U.S ., today reported financial results for its first  quarter ended April 29, 202 3.  \n",
            " “We continue to take the necessary actions to drive critical change at Gap Inc., ultimately getting us \n",
            "back on a path toward delivering consistent results long -term,” said Bob Martin, Executive Chairman \n",
            "and Interim CEO, Gap Inc. “While the macro and consum er environment remain uncertain, Q1 \n",
            "underscores our ability to deliver improvements to the business including share gains at Old Navy and \n",
            "Gap Brand, adjusted operating margin expansion, reduction in inventory, and strength in our balance \n",
            "sheet. The need fo r lasting change is permeating the organization and I want to express my gratitude to\n",
            "managing inventory and integrating pack and hold inventory in fiscal 2023; expected ending inventory in \n",
            "fiscal 2023; expected cash flow trends through fiscal 2023; paying down our asset -backed line of credit \n",
            "in fiscal 2023 ; our dividend strategy; the expected impact of the Gap China transition, foreign exchange \n",
            "headwinds and an additional fiscal week on second quarter and fiscal 2023 net sales; expected second \n",
            "quarter and fiscal 2023 net sales; expected second quarter and f iscal 2023 adjusted gross margin; \n",
            "expected gross margin improvement in fiscal 2023; expected air freight expense in the second quarter and fiscal 2023; expected inflationary impacts, including commodity costs and ocean freight rates, in the second quarter and fiscal 2023; expected inventory positions  and promotional  activity in the second \n",
            "quarter and fiscal 2023; expected ROD in the second quarter and fiscal 2023; expected adjusted\n",
            "quarter and fiscal 2023; expected ROD in the second quarter and fiscal 2023; expected adjusted \n",
            "operating expenses/adjusted SG&A in the second quarter and fiscal 2023; incentive compensation and \n",
            "wage inflation in the second quarter and fiscal 2023; expected capital expenditures in fiscal 2023; \n",
            "expected capital project investments in fiscal 2023; and expected store openings and closings in fiscal \n",
            "2023.  \n",
            " \n",
            "Because these forward -looking statements involve risks and uncertainties, there are important factors \n",
            "that could cause our actual results to differ materially from those in the forward -looking statements. \n",
            "These factors include, wi thout limitation, the following risks, any of which could have an adverse effect \n",
            "on our financial condition, results of operations, and reputation: the overall global economic and \n",
            "geopolitical environment and the impact on consumer spending patterns; the r isk that inflationary\n",
            "\n"
          ]
        }
      ],
      "source": [
        "query = \"What is the report quarter and when did it end?\"\n",
        "\n",
        "documents = vectorstore.similarity_search(query)\n",
        "content_2 = \"\"\n",
        "\n",
        "for document in documents:\n",
        "    content_2 += document.page_content + \"\\n\"\n",
        "\n",
        "print(content_2)"
      ]
    },
    {
      "cell_type": "code",
      "execution_count": null,
      "metadata": {
        "id": "mCtnTnrwbH3O"
      },
      "outputs": [],
      "source": [
        "query = \"If a municipality introduces a pay-as-you-throw program as part of its EPR strategy, charging households $0.05 per pound of collected waste, calculate the cost for a household that generates 30 pounds per week.\"\n",
        "\n",
        "documents = vectorstore.similarity_search(query)\n",
        "content_3 = \"\"\n",
        "\n",
        "for document in documents:\n",
        "    content_3 += document.page_content + \"\\n\"\n",
        "\n",
        "query = \"What's the OP margin for the current quarter?\"\n",
        "\n",
        "documents = vectorstore.similarity_search(query)\n",
        "content_4 = \"\"\n",
        "\n",
        "for document in documents:\n",
        "    content_4 += document.page_content + \"\\n\"\n",
        "\n",
        "query = \"What were Gap Inc's net sales for the first quarter of fiscal 2023 and how did they compare to the previous year?\"\n",
        "\n",
        "documents = vectorstore.similarity_search(query)\n",
        "content_5 = \"\"\n",
        "\n",
        "for document in documents:\n",
        "    content_5 += document.page_content + \"\\n\"\n",
        "\n",
        "query = \"What is the company's outlook on net sales for the second quarter and the full fiscal year 2023?\"\n",
        "\n",
        "documents = vectorstore.similarity_search(query)\n",
        "content_6 = \"\"\n",
        "\n",
        "for document in documents:\n",
        "    content_6 += document.page_content + \"\\n\"\n",
        "\n",
        "query = \"How much cash and cash equivalents did Gap, Inc. have at the end of the quarter?\"\n",
        "\n",
        "documents = vectorstore.similarity_search(query)\n",
        "content_7 = \"\"\n",
        "\n",
        "for document in documents:\n",
        "    content_7 += document.page_content + \"\\n\"\n",
        "\n",
        "query = \"How does the company expect gross margin to change in Q2 and the full year compared to 2022?\"\n",
        "\n",
        "documents = vectorstore.similarity_search(query)\n",
        "content_8 = \"\"\n",
        "\n",
        "for document in documents:\n",
        "    content_8 += document.page_content + \"\\n\"\n",
        "\n",
        "query = \"Did Gap Inc. pay a dividend in the first quarter, and what is their dividend strategy going forward?\"\n",
        "\n",
        "documents = vectorstore.similarity_search(query)\n",
        "content_9 = \"\"\n",
        "\n",
        "for document in documents:\n",
        "    content_9 += document.page_content + \"\\n\"\n",
        "\n",
        "query = \"Did Gap Inc. have an operating profit or loss, and if so, what was the amount?\"\n",
        "\n",
        "documents = vectorstore.similarity_search(query)\n",
        "content_10 = \"\"\n",
        "\n",
        "for document in documents:\n",
        "    content_10 += document.page_content + \"\\n\""
      ]
    },
    {
      "cell_type": "code",
      "execution_count": null,
      "metadata": {
        "id": "aJm0zg3IWymg"
      },
      "outputs": [],
      "source": [
        "data = [\n",
        "    {\n",
        "        \"context\": content_1,\n",
        "        \"question\": \"A company produces 500 tons of plastic packaging annually and is subject to an Extended Producer Responsibility (EPR) scheme with a recovery target of 80%. How many tons of plastic packaging should the company aim to recover each year to meet the EPR requirement?\",\n",
        "        \"answer\": \"EPR Recovery Target Calculation: To meet the recovery target of 80%, the company should aim to recover 80% 80% of 500 tons, which is: Recovery Target=80%×500 tons=0.80×500 tons=400 tons Recovery Target=80%×500tons=0.80×500tons=400tons So, the company should aim to recover 400 tons of plastic packaging each year.\"\n",
        "    },\n",
        "    {\n",
        "        \"context\": content_2,\n",
        "        \"question\": \"What is the report quarter and when did it end?\",\n",
        "        \"answer\": \"The reported quarter is the first financial quarter of 2023. The quarter ended on April 29, 2023\"\n",
        "    },\n",
        "    {\n",
        "        \"context\": content_3,\n",
        "        \"question\": \"If a municipality introduces a pay-as-you-throw program as part of its EPR strategy, charging households $0.05 per pound of collected waste, calculate the cost for a household that generates 30 pounds per week.\",\n",
        "        \"answer\": \"To calculate the weekly cost for a household generating 30 pounds of waste: Cost = $0.05/pound × 30 pounds = $1.50 Thus, the household would incur a cost of $1.50 per week for waste disposal under the pay-as-you-throw program..\"\n",
        "    },\n",
        "    {\n",
        "        \"context\": content_4,\n",
        "        \"question\": \"What's the OP margin for the current quarter?\",\n",
        "        \"answer\": \"The GAAP operating margin for the current quarter was -0.3%. After adjusting for specific non-recurring items, the operating margin improved to 0.5%.\"\n",
        "    },\n",
        "    {\n",
        "        \"context\": content_5,\n",
        "        \"question\": \"What were Gap Inc's net sales for the first quarter of fiscal 2023 and how did they compare to the previous year?\",\n",
        "        \"answer\": \"Gap Inc. reported net sales of $3.28 billion for the first quarter of fiscal 2023, which represents a 6% decline compared to the previous year. This decline was partly due to the sale of Gap China and foreign exchange headwinds.\"\n",
        "    },\n",
        "    {\n",
        "        \"context\": content_6,\n",
        "        \"question\": \"What is the company's outlook on net sales for the second quarter and the full fiscal year 2023?\",\n",
        "        \"answer\": \"For the second quarter of fiscal 2023, Gap Inc. estimates that net sales may decrease in the mid to high-single digit range compared to the previous year's second quarter net sales of $3.86 billion. For the full fiscal year 2023, the company anticipates net sales could decrease in the low to mid-single digit range compared to the previous year's net sales of $15.6 billion.\"\n",
        "    },\n",
        "    {\n",
        "        \"context\": content_7,\n",
        "        \"question\": \"How much cash and cash equivalents did Gap, Inc. have at the end of the quarter?\",\n",
        "        \"answer\": \"Gap Inc. ended the first quarter of fiscal 2023 with cash and cash equivalents totaling $1.2 billion, which represents an increase of 38% from the prior year.\"\n",
        "    },\n",
        "    {\n",
        "        \"context\": content_8,\n",
        "        \"question\": \"How does the company expect gross margin to change in Q2 and the full year compared to 2022?\",\n",
        "        \"answer\": \"Gap Inc. expects to see an expansion in gross margin for both the second quarter and the full fiscal year 2023 compared to 2022. This anticipated improvement reflects ongoing operational efficiencies and reduced cost pressures.\"\n",
        "    },\n",
        "    {\n",
        "        \"context\": content_9,\n",
        "        \"question\": \"Did Gap Inc. pay a dividend in the first quarter, and what is their dividend strategy going forward?\",\n",
        "        \"answer\": \"Yes, Gap Inc. paid a dividend in the first quarter, with a payment of $0.15 per share totaling $55 million. The Board of Directors has approved a dividend of $0.15 per share for the second quarter of fiscal 2023 as well, indicating a consistent dividend strategy moving forward.\"\n",
        "    },\n",
        "    {\n",
        "        \"context\": content_10,\n",
        "        \"question\": \"Did Gap Inc. have an operating profit or loss, and if so, what was the amount?\",\n",
        "        \"answer\": \"Gap Inc. reported an operating loss of $10 million for the quarter, as per the GAAP metrics. The operating margin was negative 0.3%.\"\n",
        "    }\n",
        "]\n",
        "\n",
        "formatted_data = []\n",
        "for item in data:\n",
        "    formatted_item = {\n",
        "        \"messages\": [\n",
        "            {\"role\": \"system\", \"content\": item[\"context\"]},\n",
        "            {\"role\": \"user\", \"content\": item[\"question\"]},\n",
        "            {\"role\": \"assistant\", \"content\": item[\"answer\"]}\n",
        "        ]\n",
        "    }\n",
        "    formatted_data.append(formatted_item)\n",
        "\n",
        "# Saving the formatted data to a JSONL file\n",
        "with open('/content/drive/Shareddrives/Data255_Lab/Lab2/part3/qa_data.jsonl', 'w') as outfile:\n",
        "    for entry in formatted_data:\n",
        "        json.dump(entry, outfile)\n",
        "        outfile.write('\\n')"
      ]
    },
    {
      "cell_type": "code",
      "execution_count": null,
      "metadata": {
        "colab": {
          "base_uri": "https://localhost:8080/"
        },
        "id": "3Wpa5cH_YAUT",
        "outputId": "541ae428-9571-4d03-8222-d404388d5bd1"
      },
      "outputs": [
        {
          "name": "stdout",
          "output_type": "stream",
          "text": [
            "{'messages': [{'role': 'system', 'content': 'managing inventory and integrating pack and hold inventory in fiscal 2023; expected ending inventory in \\nfiscal 2023; expected cash flow trends through fiscal 2023; paying down our asset -backed line of credit \\nin fiscal 2023 ; our dividend strategy; the expected impact of the Gap China transition, foreign exchange \\nheadwinds and an additional fiscal week on second quarter and fiscal 2023 net sales; expected second \\nquarter and fiscal 2023 net sales; expected second quarter and f iscal 2023 adjusted gross margin; \\nexpected gross margin improvement in fiscal 2023; expected air freight expense in the second quarter and fiscal 2023; expected inflationary impacts, including commodity costs and ocean freight rates, in the second quarter and fiscal 2023; expected inventory positions  and promotional  activity in the second \\nquarter and fiscal 2023; expected ROD in the second quarter and fiscal 2023; expected adjusted\\non our financial condition, results of operations, and reputation: the overall global economic and \\ngeopolitical environment and the impact on consumer spending patterns; the r isk that inflationary \\npressures continue to negatively impact gross margins or that we are unable to pass along price increases; the risk that restructuring our business may not generate the intended benefits and projected cost savings to the extent or on the timeline as expected;  the risk that we or our franchisees may be \\nunsuccessful in gauging apparel trends and changing consumer preferences or responding with \\nsufficient lead time; the risk that we may be unable to manage or protect our inventory effect ively and\\nsales .   \\n• Reported gross margin was 3 7.1%.  Excluding $4 million in restructuring costs, adjusted gross \\nmargin of 37.2%  increased 570 basis points versus last year.  \\no Merchandise margin increased 600 basis points versus last year, or 610 basis points on \\nan adjusted basis,  due to  lower air freight expense  and improved promotional  activity  in \\nthe quarter , partially offset by inflationary cost headwinds.   \\no Rent, occupancy, and depreciation (ROD) deleveraged 40  basis points versus last year \\nprimarily due to lower online sales in the quarter.  \\n   \\n \\n   \\n • Reported operating loss was $10 million ; reported operating  margin of negative 0.3 %.  \\n• Adjusted  operating income was $18 million , exclud ing a $47 million gain related to the sale of an \\noffice building  and $75 million of restructuring costs ; adjusted operating margin of 0.5%.   \\n• The effective tax rate was 10 %.  \\n• Reported net loss  of $18 million ; reported diluted loss  per share of $ 0.05.\\nthat worsening global ec onomic and geopolitical conditions could result in changes to the assumptions \\nand estimates used when preparing the Condensed Consolidated Financial Statements; the risk that changes in our business structure, our performance or our industry could result in reductions in our pre -\\ntax income or utilization of existing tax carryforwards in future periods, and require additional deferred tax valuation allowances; the risk that changes in the geographic mix and level of income or losses, the expected or actual o utcome of audits, changes in deferred tax valuation allowances, and new legislation \\ncould impact our effective tax rate; the risk that our level of indebtedness may impact our ability to operate and expand our business; the risk that we and our subsidiarie s may be unable to meet our\\n'}, {'role': 'user', 'content': 'A company produces 500 tons of plastic packaging annually and is subject to an Extended Producer Responsibility (EPR) scheme with a recovery target of 80%. How many tons of plastic packaging should the company aim to recover each year to meet the EPR requirement?'}, {'role': 'assistant', 'content': 'EPR Recovery Target Calculation: To meet the recovery target of 80%, the company should aim to recover 80% 80% of 500 tons, which is: Recovery Target=80%×500 tons=0.80×500 tons=400 tons Recovery Target=80%×500tons=0.80×500tons=400tons So, the company should aim to recover 400 tons of plastic packaging each year.'}]}\n",
            "{'messages': [{'role': 'system', 'content': '• The effective tax rate was 10 %.  \\n• Reported net loss  of $18 million ; reported diluted loss  per share of $ 0.05.  \\n• Adjusted net income of $ 3 million , excluding the gain on sale and restructuring costs ; adjusted \\ndiluted earnings per share of $0.01.  \\n \\nF\\nirst Quarter Fiscal 202 3 – Balance Sheet  and Cash Flow Highlights  \\n \\n• Ended the quarter with  cash and cash equivalents of $1.2 billion , an increase of 38% from the \\nprior year. \\n• Net cash from operating activities was $15 million. F ree cash flow , defined as net cash from \\noperating activities less purchases of property and equipment, was negative  $102 million.  \\n• Ending inventory of $2.3 billion was down 27% compared  to last  year .  \\n• Capital expenditures were $117 million. \\n• Paid first  quarter dividend of $0.15 per share, totaling $ 55 million . Board of Directors approved \\nsecond quarter fiscal 202 3 dividend of $0.15 per share.\\nGap Inc. Reports First  Quarter Fiscal 2023 Results   \\n \\nSAN FRANCISCO – May 25 , 202 3 – Gap Inc . (NYSE: GPS), a portfolio of purpose -led, billion -dollar lifestyle  \\nbrands including Old Navy, Gap, Banana Republic, and Athleta, and the largest specialty apparel \\ncompany in the U.S ., today reported financial results for its first  quarter ended April 29, 202 3.  \\n “We continue to take the necessary actions to drive critical change at Gap Inc., ultimately getting us \\nback on a path toward delivering consistent results long -term,” said Bob Martin, Executive Chairman \\nand Interim CEO, Gap Inc. “While the macro and consum er environment remain uncertain, Q1 \\nunderscores our ability to deliver improvements to the business including share gains at Old Navy and \\nGap Brand, adjusted operating margin expansion, reduction in inventory, and strength in our balance \\nsheet. The need fo r lasting change is permeating the organization and I want to express my gratitude to\\nmanaging inventory and integrating pack and hold inventory in fiscal 2023; expected ending inventory in \\nfiscal 2023; expected cash flow trends through fiscal 2023; paying down our asset -backed line of credit \\nin fiscal 2023 ; our dividend strategy; the expected impact of the Gap China transition, foreign exchange \\nheadwinds and an additional fiscal week on second quarter and fiscal 2023 net sales; expected second \\nquarter and fiscal 2023 net sales; expected second quarter and f iscal 2023 adjusted gross margin; \\nexpected gross margin improvement in fiscal 2023; expected air freight expense in the second quarter and fiscal 2023; expected inflationary impacts, including commodity costs and ocean freight rates, in the second quarter and fiscal 2023; expected inventory positions  and promotional  activity in the second \\nquarter and fiscal 2023; expected ROD in the second quarter and fiscal 2023; expected adjusted\\nquarter and fiscal 2023; expected ROD in the second quarter and fiscal 2023; expected adjusted \\noperating expenses/adjusted SG&A in the second quarter and fiscal 2023; incentive compensation and \\nwage inflation in the second quarter and fiscal 2023; expected capital expenditures in fiscal 2023; \\nexpected capital project investments in fiscal 2023; and expected store openings and closings in fiscal \\n2023.  \\n \\nBecause these forward -looking statements involve risks and uncertainties, there are important factors \\nthat could cause our actual results to differ materially from those in the forward -looking statements. \\nThese factors include, wi thout limitation, the following risks, any of which could have an adverse effect \\non our financial condition, results of operations, and reputation: the overall global economic and \\ngeopolitical environment and the impact on consumer spending patterns; the r isk that inflationary\\n'}, {'role': 'user', 'content': 'What is the report quarter and when did it end?'}, {'role': 'assistant', 'content': 'The reported quarter is the first financial quarter of 2023. The quarter ended on April 29, 2023'}]}\n",
            "{'messages': [{'role': 'system', 'content': '• The effective tax rate was 10 %.  \\n• Reported net loss  of $18 million ; reported diluted loss  per share of $ 0.05.  \\n• Adjusted net income of $ 3 million , excluding the gain on sale and restructuring costs ; adjusted \\ndiluted earnings per share of $0.01.  \\n \\nF\\nirst Quarter Fiscal 202 3 – Balance Sheet  and Cash Flow Highlights  \\n \\n• Ended the quarter with  cash and cash equivalents of $1.2 billion , an increase of 38% from the \\nprior year. \\n• Net cash from operating activities was $15 million. F ree cash flow , defined as net cash from \\noperating activities less purchases of property and equipment, was negative  $102 million.  \\n• Ending inventory of $2.3 billion was down 27% compared  to last  year .  \\n• Capital expenditures were $117 million. \\n• Paid first  quarter dividend of $0.15 per share, totaling $ 55 million . Board of Directors approved \\nsecond quarter fiscal 202 3 dividend of $0.15 per share.\\nNet loss per share - diluted (0.05) $               (0.44) $               13 Weeks EndedThe Gap, Inc.\\nCONDENSED CONSOLIDATED STATEMENTS OF CASH FLOWS\\nUNAUDITED\\n($ in millions)April 29, \\n2023 (a)April 30,\\n2022 (a)\\nCash flows from operating activities:\\nNet loss (18) $                     (162) $                   \\nDepreciation and amortization 137                        130                        \\nGain on sale of building (47)                        -                            \\nChange in merchandise inventory 83                          (166)                      \\nChange in accounts payable (102)                      (336)                      \\nChange in accrued expenses and other current liabilities (22)                        (236)                      \\nChange in income taxes payable, net of receivables and other tax-related items (49)                        369                        \\nOther, net 33                          39\\n13 Weeks Ended The Gap, Inc.\\nNON-GAAP FINANCIAL MEASURES\\nUNAUDITED\\n ($ in millions)\\n13 Weeks Ended April 29, 2023  Gross \\nProfit  Gross \\nMargin  Operating \\nExpenses  Operating \\nExpenses as a % \\nof Net Sales  Operating \\nIncome \\n(Loss)  Operating \\nMargin (b)  Income Tax \\nExpense \\n(Benefit)  Net \\nIncome \\n(Loss)  Earnings (Loss) \\nper Share - \\nDiluted (b) \\nGAAP metrics, as reported 1,214 $  37.1% 1,224 $    37.4% (10) $      (0.3)% (2) $          (18) $      (0.05) $           \\nAdjustments for:\\nGain on sale of building -        -% 47           1.4% (47)        (1.4)% (11)          (36)        (0.10)             \\nRestructuring costs (a) 4           0.1% (71)          (2.2)% 75         2.3% 18            57         0.15              \\nNon-GAAP metrics 1,218$  37.2% 1,200 $    36.6% 18 $       0.5% 5 $            3 $         0.01 $            \\n____________________ADJUSTED STATEMENT OF OPERATIONS METRICS FOR THE FIRST QUARTER 2023\\n• Paid first  quarter dividend of $0.15 per share, totaling $ 55 million . Board of Directors approved \\nsecond quarter fiscal 202 3 dividend of $0.15 per share.   \\n \\nAdditional information regarding adjusted gross margin, adjusted operating income, adjusted operating \\nmargin, adjusted net income, adjusted diluted earnings per share, and free cash flow, all of which are non-GAAP financial measures, is provided at the end  of this press release along with a reconciliation of \\nthese measures from the most directly comparable GAAP financial measures for the applicable period.  \\n \\nFirst  Quarter Fiscal 202 3 – Global Brand Results  \\n Old Navy: \\n• Net sales  of $1.8 billion , down 1% com pared to last year.  Sales in the quarter were driven by \\ncontinued strength in the women’s category offset by continued softness in the active and kid ’s \\ncatego ries as well as continued slower  demand  from the lower -income consumer . \\n• Comparable sales were down 1 %. \\n \\nGap:\\n'}, {'role': 'user', 'content': 'If a municipality introduces a pay-as-you-throw program as part of its EPR strategy, charging households $0.05 per pound of collected waste, calculate the cost for a household that generates 30 pounds per week.'}, {'role': 'assistant', 'content': 'To calculate the weekly cost for a household generating 30 pounds of waste: Cost = $0.05/pound × 30 pounds = $1.50 Thus, the household would incur a cost of $1.50 per week for waste disposal under the pay-as-you-throw program..'}]}\n",
            "{'messages': [{'role': 'system', 'content': \"sales .   \\n• Reported gross margin was 3 7.1%.  Excluding $4 million in restructuring costs, adjusted gross \\nmargin of 37.2%  increased 570 basis points versus last year.  \\no Merchandise margin increased 600 basis points versus last year, or 610 basis points on \\nan adjusted basis,  due to  lower air freight expense  and improved promotional  activity  in \\nthe quarter , partially offset by inflationary cost headwinds.   \\no Rent, occupancy, and depreciation (ROD) deleveraged 40  basis points versus last year \\nprimarily due to lower online sales in the quarter.  \\n   \\n \\n   \\n • Reported operating loss was $10 million ; reported operating  margin of negative 0.3 %.  \\n• Adjusted  operating income was $18 million , exclud ing a $47 million gain related to the sale of an \\noffice building  and $75 million of restructuring costs ; adjusted operating margin of 0.5%.   \\n• The effective tax rate was 10 %.  \\n• Reported net loss  of $18 million ; reported diluted loss  per share of $ 0.05.\\n13 Weeks Ended The Gap, Inc.\\nNON-GAAP FINANCIAL MEASURES\\nUNAUDITED\\n ($ in millions)\\n13 Weeks Ended April 29, 2023  Gross \\nProfit  Gross \\nMargin  Operating \\nExpenses  Operating \\nExpenses as a % \\nof Net Sales  Operating \\nIncome \\n(Loss)  Operating \\nMargin (b)  Income Tax \\nExpense \\n(Benefit)  Net \\nIncome \\n(Loss)  Earnings (Loss) \\nper Share - \\nDiluted (b) \\nGAAP metrics, as reported 1,214 $  37.1% 1,224 $    37.4% (10) $      (0.3)% (2) $          (18) $      (0.05) $           \\nAdjustments for:\\nGain on sale of building -        -% 47           1.4% (47)        (1.4)% (11)          (36)        (0.10)             \\nRestructuring costs (a) 4           0.1% (71)          (2.2)% 75         2.3% 18            57         0.15              \\nNon-GAAP metrics 1,218$  37.2% 1,200 $    36.6% 18 $       0.5% 5 $            3 $         0.01 $            \\n____________________ADJUSTED STATEMENT OF OPERATIONS METRICS FOR THE FIRST QUARTER 2023\\n• Paid first  quarter dividend of $0.15 per share, totaling $ 55 million . Board of Directors approved \\nsecond quarter fiscal 202 3 dividend of $0.15 per share.   \\n \\nAdditional information regarding adjusted gross margin, adjusted operating income, adjusted operating \\nmargin, adjusted net income, adjusted diluted earnings per share, and free cash flow, all of which are non-GAAP financial measures, is provided at the end  of this press release along with a reconciliation of \\nthese measures from the most directly comparable GAAP financial measures for the applicable period.  \\n \\nFirst  Quarter Fiscal 202 3 – Global Brand Results  \\n Old Navy: \\n• Net sales  of $1.8 billion , down 1% com pared to last year.  Sales in the quarter were driven by \\ncontinued strength in the women’s category offset by continued softness in the active and kid ’s \\ncatego ries as well as continued slower  demand  from the lower -income consumer . \\n• Comparable sales were down 1 %. \\n \\nGap:\\nNon-GAAP metrics 1,218$  37.2% 1,200 $    36.6% 18 $       0.5% 5 $            3 $         0.01 $            \\n____________________ADJUSTED STATEMENT OF OPERATIONS METRICS FOR THE FIRST QUARTER 2023\\nThe following adjusted statement of operations metrics are non-GAAP financial measures. These measures are provided to enhance visibility into the Company's underlying\\nresults for the period excluding the impact of restructuring costs and a gain on sale of building. Management believes the adjusted metrics are useful for the assessment of\\nongoing operations as we believe the adjusted items are not indicative of our ongoing operations, and provide additional information to investors to facilitate the comparison\\nof results against past and future years. However, these non-GAAP financial measures are not intended to supersede or replace the GAAP measures.\\n\"}, {'role': 'user', 'content': \"What's the OP margin for the current quarter?\"}, {'role': 'assistant', 'content': 'The GAAP operating margin for the current quarter was -0.3%. After adjusting for specific non-recurring items, the operating margin improved to 0.5%.'}]}\n",
            "{'messages': [{'role': 'system', 'content': 'unwavering focus on the customer,” said Mayo Shattuck, Lead Independent Director, Gap Inc.  \\n \\nFirst  Quarter Fiscal 202 3 - Financial Results  \\n \\n• Net sales  of $3.28  billion , down 6 % compared to last year, inclusive of an estimated 1 -point \\nforeign exchange headwind and 2 percentage points of negative impact from the sale of Gap \\nChina.  Net sales were in line  with the company’s expectations for a mid-single digit decline in \\nthe quarter.   \\no Comparable sales were down 3 %.  \\no Store sales decreased 4% compared to last year.  The company ended the quarter with 3,453 store locations in over 40 countries, of which 2,601 were company operated.  \\no Online sales de creased 9% compared to last year and represented 37% of total net \\nsales .   \\n• Reported gross margin was 3 7.1%.  Excluding $4 million in restructuring costs, adjusted gross \\nmargin of 37.2%  increased 570 basis points versus last year.\\nof results against past and future years. However, these non-GAAP financial measures are not intended to supersede or replace the GAAP measures.\\n(a) Includes $62 million of employee-related costs and $13 million of consulting and other associated costs related to our previously announced actions to further simplify \\nand optimize our operating model and structure.\\n(b) Metrics were computed individually for each line item; therefore, the sum of the individual lines may not equal the total.The Gap, Inc.\\nNET SALES RESULTS\\nUNAUDITED\\nThe following table details the Company’s first quarter fiscal year 2023 and 2022 net sales (unaudited):\\n($ in millions)\\nU.S. (1) 1,659$     496$        374 $                309$         3 $             2,841$        \\nCanada 145          61            36                     10             -                 252             \\nEurope -                29            1                       1                -                 31\\nwhile doing right by its employ ees, communities, and planet.  Gap Inc. products are available for \\npurchase worldwide through company -operated stores, franchise stores, and e -commerce sites. Fiscal \\nyear 202 2 net sales were $ 15.6 billion. For more information, please  visit www.gapinc.com .    \\n Investor Relations Contact:  \\nNina Bari\\n \\nInvestor_relations@gap.com  \\n Media Relations Contact:  Megan Foote  \\nPress@gap.com\\n The Gap, Inc.\\nCONDENSED CONSOLIDATED BALANCE SHEETS\\nUNAUDITED\\n($ in millions) April 29, 2023 April 30, 2022\\nASSETS\\nCurrent assets:\\n    Cash and cash equivalents 1,170 $                845 $                   \\n    Merchandise inventory 2,299                   3,169                   \\n    Other current assets 814                      991                      \\n        Total current assets 4,283                   5,005                   \\nProperty and equipment, net 2,646                   2,791\\nAthleta:  \\n• Net sales of $ 321 million , down 11% compared to  last year.  Sales in the quarter were impacted \\nby continued product acceptance challenges .  \\n• Comparable sales were  down 13% .  \\n \\n \\nFiscal 2023 Outlook  \\n“As we look to the remainder of fiscal 2023, we believe we remain well positioned to drive continued \\nmargin expansion and improved cash flow relative to last year despite what we know continues to be an uncertain macro and consumer environment,” said Katrina O’Connell, Executive Vice President and Chief Financial Officer, Gap Inc. “We continue t o believe we are taking the right steps toward positioning Gap \\nInc. back on its path towards sustainable, profitable growth and delivering value for our shareholders over the long term.”  \\nThe company’s outlook takes into consideration the continued uncertai n consumer and macro \\nenvironment.  \\nThe company is estimating second quarter net sales could decrease in the  mid to high -single  digit range\\n'}, {'role': 'user', 'content': \"What were Gap Inc's net sales for the first quarter of fiscal 2023 and how did they compare to the previous year?\"}, {'role': 'assistant', 'content': 'Gap Inc. reported net sales of $3.28 billion for the first quarter of fiscal 2023, which represents a 6% decline compared to the previous year. This decline was partly due to the sale of Gap China and foreign exchange headwinds.'}]}\n",
            "{'messages': [{'role': 'system', 'content': 'Athleta:  \\n• Net sales of $ 321 million , down 11% compared to  last year.  Sales in the quarter were impacted \\nby continued product acceptance challenges .  \\n• Comparable sales were  down 13% .  \\n \\n \\nFiscal 2023 Outlook  \\n“As we look to the remainder of fiscal 2023, we believe we remain well positioned to drive continued \\nmargin expansion and improved cash flow relative to last year despite what we know continues to be an uncertain macro and consumer environment,” said Katrina O’Connell, Executive Vice President and Chief Financial Officer, Gap Inc. “We continue t o believe we are taking the right steps toward positioning Gap \\nInc. back on its path towards sustainable, profitable growth and delivering value for our shareholders over the long term.”  \\nThe company’s outlook takes into consideration the continued uncertai n consumer and macro \\nenvironment.  \\nThe company is estimating second quarter net sales could decrease in the  mid to high -single  digit range\\nenvironment.  \\nThe company is estimating second quarter net sales could decrease in the  mid to high -single  digit range  \\ncompared to last year’s net sales of $ 3.86  billion.  As a reminder, t he sale of Gap China to Baozun  Inc. \\nclosed on January 31, 2023. Second  quarter 2022 net sales included approximately $ 60 million in sales \\nfor Gap China.  \\n \\nThe company continues to anticipate  that fiscal 2023 net sales could decrease in the low to mid -single \\ndigit range compared to last year’s net sales of $15.6 billion .  As a reminder, fiscal 2022 net sales \\nincluded approximately $300 million in sales for Gap China. Fiscal 2023 will include a 53rd week \\nestimated to positively impact net sales by $150 million.     The company expect s second  quarter and fiscal 2023 gross margin expansion compared to the prior \\nyear. At the estimated level of sales described above, the company is planning adjusted SG&A of\\nmanaging inventory and integrating pack and hold inventory in fiscal 2023; expected ending inventory in \\nfiscal 2023; expected cash flow trends through fiscal 2023; paying down our asset -backed line of credit \\nin fiscal 2023 ; our dividend strategy; the expected impact of the Gap China transition, foreign exchange \\nheadwinds and an additional fiscal week on second quarter and fiscal 2023 net sales; expected second \\nquarter and fiscal 2023 net sales; expected second quarter and f iscal 2023 adjusted gross margin; \\nexpected gross margin improvement in fiscal 2023; expected air freight expense in the second quarter and fiscal 2023; expected inflationary impacts, including commodity costs and ocean freight rates, in the second quarter and fiscal 2023; expected inventory positions  and promotional  activity in the second \\nquarter and fiscal 2023; expected ROD in the second quarter and fiscal 2023; expected adjusted\\nquarter and fiscal 2023; expected ROD in the second quarter and fiscal 2023; expected adjusted \\noperating expenses/adjusted SG&A in the second quarter and fiscal 2023; incentive compensation and \\nwage inflation in the second quarter and fiscal 2023; expected capital expenditures in fiscal 2023; \\nexpected capital project investments in fiscal 2023; and expected store openings and closings in fiscal \\n2023.  \\n \\nBecause these forward -looking statements involve risks and uncertainties, there are important factors \\nthat could cause our actual results to differ materially from those in the forward -looking statements. \\nThese factors include, wi thout limitation, the following risks, any of which could have an adverse effect \\non our financial condition, results of operations, and reputation: the overall global economic and \\ngeopolitical environment and the impact on consumer spending patterns; the r isk that inflationary\\n'}, {'role': 'user', 'content': \"What is the company's outlook on net sales for the second quarter and the full fiscal year 2023?\"}, {'role': 'assistant', 'content': \"For the second quarter of fiscal 2023, Gap Inc. estimates that net sales may decrease in the mid to high-single digit range compared to the previous year's second quarter net sales of $3.86 billion. For the full fiscal year 2023, the company anticipates net sales could decrease in the low to mid-single digit range compared to the previous year's net sales of $15.6 billion.\"}]}\n",
            "{'messages': [{'role': 'system', 'content': \"Cash, cash equivalents, and restricted cash at end of period 1,198 $                  871 $                     \\n____________________\\n  \\n  13 Weeks Ended \\n(a) For the thirteen weeks ended April 29, 2023 and April 30, 2022, total cash, cash equivalents, and restricted cash includes $28 million\\nand $26 million, respectively, of restricted cash recorded within other long-term assets on the Condensed Consolidated Balance Sheets. Proceeds from issuances under share-based compensation plans\\nWithholding tax payments related to vesting of stock unitsThe Gap, Inc.\\nNON-GAAP FINANCIAL MEASURES\\nUNAUDITED\\n($ in millions) April 29, 2023 April 30, 2022\\nNet cash provided by (used for) operating activities 15 $                   (362) $                \\nLess: Purchases of property and equipment (117)                   (228)                   \\nFree cash flow (102) $                (590) $                FREE CASH FLOW\\nwhile doing right by its employ ees, communities, and planet.  Gap Inc. products are available for \\npurchase worldwide through company -operated stores, franchise stores, and e -commerce sites. Fiscal \\nyear 202 2 net sales were $ 15.6 billion. For more information, please  visit www.gapinc.com .    \\n Investor Relations Contact:  \\nNina Bari\\n \\nInvestor_relations@gap.com  \\n Media Relations Contact:  Megan Foote  \\nPress@gap.com\\n The Gap, Inc.\\nCONDENSED CONSOLIDATED BALANCE SHEETS\\nUNAUDITED\\n($ in millions) April 29, 2023 April 30, 2022\\nASSETS\\nCurrent assets:\\n    Cash and cash equivalents 1,170 $                845 $                   \\n    Merchandise inventory 2,299                   3,169                   \\n    Other current assets 814                      991                      \\n        Total current assets 4,283                   5,005                   \\nProperty and equipment, net 2,646                   2,791\\nTotal current liabilities 2,918                   3,472                   \\nLong-term liabilities:\\n    Revolving credit facility 350                      350                      \\n    Long-term debt 1,487                   1,485                   \\n    Long-term operating lease liabilities 3,453                   3,921                   \\n    Other long-term liabilities 539                      575                      \\n        Total long-term liabilities 5,829                   6,331                   \\nTotal stockholders' equity 2,185                   2,454                   \\n        Total liabilities and stockholders' equity 10,932 $              12,257 $              The Gap, Inc.\\nCONDENSED CONSOLIDATED STATEMENTS OF OPERATIONS\\nUNAUDITED\\n($ and shares in millions except per share amounts) April 29, 2023 April 30, 2022\\nNet sales 3,276 $              3,477 $              \\nCost of goods sold and occupancy expenses 2,062                 2,381\\nNet sales 3,276 $              3,477 $              \\nCost of goods sold and occupancy expenses 2,062                 2,381                 \\nGross profit 1,214                 1,096                 \\nOperating expenses 1,224                 1,293                 \\nOperating loss (10)                     (197)                   \\nInterest, net 10                      19                      \\nLoss before income taxes (20)                     (216)                   \\nIncome tax benefit (2)                       (54)                     \\nNet loss (18) $                  (162) $                \\nWeighted-average number of shares - basic 367                    370                    \\nWeighted-average number of shares - diluted 367                    370                    \\nNet loss per share - basic (0.05) $               (0.44) $               \\nNet loss per share - diluted (0.05) $               (0.44) $               13 Weeks EndedThe Gap, Inc.\\nCONDENSED CONSOLIDATED STATEMENTS OF CASH FLOWS\\n\"}, {'role': 'user', 'content': 'How much cash and cash equivalents did Gap, Inc. have at the end of the quarter?'}, {'role': 'assistant', 'content': 'Gap Inc. ended the first quarter of fiscal 2023 with cash and cash equivalents totaling $1.2 billion, which represents an increase of 38% from the prior year.'}]}\n",
            "{'messages': [{'role': 'system', 'content': 'environment.  \\nThe company is estimating second quarter net sales could decrease in the  mid to high -single  digit range  \\ncompared to last year’s net sales of $ 3.86  billion.  As a reminder, t he sale of Gap China to Baozun  Inc. \\nclosed on January 31, 2023. Second  quarter 2022 net sales included approximately $ 60 million in sales \\nfor Gap China.  \\n \\nThe company continues to anticipate  that fiscal 2023 net sales could decrease in the low to mid -single \\ndigit range compared to last year’s net sales of $15.6 billion .  As a reminder, fiscal 2022 net sales \\nincluded approximately $300 million in sales for Gap China. Fiscal 2023 will include a 53rd week \\nestimated to positively impact net sales by $150 million.     The company expect s second  quarter and fiscal 2023 gross margin expansion compared to the prior \\nyear. At the estimated level of sales described above, the company is planning adjusted SG&A of\\nmanaging inventory and integrating pack and hold inventory in fiscal 2023; expected ending inventory in \\nfiscal 2023; expected cash flow trends through fiscal 2023; paying down our asset -backed line of credit \\nin fiscal 2023 ; our dividend strategy; the expected impact of the Gap China transition, foreign exchange \\nheadwinds and an additional fiscal week on second quarter and fiscal 2023 net sales; expected second \\nquarter and fiscal 2023 net sales; expected second quarter and f iscal 2023 adjusted gross margin; \\nexpected gross margin improvement in fiscal 2023; expected air freight expense in the second quarter and fiscal 2023; expected inflationary impacts, including commodity costs and ocean freight rates, in the second quarter and fiscal 2023; expected inventory positions  and promotional  activity in the second \\nquarter and fiscal 2023; expected ROD in the second quarter and fiscal 2023; expected adjusted\\nyear. At the estimated level of sales described above, the company is planning adjusted SG&A of \\napproximately $1.3 billion in the second  quarter and continues to anticipate approximately  $5.2 billion \\nfor fiscal 2023.   \\n \\nThe company now expects fiscal 20 23 capital expenditures in the range of $500 million to $525 million, \\ncompared to its prior range of $500 million to $550 million, reflecting lower  capital project investments \\nand fewer Old Navy and Athleta store openings than previously contemplated.  \\n \\nWebcast and Conference Call Information  \\nCammeron McLaughlin, Head of Investor Relations at Gap Inc., will host a conference call to review the company’s first quarter fiscal 202 3 results beginning at approximately 2:00 p.m. Pacific Time toda y.  Ms. \\nMcLaughlin  will be joined by  Interim Chief Executive Officer Bob Martin and Chief Financial Officer \\nKatrina O’Connell.\\nquarter and fiscal 2023; expected ROD in the second quarter and fiscal 2023; expected adjusted \\noperating expenses/adjusted SG&A in the second quarter and fiscal 2023; incentive compensation and \\nwage inflation in the second quarter and fiscal 2023; expected capital expenditures in fiscal 2023; \\nexpected capital project investments in fiscal 2023; and expected store openings and closings in fiscal \\n2023.  \\n \\nBecause these forward -looking statements involve risks and uncertainties, there are important factors \\nthat could cause our actual results to differ materially from those in the forward -looking statements. \\nThese factors include, wi thout limitation, the following risks, any of which could have an adverse effect \\non our financial condition, results of operations, and reputation: the overall global economic and \\ngeopolitical environment and the impact on consumer spending patterns; the r isk that inflationary\\n'}, {'role': 'user', 'content': 'How does the company expect gross margin to change in Q2 and the full year compared to 2022?'}, {'role': 'assistant', 'content': 'Gap Inc. expects to see an expansion in gross margin for both the second quarter and the full fiscal year 2023 compared to 2022. This anticipated improvement reflects ongoing operational efficiencies and reduced cost pressures.'}]}\n",
            "{'messages': [{'role': 'system', 'content': 'Gap Inc. Reports First  Quarter Fiscal 2023 Results   \\n \\nSAN FRANCISCO – May 25 , 202 3 – Gap Inc . (NYSE: GPS), a portfolio of purpose -led, billion -dollar lifestyle  \\nbrands including Old Navy, Gap, Banana Republic, and Athleta, and the largest specialty apparel \\ncompany in the U.S ., today reported financial results for its first  quarter ended April 29, 202 3.  \\n “We continue to take the necessary actions to drive critical change at Gap Inc., ultimately getting us \\nback on a path toward delivering consistent results long -term,” said Bob Martin, Executive Chairman \\nand Interim CEO, Gap Inc. “While the macro and consum er environment remain uncertain, Q1 \\nunderscores our ability to deliver improvements to the business including share gains at Old Navy and \\nGap Brand, adjusted operating margin expansion, reduction in inventory, and strength in our balance \\nsheet. The need fo r lasting change is permeating the organization and I want to express my gratitude to\\n• Paid first  quarter dividend of $0.15 per share, totaling $ 55 million . Board of Directors approved \\nsecond quarter fiscal 202 3 dividend of $0.15 per share.   \\n \\nAdditional information regarding adjusted gross margin, adjusted operating income, adjusted operating \\nmargin, adjusted net income, adjusted diluted earnings per share, and free cash flow, all of which are non-GAAP financial measures, is provided at the end  of this press release along with a reconciliation of \\nthese measures from the most directly comparable GAAP financial measures for the applicable period.  \\n \\nFirst  Quarter Fiscal 202 3 – Global Brand Results  \\n Old Navy: \\n• Net sales  of $1.8 billion , down 1% com pared to last year.  Sales in the quarter were driven by \\ncontinued strength in the women’s category offset by continued softness in the active and kid ’s \\ncatego ries as well as continued slower  demand  from the lower -income consumer . \\n• Comparable sales were down 1 %. \\n \\nGap:\\nyear. At the estimated level of sales described above, the company is planning adjusted SG&A of \\napproximately $1.3 billion in the second  quarter and continues to anticipate approximately  $5.2 billion \\nfor fiscal 2023.   \\n \\nThe company now expects fiscal 20 23 capital expenditures in the range of $500 million to $525 million, \\ncompared to its prior range of $500 million to $550 million, reflecting lower  capital project investments \\nand fewer Old Navy and Athleta store openings than previously contemplated.  \\n \\nWebcast and Conference Call Information  \\nCammeron McLaughlin, Head of Investor Relations at Gap Inc., will host a conference call to review the company’s first quarter fiscal 202 3 results beginning at approximately 2:00 p.m. Pacific Time toda y.  Ms. \\nMcLaughlin  will be joined by  Interim Chief Executive Officer Bob Martin and Chief Financial Officer \\nKatrina O’Connell.\\nunwavering focus on the customer,” said Mayo Shattuck, Lead Independent Director, Gap Inc.  \\n \\nFirst  Quarter Fiscal 202 3 - Financial Results  \\n \\n• Net sales  of $3.28  billion , down 6 % compared to last year, inclusive of an estimated 1 -point \\nforeign exchange headwind and 2 percentage points of negative impact from the sale of Gap \\nChina.  Net sales were in line  with the company’s expectations for a mid-single digit decline in \\nthe quarter.   \\no Comparable sales were down 3 %.  \\no Store sales decreased 4% compared to last year.  The company ended the quarter with 3,453 store locations in over 40 countries, of which 2,601 were company operated.  \\no Online sales de creased 9% compared to last year and represented 37% of total net \\nsales .   \\n• Reported gross margin was 3 7.1%.  Excluding $4 million in restructuring costs, adjusted gross \\nmargin of 37.2%  increased 570 basis points versus last year.\\n'}, {'role': 'user', 'content': 'Did Gap Inc. pay a dividend in the first quarter, and what is their dividend strategy going forward?'}, {'role': 'assistant', 'content': 'Yes, Gap Inc. paid a dividend in the first quarter, with a payment of $0.15 per share totaling $55 million. The Board of Directors has approved a dividend of $0.15 per share for the second quarter of fiscal 2023 as well, indicating a consistent dividend strategy moving forward.'}]}\n",
            "{'messages': [{'role': 'system', 'content': 'Net sales 3,276 $              3,477 $              \\nCost of goods sold and occupancy expenses 2,062                 2,381                 \\nGross profit 1,214                 1,096                 \\nOperating expenses 1,224                 1,293                 \\nOperating loss (10)                     (197)                   \\nInterest, net 10                      19                      \\nLoss before income taxes (20)                     (216)                   \\nIncome tax benefit (2)                       (54)                     \\nNet loss (18) $                  (162) $                \\nWeighted-average number of shares - basic 367                    370                    \\nWeighted-average number of shares - diluted 367                    370                    \\nNet loss per share - basic (0.05) $               (0.44) $               \\nNet loss per share - diluted (0.05) $               (0.44) $               13 Weeks EndedThe Gap, Inc.\\nCONDENSED CONSOLIDATED STATEMENTS OF CASH FLOWS\\nNet loss per share - diluted (0.05) $               (0.44) $               13 Weeks EndedThe Gap, Inc.\\nCONDENSED CONSOLIDATED STATEMENTS OF CASH FLOWS\\nUNAUDITED\\n($ in millions)April 29, \\n2023 (a)April 30,\\n2022 (a)\\nCash flows from operating activities:\\nNet loss (18) $                     (162) $                   \\nDepreciation and amortization 137                        130                        \\nGain on sale of building (47)                        -                            \\nChange in merchandise inventory 83                          (166)                      \\nChange in accounts payable (102)                      (336)                      \\nChange in accrued expenses and other current liabilities (22)                        (236)                      \\nChange in income taxes payable, net of receivables and other tax-related items (49)                        369                        \\nOther, net 33                          39\\nwhile doing right by its employ ees, communities, and planet.  Gap Inc. products are available for \\npurchase worldwide through company -operated stores, franchise stores, and e -commerce sites. Fiscal \\nyear 202 2 net sales were $ 15.6 billion. For more information, please  visit www.gapinc.com .    \\n Investor Relations Contact:  \\nNina Bari\\n \\nInvestor_relations@gap.com  \\n Media Relations Contact:  Megan Foote  \\nPress@gap.com\\n The Gap, Inc.\\nCONDENSED CONSOLIDATED BALANCE SHEETS\\nUNAUDITED\\n($ in millions) April 29, 2023 April 30, 2022\\nASSETS\\nCurrent assets:\\n    Cash and cash equivalents 1,170 $                845 $                   \\n    Merchandise inventory 2,299                   3,169                   \\n    Other current assets 814                      991                      \\n        Total current assets 4,283                   5,005                   \\nProperty and equipment, net 2,646                   2,791\\nunwavering focus on the customer,” said Mayo Shattuck, Lead Independent Director, Gap Inc.  \\n \\nFirst  Quarter Fiscal 202 3 - Financial Results  \\n \\n• Net sales  of $3.28  billion , down 6 % compared to last year, inclusive of an estimated 1 -point \\nforeign exchange headwind and 2 percentage points of negative impact from the sale of Gap \\nChina.  Net sales were in line  with the company’s expectations for a mid-single digit decline in \\nthe quarter.   \\no Comparable sales were down 3 %.  \\no Store sales decreased 4% compared to last year.  The company ended the quarter with 3,453 store locations in over 40 countries, of which 2,601 were company operated.  \\no Online sales de creased 9% compared to last year and represented 37% of total net \\nsales .   \\n• Reported gross margin was 3 7.1%.  Excluding $4 million in restructuring costs, adjusted gross \\nmargin of 37.2%  increased 570 basis points versus last year.\\n'}, {'role': 'user', 'content': 'Did Gap Inc. have an operating profit or loss, and if so, what was the amount?'}, {'role': 'assistant', 'content': 'Gap Inc. reported an operating loss of $10 million for the quarter, as per the GAAP metrics. The operating margin was negative 0.3%.'}]}\n"
          ]
        }
      ],
      "source": [
        "path = '/content/drive/Shareddrives/Data255_Lab/Lab2/part3/qa_data.jsonl'\n",
        "\n",
        "with open(path, 'r') as file:\n",
        "    for line in file:\n",
        "        record = json.loads(line)\n",
        "        print(record)"
      ]
    },
    {
      "cell_type": "code",
      "execution_count": null,
      "metadata": {
        "id": "OStL33duwfTN"
      },
      "outputs": [],
      "source": [
        "client = OpenAI(api_key = OPENAI_API_KEY)"
      ]
    },
    {
      "cell_type": "code",
      "execution_count": null,
      "metadata": {
        "colab": {
          "base_uri": "https://localhost:8080/"
        },
        "id": "BdyG6v7zf-6a",
        "outputId": "484a6314-c878-423d-dc83-2e04a7c9a8ed"
      },
      "outputs": [
        {
          "data": {
            "text/plain": [
              "FileObject(id='file-aNDnTpZzT2I0vrSIDJ5Yfl3u', bytes=42789, created_at=1713918057, filename='qa_data.jsonl', object='file', purpose='fine-tune', status='processed', status_details=None)"
            ]
          },
          "execution_count": 35,
          "metadata": {},
          "output_type": "execute_result"
        }
      ],
      "source": [
        "client.files.create(\n",
        "    file=Path(\"/content/drive/Shareddrives/Data255_Lab/Lab2/part3/qa_data.jsonl\"),\n",
        "    purpose=\"fine-tune\",\n",
        ")"
      ]
    },
    {
      "cell_type": "code",
      "execution_count": null,
      "metadata": {
        "id": "6avP-y3QgZrQ"
      },
      "outputs": [],
      "source": [
        "try:\n",
        "    client.fine_tuning.jobs.create(\n",
        "        model=\"gpt-3.5-turbo\",\n",
        "        training_file=\"file-aNDnTpZzT2I0vrSIDJ5Yfl3u\",\n",
        "    )\n",
        "except openai.APIConnectionError as e:\n",
        "    print(\"The server could not be reached\")\n",
        "    print(e.__cause__)  # an underlying Exception, likely raised within httpx.\n",
        "except openai.RateLimitError as e:\n",
        "    print(\"A 429 status code was received; we should back off a bit.\")\n",
        "except openai.APIStatusError as e:\n",
        "    print(\"Another non-200-range status code was received\")\n",
        "    print(e.status_code)\n",
        "    print(e.response)"
      ]
    },
    {
      "cell_type": "code",
      "execution_count": null,
      "metadata": {
        "colab": {
          "base_uri": "https://localhost:8080/"
        },
        "id": "QICu_3CxiWwH",
        "outputId": "d796f65c-8191-4542-a7bf-33b9be6b4763"
      },
      "outputs": [
        {
          "data": {
            "text/plain": [
              "SyncCursorPage[FineTuningJob](data=[FineTuningJob(id='ftjob-XS30cb2tbB4rhG3yrOzZXFR6', created_at=1713918066, error=Error(code=None, message=None, param=None, error=None), fine_tuned_model='ft:gpt-3.5-turbo-0125:personal::9HKlwuuf', finished_at=1713918451, hyperparameters=Hyperparameters(n_epochs=10, batch_size=1, learning_rate_multiplier=2), model='gpt-3.5-turbo-0125', object='fine_tuning.job', organization_id='org-o0KWL7PVTECPL0Oa0Xhu5lzf', result_files=['file-3YYLVKQeVHK4x07rfFGfOfEG'], seed=1882576823, status='succeeded', trained_tokens=93280, training_file='file-aNDnTpZzT2I0vrSIDJ5Yfl3u', validation_file=None, integrations=[], user_provided_suffix=None)], object='list', has_more=True)"
            ]
          },
          "execution_count": 18,
          "metadata": {},
          "output_type": "execute_result"
        }
      ],
      "source": [
        "# List 1 fine-tuning jobs\n",
        "client.fine_tuning.jobs.list(limit=1)"
      ]
    },
    {
      "cell_type": "code",
      "execution_count": null,
      "metadata": {
        "colab": {
          "base_uri": "https://localhost:8080/"
        },
        "id": "xev_oEOmlS_n",
        "outputId": "cd930749-c76d-4ae9-e908-d14d527a3d37"
      },
      "outputs": [
        {
          "data": {
            "text/plain": [
              "ChatCompletionMessage(content='The reported quarter is the first financial quarter of 2023. The quarter ended on April 29, 2023', role='assistant', function_call=None, tool_calls=None)"
            ]
          },
          "execution_count": 34,
          "metadata": {},
          "output_type": "execute_result"
        }
      ],
      "source": [
        "# Get output from fine-tuned model\n",
        "completion = client.chat.completions.create(\n",
        "  model=\"ft:gpt-3.5-turbo-0125:personal::9HKlwuuf\",\n",
        "  messages=[\n",
        "      {\"role\": \"system\", \"content\": content_2},\n",
        "      {\"role\": \"user\", \"content\": \"What is the report quarter and when did it end?\"}\n",
        "  ]\n",
        ")\n",
        "\n",
        "completion.choices[0].message"
      ]
    },
    {
      "cell_type": "code",
      "execution_count": null,
      "metadata": {
        "colab": {
          "base_uri": "https://localhost:8080/"
        },
        "id": "HdzD2LpdyCS_",
        "outputId": "69836fd8-4947-4924-e4a6-7fdfa99cba48"
      },
      "outputs": [
        {
          "data": {
            "text/plain": [
              "ChatCompletionMessage(content='The company should aim to recover 80% of 500 tons, which is: Recovery target = 80% of 500 tons = 0.80 × 500 tons = 400 tons So, the company should aim to recover 400 tons of plastic packaging each year.', role='assistant', function_call=None, tool_calls=None)"
            ]
          },
          "execution_count": 35,
          "metadata": {},
          "output_type": "execute_result"
        }
      ],
      "source": [
        "# Get output from fine-tuned model\n",
        "completion = client.chat.completions.create(\n",
        "  model=\"ft:gpt-3.5-turbo-0125:personal::9HKlwuuf\",\n",
        "  messages=[\n",
        "      {\"role\": \"system\", \"content\": content_1},\n",
        "      {\"role\": \"user\", \"content\": \"A company produces 500 tons of plastic packaging annually and is subject to an Extended Producer Responsibility (EPR) scheme with a recovery target of 80%. How many tons of plastic packaging should the company aim to recover each year to meet the EPR requirement?\"}\n",
        "  ]\n",
        ")\n",
        "\n",
        "completion.choices[0].message"
      ]
    },
    {
      "cell_type": "code",
      "execution_count": null,
      "metadata": {
        "colab": {
          "base_uri": "https://localhost:8080/"
        },
        "id": "5wVJgk2pzcwy",
        "outputId": "b3042190-82e1-4ddf-85ed-c6ca8861d664"
      },
      "outputs": [
        {
          "data": {
            "text/plain": [
              "['The reported quarter is the first financial quarter of 2023. The quarter ended on April 29, 2023',\n",
              " 'The company should aim to recover 80% of 500 tons, which is: Recovery target = 80% of 500 tons = 0.80 × 500 tons = 400 tons So, the company should aim to recover 400 tons of plastic packaging each year.']"
            ]
          },
          "execution_count": 42,
          "metadata": {},
          "output_type": "execute_result"
        }
      ],
      "source": [
        "predictions = []\n",
        "\n",
        "predictions.append(\"The reported quarter is the first financial quarter of 2023. The quarter ended on April 29, 2023\")\n",
        "predictions.append(\"The company should aim to recover 80% of 500 tons, which is: Recovery target = 80% of 500 tons = 0.80 × 500 tons = 400 tons So, the company should aim to recover 400 tons of plastic packaging each year.\")\n",
        "predictions"
      ]
    },
    {
      "cell_type": "code",
      "execution_count": null,
      "metadata": {
        "colab": {
          "base_uri": "https://localhost:8080/"
        },
        "id": "quqbMhXouv5B",
        "outputId": "ad31266a-fe9f-4cba-9d0c-1599067b45ee"
      },
      "outputs": [
        {
          "name": "stderr",
          "output_type": "stream",
          "text": [
            "/usr/local/lib/python3.10/dist-packages/datasets/load.py:759: FutureWarning: The repository for rouge contains custom code which must be executed to correctly load the metric. You can inspect the repository content at https://raw.githubusercontent.com/huggingface/datasets/2.19.0/metrics/rouge/rouge.py\n",
            "You can avoid this message in future by passing the argument `trust_remote_code=True`.\n",
            "Passing `trust_remote_code=True` will be mandatory to load this metric from the next major release of `datasets`.\n",
            "  warnings.warn(\n"
          ]
        },
        {
          "data": {
            "text/plain": [
              "{'rouge1': AggregateScore(low=Score(precision=1.0, recall=0.6666666666666666, fmeasure=0.8), mid=Score(precision=1.0, recall=0.8333333333333333, fmeasure=0.9), high=Score(precision=1.0, recall=1.0, fmeasure=1.0)),\n",
              " 'rouge2': AggregateScore(low=Score(precision=0.918918918918919, recall=0.6071428571428571, fmeasure=0.7311827956989247), mid=Score(precision=0.9594594594594594, recall=0.8035714285714286, fmeasure=0.8655913978494624), high=Score(precision=1.0, recall=1.0, fmeasure=1.0)),\n",
              " 'rougeL': AggregateScore(low=Score(precision=0.9736842105263158, recall=0.6491228070175439, fmeasure=0.7789473684210527), mid=Score(precision=0.986842105263158, recall=0.8245614035087719, fmeasure=0.8894736842105264), high=Score(precision=1.0, recall=1.0, fmeasure=1.0)),\n",
              " 'rougeLsum': AggregateScore(low=Score(precision=0.9736842105263158, recall=0.6491228070175439, fmeasure=0.7789473684210527), mid=Score(precision=0.986842105263158, recall=0.8245614035087719, fmeasure=0.8894736842105264), high=Score(precision=1.0, recall=1.0, fmeasure=1.0))}"
            ]
          },
          "execution_count": 38,
          "metadata": {},
          "output_type": "execute_result"
        }
      ],
      "source": [
        "# Load the ROUGE metric\n",
        "rouge = load_metric('rouge')\n",
        "\n",
        "references = [\n",
        "    [\"The reported quarter is the first financial quarter of 2023. The quarter ended on April 29, 2023\"],\n",
        "    [\"EPR Recovery Target Calculation: To meet the recovery target of 80%, the company should aim to recover 80% 80% of 500 tons, which is: Recovery Target=80%×500 tons=0.80×500 tons=400 tons Recovery Target=80%×500tons=0.80×500tons=400tons So, the company should aim to recover 400 tons of plastic packaging each year.\"]\n",
        "]\n",
        "\n",
        "# Compute ROUGE scores\n",
        "results = rouge.compute(predictions=predictions, references=references)\n",
        "results"
      ]
    },
    {
      "cell_type": "code",
      "execution_count": null,
      "metadata": {
        "colab": {
          "base_uri": "https://localhost:8080/"
        },
        "id": "istq89Gkzvmp",
        "outputId": "182205e1-59f8-463a-e091-0509cc4ebb14"
      },
      "outputs": [
        {
          "data": {
            "text/plain": [
              "{'bleu': 0.7563892245243717,\n",
              " 'precisions': [0.9333333333333333, 0.8904109589041096],\n",
              " 'brevity_penalty': 0.8297202637161937,\n",
              " 'length_ratio': 0.8426966292134831,\n",
              " 'translation_length': 75,\n",
              " 'reference_length': 89}"
            ]
          },
          "execution_count": 46,
          "metadata": {},
          "output_type": "execute_result"
        }
      ],
      "source": [
        "bleu = evaluate.load('bleu')\n",
        "\n",
        "references = [\n",
        "    [\"The reported quarter is the first financial quarter of 2023. The quarter ended on April 29, 2023\"],\n",
        "    [\"EPR Recovery Target Calculation: To meet the recovery target of 80%, the company should aim to recover 80% 80% of 500 tons, which is: Recovery Target=80%×500 tons=0.80×500 tons=400 tons Recovery Target=80%×500tons=0.80×500tons=400tons So, the company should aim to recover 400 tons of plastic packaging each year.\"]\n",
        "]\n",
        "\n",
        "results = bleu.compute(predictions=predictions, references=references,\n",
        "          max_order = 2)\n",
        "results"
      ]
    }
  ],
  "metadata": {
    "accelerator": "GPU",
    "colab": {
      "collapsed_sections": [
        "grWUdZ4iCNPx",
        "nEwRvWQNFEAZ",
        "JZuHDXUFQvXJ"
      ],
      "gpuType": "A100",
      "machine_shape": "hm",
      "provenance": []
    },
    "kernelspec": {
      "display_name": "Python 3",
      "name": "python3"
    },
    "language_info": {
      "name": "python"
    }
  },
  "nbformat": 4,
  "nbformat_minor": 0
}
